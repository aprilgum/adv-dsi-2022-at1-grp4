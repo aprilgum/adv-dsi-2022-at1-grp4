{
 "cells": [
  {
   "cell_type": "markdown",
   "id": "6276bbc5-f8fc-454a-b837-5f4d1a00d421",
   "metadata": {},
   "source": [
    "# Xgboost All Features\n",
    "\n",
    "No standardisation\n",
    "\n",
    "Pre-requisite: nommesen_april-week2-prepare_data.ipynb"
   ]
  },
  {
   "cell_type": "code",
   "execution_count": 30,
   "id": "d4477d6a-0e30-4726-9f9f-7a37121ab15b",
   "metadata": {},
   "outputs": [],
   "source": [
    "import pandas as pd\n",
    "import numpy as np\n",
    "import math\n",
    "\n",
    "# SKLearn\n",
    "from sklearn.model_selection import train_test_split\n",
    "# from sklearn.svm import SVC\n",
    "from sklearn import metrics\n",
    "from sklearn.metrics import classification_report\n",
    "from sklearn.metrics import accuracy_score\n",
    "from sklearn.inspection import permutation_importance\n",
    "\n",
    "import xgboost as xgb\n",
    "\n",
    "from hyperopt import Trials, STATUS_OK, tpe, hp, fmin\n",
    "\n",
    "import matplotlib.pyplot as plt\n",
    "import seaborn as sns\n",
    "\n",
    "import joblib\n"
   ]
  },
  {
   "cell_type": "markdown",
   "id": "83a0cb66-0efb-489b-bd5f-3745ebe63071",
   "metadata": {},
   "source": [
    "## Loading the training data set"
   ]
  },
  {
   "cell_type": "code",
   "execution_count": 2,
   "id": "acae11f8-7074-4c7f-a718-923011390283",
   "metadata": {},
   "outputs": [
    {
     "name": "stdout",
     "output_type": "stream",
     "text": [
      "Dimension of training data - unsplit (8000, 21)\n"
     ]
    },
    {
     "data": {
      "text/html": [
       "<div>\n",
       "<style scoped>\n",
       "    .dataframe tbody tr th:only-of-type {\n",
       "        vertical-align: middle;\n",
       "    }\n",
       "\n",
       "    .dataframe tbody tr th {\n",
       "        vertical-align: top;\n",
       "    }\n",
       "\n",
       "    .dataframe thead th {\n",
       "        text-align: right;\n",
       "    }\n",
       "</style>\n",
       "<table border=\"1\" class=\"dataframe\">\n",
       "  <thead>\n",
       "    <tr style=\"text-align: right;\">\n",
       "      <th></th>\n",
       "      <th>ID</th>\n",
       "      <th>Games Played</th>\n",
       "      <th>Minutes Played</th>\n",
       "      <th>Points Per Game</th>\n",
       "      <th>Field Goals Made</th>\n",
       "      <th>Field Goals Attempts</th>\n",
       "      <th>Field Goals Percent</th>\n",
       "      <th>3Points Made</th>\n",
       "      <th>3Points Attempts</th>\n",
       "      <th>3Points Percent</th>\n",
       "      <th>...</th>\n",
       "      <th>Free Throw Attempts</th>\n",
       "      <th>Free Throw Percent</th>\n",
       "      <th>Offensive Rebounds</th>\n",
       "      <th>Defensive Rebounds</th>\n",
       "      <th>Rebounds</th>\n",
       "      <th>Assists</th>\n",
       "      <th>Steals</th>\n",
       "      <th>Blocks</th>\n",
       "      <th>Turnovers</th>\n",
       "      <th>TARGET_5Yrs</th>\n",
       "    </tr>\n",
       "  </thead>\n",
       "  <tbody>\n",
       "    <tr>\n",
       "      <th>0</th>\n",
       "      <td>3799.0</td>\n",
       "      <td>80.0</td>\n",
       "      <td>24.3</td>\n",
       "      <td>7.8</td>\n",
       "      <td>3.0</td>\n",
       "      <td>6.4</td>\n",
       "      <td>45.7</td>\n",
       "      <td>0.1</td>\n",
       "      <td>0.3</td>\n",
       "      <td>22.6</td>\n",
       "      <td>...</td>\n",
       "      <td>2.9</td>\n",
       "      <td>72.1</td>\n",
       "      <td>2.2</td>\n",
       "      <td>2.0</td>\n",
       "      <td>3.8</td>\n",
       "      <td>3.2</td>\n",
       "      <td>1.1</td>\n",
       "      <td>0.2</td>\n",
       "      <td>1.6</td>\n",
       "      <td>1</td>\n",
       "    </tr>\n",
       "    <tr>\n",
       "      <th>1</th>\n",
       "      <td>3800.0</td>\n",
       "      <td>75.0</td>\n",
       "      <td>21.8</td>\n",
       "      <td>10.5</td>\n",
       "      <td>4.2</td>\n",
       "      <td>7.9</td>\n",
       "      <td>55.1</td>\n",
       "      <td>-0.3</td>\n",
       "      <td>-1.0</td>\n",
       "      <td>34.9</td>\n",
       "      <td>...</td>\n",
       "      <td>3.6</td>\n",
       "      <td>67.8</td>\n",
       "      <td>3.6</td>\n",
       "      <td>3.7</td>\n",
       "      <td>6.6</td>\n",
       "      <td>0.7</td>\n",
       "      <td>0.5</td>\n",
       "      <td>0.6</td>\n",
       "      <td>1.4</td>\n",
       "      <td>1</td>\n",
       "    </tr>\n",
       "    <tr>\n",
       "      <th>2</th>\n",
       "      <td>3801.0</td>\n",
       "      <td>85.0</td>\n",
       "      <td>19.1</td>\n",
       "      <td>4.5</td>\n",
       "      <td>1.9</td>\n",
       "      <td>4.5</td>\n",
       "      <td>42.8</td>\n",
       "      <td>0.4</td>\n",
       "      <td>1.2</td>\n",
       "      <td>34.3</td>\n",
       "      <td>...</td>\n",
       "      <td>0.6</td>\n",
       "      <td>75.7</td>\n",
       "      <td>0.6</td>\n",
       "      <td>1.8</td>\n",
       "      <td>2.4</td>\n",
       "      <td>0.8</td>\n",
       "      <td>0.4</td>\n",
       "      <td>0.2</td>\n",
       "      <td>0.6</td>\n",
       "      <td>1</td>\n",
       "    </tr>\n",
       "    <tr>\n",
       "      <th>3</th>\n",
       "      <td>3802.0</td>\n",
       "      <td>63.0</td>\n",
       "      <td>19.1</td>\n",
       "      <td>8.2</td>\n",
       "      <td>3.5</td>\n",
       "      <td>6.7</td>\n",
       "      <td>52.5</td>\n",
       "      <td>0.3</td>\n",
       "      <td>0.8</td>\n",
       "      <td>23.7</td>\n",
       "      <td>...</td>\n",
       "      <td>1.5</td>\n",
       "      <td>66.9</td>\n",
       "      <td>0.8</td>\n",
       "      <td>2.0</td>\n",
       "      <td>3.0</td>\n",
       "      <td>1.8</td>\n",
       "      <td>0.4</td>\n",
       "      <td>0.1</td>\n",
       "      <td>1.9</td>\n",
       "      <td>1</td>\n",
       "    </tr>\n",
       "    <tr>\n",
       "      <th>4</th>\n",
       "      <td>3803.0</td>\n",
       "      <td>63.0</td>\n",
       "      <td>17.8</td>\n",
       "      <td>3.7</td>\n",
       "      <td>1.7</td>\n",
       "      <td>3.4</td>\n",
       "      <td>50.8</td>\n",
       "      <td>0.5</td>\n",
       "      <td>1.4</td>\n",
       "      <td>13.7</td>\n",
       "      <td>...</td>\n",
       "      <td>0.5</td>\n",
       "      <td>54.0</td>\n",
       "      <td>2.4</td>\n",
       "      <td>2.7</td>\n",
       "      <td>4.9</td>\n",
       "      <td>0.4</td>\n",
       "      <td>0.4</td>\n",
       "      <td>0.6</td>\n",
       "      <td>0.7</td>\n",
       "      <td>1</td>\n",
       "    </tr>\n",
       "  </tbody>\n",
       "</table>\n",
       "<p>5 rows × 21 columns</p>\n",
       "</div>"
      ],
      "text/plain": [
       "       ID  Games Played  Minutes Played  Points Per Game  Field Goals Made  \\\n",
       "0  3799.0          80.0            24.3              7.8               3.0   \n",
       "1  3800.0          75.0            21.8             10.5               4.2   \n",
       "2  3801.0          85.0            19.1              4.5               1.9   \n",
       "3  3802.0          63.0            19.1              8.2               3.5   \n",
       "4  3803.0          63.0            17.8              3.7               1.7   \n",
       "\n",
       "   Field Goals Attempts  Field Goals Percent  3Points Made  3Points Attempts  \\\n",
       "0                   6.4                 45.7           0.1               0.3   \n",
       "1                   7.9                 55.1          -0.3              -1.0   \n",
       "2                   4.5                 42.8           0.4               1.2   \n",
       "3                   6.7                 52.5           0.3               0.8   \n",
       "4                   3.4                 50.8           0.5               1.4   \n",
       "\n",
       "   3Points Percent  ...  Free Throw Attempts  Free Throw Percent  \\\n",
       "0             22.6  ...                  2.9                72.1   \n",
       "1             34.9  ...                  3.6                67.8   \n",
       "2             34.3  ...                  0.6                75.7   \n",
       "3             23.7  ...                  1.5                66.9   \n",
       "4             13.7  ...                  0.5                54.0   \n",
       "\n",
       "   Offensive Rebounds  Defensive Rebounds  Rebounds  Assists  Steals  Blocks  \\\n",
       "0                 2.2                 2.0       3.8      3.2     1.1     0.2   \n",
       "1                 3.6                 3.7       6.6      0.7     0.5     0.6   \n",
       "2                 0.6                 1.8       2.4      0.8     0.4     0.2   \n",
       "3                 0.8                 2.0       3.0      1.8     0.4     0.1   \n",
       "4                 2.4                 2.7       4.9      0.4     0.4     0.6   \n",
       "\n",
       "   Turnovers  TARGET_5Yrs  \n",
       "0        1.6            1  \n",
       "1        1.4            1  \n",
       "2        0.6            1  \n",
       "3        1.9            1  \n",
       "4        0.7            1  \n",
       "\n",
       "[5 rows x 21 columns]"
      ]
     },
     "execution_count": 2,
     "metadata": {},
     "output_type": "execute_result"
    }
   ],
   "source": [
    "alltrain = np.load('../data/processed/alltrain.npy')\n",
    "\n",
    "print(\"Dimension of training data - unsplit\", alltrain.shape)\n",
    "\n",
    "df_alltrain = pd.DataFrame(alltrain, \n",
    "             columns=['ID',\n",
    "                 'Games Played', \n",
    "    'Minutes Played',\n",
    "    'Points Per Game',\n",
    "    'Field Goals Made',\n",
    "    'Field Goals Attempts',\n",
    "    'Field Goals Percent',\n",
    "    '3Points Made',\n",
    "    '3Points Attempts',\n",
    "    '3Points Percent',\n",
    "    'Free Throw Made',\n",
    "    'Free Throw Attempts',\n",
    "    'Free Throw Percent',\n",
    "    'Offensive Rebounds',\n",
    "    'Defensive Rebounds',\n",
    "    'Rebounds',\n",
    "    'Assists',\n",
    "    'Steals',\n",
    "    'Blocks',\n",
    "    'Turnovers',\n",
    "     'TARGET_5Yrs'\n",
    "                     ])\n",
    "\n",
    "df_alltrain['TARGET_5Yrs'] = df_alltrain['TARGET_5Yrs'].astype(dtype ='int64')\n",
    "df_alltrain['ID'] = df_alltrain['ID'].astype(dtype ='str')\n",
    "\n",
    "df_alltrain.head()"
   ]
  },
  {
   "cell_type": "code",
   "execution_count": 3,
   "id": "5bd4e939-d7a8-4d58-a7d6-1db8ea7d7735",
   "metadata": {},
   "outputs": [
    {
     "data": {
      "text/plain": [
       "1    6669\n",
       "0    1331\n",
       "Name: TARGET_5Yrs, dtype: int64"
      ]
     },
     "execution_count": 3,
     "metadata": {},
     "output_type": "execute_result"
    }
   ],
   "source": [
    "df_alltrain['TARGET_5Yrs'].value_counts()"
   ]
  },
  {
   "cell_type": "markdown",
   "id": "c852e9aa-64cd-46fc-8a81-ec463df2147b",
   "metadata": {},
   "source": [
    "## Feature selection\n",
    "All features are used"
   ]
  },
  {
   "cell_type": "code",
   "execution_count": 4,
   "id": "d2467da6-3d62-4efd-904c-46f858d2895d",
   "metadata": {},
   "outputs": [],
   "source": [
    "target = df_alltrain.pop('TARGET_5Yrs')\n",
    "features = df_alltrain[['Games Played', \n",
    "    'Minutes Played',\n",
    "    'Points Per Game',\n",
    "    'Field Goals Made',\n",
    "    'Field Goals Attempts',\n",
    "    'Field Goals Percent',\n",
    "    '3Points Made',\n",
    "    '3Points Attempts',\n",
    "    '3Points Percent',\n",
    "    'Free Throw Made',\n",
    "    'Free Throw Attempts',\n",
    "    'Free Throw Percent',\n",
    "    'Offensive Rebounds',\n",
    "    'Defensive Rebounds',\n",
    "    'Rebounds',\n",
    "    'Assists',\n",
    "    'Steals',\n",
    "    'Blocks',\n",
    "    'Turnovers']]\n",
    "\n",
    "# target.info()\n",
    "# features.info()"
   ]
  },
  {
   "cell_type": "markdown",
   "id": "a767105e-7b26-4a73-92fe-5b54c2783487",
   "metadata": {},
   "source": [
    "## Splitting data\n",
    "Split randomly the dataset with random_state=8 into 2 different sets: training data (80%) and validation data (20%)"
   ]
  },
  {
   "cell_type": "code",
   "execution_count": 5,
   "id": "694b53fe-7df6-4839-8bac-d3fd3ee33d40",
   "metadata": {},
   "outputs": [
    {
     "name": "stdout",
     "output_type": "stream",
     "text": [
      "Dimension of features training data (6400, 19)\n",
      "Dimension of target training data (6400,)\n",
      "Dimension of features validation data (1600, 19)\n",
      "Dimension of targer validation data (1600,)\n"
     ]
    }
   ],
   "source": [
    "X_train, X_val, y_train, y_val = train_test_split (features, \n",
    "                                                   target,\n",
    "                                                   test_size=0.2,\n",
    "                                                   random_state=8\n",
    "                                                  )\n",
    "\n",
    "print(\"Dimension of features training data\", X_train.shape)\n",
    "print(\"Dimension of target training data\", y_train.shape)\n",
    "print(\"Dimension of features validation data\", X_val.shape)\n",
    "print(\"Dimension of targer validation data\", y_val.shape)"
   ]
  },
  {
   "cell_type": "code",
   "execution_count": 6,
   "id": "9869cf19-cdc7-42d7-adf6-0afe3a7a7fa8",
   "metadata": {},
   "outputs": [
    {
     "data": {
      "text/html": [
       "<div>\n",
       "<style scoped>\n",
       "    .dataframe tbody tr th:only-of-type {\n",
       "        vertical-align: middle;\n",
       "    }\n",
       "\n",
       "    .dataframe tbody tr th {\n",
       "        vertical-align: top;\n",
       "    }\n",
       "\n",
       "    .dataframe thead th {\n",
       "        text-align: right;\n",
       "    }\n",
       "</style>\n",
       "<table border=\"1\" class=\"dataframe\">\n",
       "  <thead>\n",
       "    <tr style=\"text-align: right;\">\n",
       "      <th></th>\n",
       "      <th>Games Played</th>\n",
       "      <th>Minutes Played</th>\n",
       "      <th>Points Per Game</th>\n",
       "      <th>Field Goals Made</th>\n",
       "      <th>Field Goals Attempts</th>\n",
       "      <th>Field Goals Percent</th>\n",
       "      <th>3Points Made</th>\n",
       "      <th>3Points Attempts</th>\n",
       "      <th>3Points Percent</th>\n",
       "      <th>Free Throw Made</th>\n",
       "      <th>Free Throw Attempts</th>\n",
       "      <th>Free Throw Percent</th>\n",
       "      <th>Offensive Rebounds</th>\n",
       "      <th>Defensive Rebounds</th>\n",
       "      <th>Rebounds</th>\n",
       "      <th>Assists</th>\n",
       "      <th>Steals</th>\n",
       "      <th>Blocks</th>\n",
       "      <th>Turnovers</th>\n",
       "    </tr>\n",
       "  </thead>\n",
       "  <tbody>\n",
       "    <tr>\n",
       "      <th>3617</th>\n",
       "      <td>64.0</td>\n",
       "      <td>13.9</td>\n",
       "      <td>4.3</td>\n",
       "      <td>1.5</td>\n",
       "      <td>3.6</td>\n",
       "      <td>43.0</td>\n",
       "      <td>-0.2</td>\n",
       "      <td>-0.1</td>\n",
       "      <td>11.9</td>\n",
       "      <td>1.4</td>\n",
       "      <td>1.9</td>\n",
       "      <td>69.2</td>\n",
       "      <td>0.6</td>\n",
       "      <td>1.7</td>\n",
       "      <td>2.2</td>\n",
       "      <td>0.6</td>\n",
       "      <td>0.4</td>\n",
       "      <td>0.1</td>\n",
       "      <td>0.7</td>\n",
       "    </tr>\n",
       "    <tr>\n",
       "      <th>1120</th>\n",
       "      <td>81.0</td>\n",
       "      <td>20.8</td>\n",
       "      <td>7.6</td>\n",
       "      <td>2.7</td>\n",
       "      <td>6.2</td>\n",
       "      <td>44.8</td>\n",
       "      <td>0.4</td>\n",
       "      <td>1.1</td>\n",
       "      <td>12.1</td>\n",
       "      <td>1.8</td>\n",
       "      <td>2.1</td>\n",
       "      <td>79.0</td>\n",
       "      <td>1.7</td>\n",
       "      <td>4.0</td>\n",
       "      <td>5.6</td>\n",
       "      <td>0.7</td>\n",
       "      <td>0.6</td>\n",
       "      <td>0.1</td>\n",
       "      <td>1.3</td>\n",
       "    </tr>\n",
       "    <tr>\n",
       "      <th>3873</th>\n",
       "      <td>50.0</td>\n",
       "      <td>5.6</td>\n",
       "      <td>1.4</td>\n",
       "      <td>0.5</td>\n",
       "      <td>1.5</td>\n",
       "      <td>36.4</td>\n",
       "      <td>0.0</td>\n",
       "      <td>0.5</td>\n",
       "      <td>-3.1</td>\n",
       "      <td>0.2</td>\n",
       "      <td>0.2</td>\n",
       "      <td>68.6</td>\n",
       "      <td>0.1</td>\n",
       "      <td>0.2</td>\n",
       "      <td>0.4</td>\n",
       "      <td>1.5</td>\n",
       "      <td>0.4</td>\n",
       "      <td>-0.3</td>\n",
       "      <td>0.3</td>\n",
       "    </tr>\n",
       "    <tr>\n",
       "      <th>153</th>\n",
       "      <td>72.0</td>\n",
       "      <td>19.3</td>\n",
       "      <td>5.0</td>\n",
       "      <td>2.0</td>\n",
       "      <td>5.0</td>\n",
       "      <td>40.4</td>\n",
       "      <td>0.1</td>\n",
       "      <td>0.5</td>\n",
       "      <td>25.3</td>\n",
       "      <td>0.9</td>\n",
       "      <td>1.6</td>\n",
       "      <td>48.4</td>\n",
       "      <td>0.7</td>\n",
       "      <td>2.0</td>\n",
       "      <td>2.9</td>\n",
       "      <td>1.1</td>\n",
       "      <td>0.5</td>\n",
       "      <td>0.2</td>\n",
       "      <td>0.9</td>\n",
       "    </tr>\n",
       "    <tr>\n",
       "      <th>2960</th>\n",
       "      <td>45.0</td>\n",
       "      <td>19.7</td>\n",
       "      <td>6.1</td>\n",
       "      <td>2.5</td>\n",
       "      <td>5.9</td>\n",
       "      <td>42.1</td>\n",
       "      <td>0.1</td>\n",
       "      <td>0.4</td>\n",
       "      <td>-2.7</td>\n",
       "      <td>1.1</td>\n",
       "      <td>1.7</td>\n",
       "      <td>62.0</td>\n",
       "      <td>1.0</td>\n",
       "      <td>1.5</td>\n",
       "      <td>2.6</td>\n",
       "      <td>1.5</td>\n",
       "      <td>0.4</td>\n",
       "      <td>0.3</td>\n",
       "      <td>1.8</td>\n",
       "    </tr>\n",
       "    <tr>\n",
       "      <th>...</th>\n",
       "      <td>...</td>\n",
       "      <td>...</td>\n",
       "      <td>...</td>\n",
       "      <td>...</td>\n",
       "      <td>...</td>\n",
       "      <td>...</td>\n",
       "      <td>...</td>\n",
       "      <td>...</td>\n",
       "      <td>...</td>\n",
       "      <td>...</td>\n",
       "      <td>...</td>\n",
       "      <td>...</td>\n",
       "      <td>...</td>\n",
       "      <td>...</td>\n",
       "      <td>...</td>\n",
       "      <td>...</td>\n",
       "      <td>...</td>\n",
       "      <td>...</td>\n",
       "      <td>...</td>\n",
       "    </tr>\n",
       "    <tr>\n",
       "      <th>2181</th>\n",
       "      <td>74.0</td>\n",
       "      <td>46.4</td>\n",
       "      <td>18.7</td>\n",
       "      <td>7.4</td>\n",
       "      <td>16.3</td>\n",
       "      <td>45.3</td>\n",
       "      <td>0.8</td>\n",
       "      <td>2.3</td>\n",
       "      <td>42.2</td>\n",
       "      <td>3.1</td>\n",
       "      <td>4.5</td>\n",
       "      <td>68.0</td>\n",
       "      <td>1.9</td>\n",
       "      <td>6.2</td>\n",
       "      <td>8.4</td>\n",
       "      <td>3.4</td>\n",
       "      <td>1.4</td>\n",
       "      <td>0.3</td>\n",
       "      <td>3.0</td>\n",
       "    </tr>\n",
       "    <tr>\n",
       "      <th>2409</th>\n",
       "      <td>59.0</td>\n",
       "      <td>14.8</td>\n",
       "      <td>3.4</td>\n",
       "      <td>1.0</td>\n",
       "      <td>3.2</td>\n",
       "      <td>33.7</td>\n",
       "      <td>0.5</td>\n",
       "      <td>1.7</td>\n",
       "      <td>14.3</td>\n",
       "      <td>1.3</td>\n",
       "      <td>2.0</td>\n",
       "      <td>56.3</td>\n",
       "      <td>0.7</td>\n",
       "      <td>1.2</td>\n",
       "      <td>2.1</td>\n",
       "      <td>1.5</td>\n",
       "      <td>0.9</td>\n",
       "      <td>0.1</td>\n",
       "      <td>0.7</td>\n",
       "    </tr>\n",
       "    <tr>\n",
       "      <th>2033</th>\n",
       "      <td>55.0</td>\n",
       "      <td>15.6</td>\n",
       "      <td>3.3</td>\n",
       "      <td>1.1</td>\n",
       "      <td>2.4</td>\n",
       "      <td>44.4</td>\n",
       "      <td>0.6</td>\n",
       "      <td>1.8</td>\n",
       "      <td>32.0</td>\n",
       "      <td>0.7</td>\n",
       "      <td>1.0</td>\n",
       "      <td>72.7</td>\n",
       "      <td>1.1</td>\n",
       "      <td>2.3</td>\n",
       "      <td>3.3</td>\n",
       "      <td>1.0</td>\n",
       "      <td>0.5</td>\n",
       "      <td>0.3</td>\n",
       "      <td>0.8</td>\n",
       "    </tr>\n",
       "    <tr>\n",
       "      <th>1364</th>\n",
       "      <td>91.0</td>\n",
       "      <td>47.9</td>\n",
       "      <td>12.1</td>\n",
       "      <td>4.2</td>\n",
       "      <td>9.6</td>\n",
       "      <td>46.0</td>\n",
       "      <td>0.4</td>\n",
       "      <td>1.3</td>\n",
       "      <td>-0.6</td>\n",
       "      <td>3.2</td>\n",
       "      <td>4.6</td>\n",
       "      <td>66.4</td>\n",
       "      <td>3.0</td>\n",
       "      <td>6.5</td>\n",
       "      <td>9.8</td>\n",
       "      <td>4.2</td>\n",
       "      <td>0.9</td>\n",
       "      <td>0.6</td>\n",
       "      <td>1.6</td>\n",
       "    </tr>\n",
       "    <tr>\n",
       "      <th>4547</th>\n",
       "      <td>67.0</td>\n",
       "      <td>26.4</td>\n",
       "      <td>12.5</td>\n",
       "      <td>5.6</td>\n",
       "      <td>11.3</td>\n",
       "      <td>49.7</td>\n",
       "      <td>-0.3</td>\n",
       "      <td>-0.7</td>\n",
       "      <td>-4.8</td>\n",
       "      <td>2.0</td>\n",
       "      <td>3.0</td>\n",
       "      <td>75.8</td>\n",
       "      <td>2.9</td>\n",
       "      <td>4.9</td>\n",
       "      <td>8.0</td>\n",
       "      <td>0.3</td>\n",
       "      <td>0.6</td>\n",
       "      <td>2.4</td>\n",
       "      <td>1.0</td>\n",
       "    </tr>\n",
       "  </tbody>\n",
       "</table>\n",
       "<p>6400 rows × 19 columns</p>\n",
       "</div>"
      ],
      "text/plain": [
       "      Games Played  Minutes Played  Points Per Game  Field Goals Made  \\\n",
       "3617          64.0            13.9              4.3               1.5   \n",
       "1120          81.0            20.8              7.6               2.7   \n",
       "3873          50.0             5.6              1.4               0.5   \n",
       "153           72.0            19.3              5.0               2.0   \n",
       "2960          45.0            19.7              6.1               2.5   \n",
       "...            ...             ...              ...               ...   \n",
       "2181          74.0            46.4             18.7               7.4   \n",
       "2409          59.0            14.8              3.4               1.0   \n",
       "2033          55.0            15.6              3.3               1.1   \n",
       "1364          91.0            47.9             12.1               4.2   \n",
       "4547          67.0            26.4             12.5               5.6   \n",
       "\n",
       "      Field Goals Attempts  Field Goals Percent  3Points Made  \\\n",
       "3617                   3.6                 43.0          -0.2   \n",
       "1120                   6.2                 44.8           0.4   \n",
       "3873                   1.5                 36.4           0.0   \n",
       "153                    5.0                 40.4           0.1   \n",
       "2960                   5.9                 42.1           0.1   \n",
       "...                    ...                  ...           ...   \n",
       "2181                  16.3                 45.3           0.8   \n",
       "2409                   3.2                 33.7           0.5   \n",
       "2033                   2.4                 44.4           0.6   \n",
       "1364                   9.6                 46.0           0.4   \n",
       "4547                  11.3                 49.7          -0.3   \n",
       "\n",
       "      3Points Attempts  3Points Percent  Free Throw Made  Free Throw Attempts  \\\n",
       "3617              -0.1             11.9              1.4                  1.9   \n",
       "1120               1.1             12.1              1.8                  2.1   \n",
       "3873               0.5             -3.1              0.2                  0.2   \n",
       "153                0.5             25.3              0.9                  1.6   \n",
       "2960               0.4             -2.7              1.1                  1.7   \n",
       "...                ...              ...              ...                  ...   \n",
       "2181               2.3             42.2              3.1                  4.5   \n",
       "2409               1.7             14.3              1.3                  2.0   \n",
       "2033               1.8             32.0              0.7                  1.0   \n",
       "1364               1.3             -0.6              3.2                  4.6   \n",
       "4547              -0.7             -4.8              2.0                  3.0   \n",
       "\n",
       "      Free Throw Percent  Offensive Rebounds  Defensive Rebounds  Rebounds  \\\n",
       "3617                69.2                 0.6                 1.7       2.2   \n",
       "1120                79.0                 1.7                 4.0       5.6   \n",
       "3873                68.6                 0.1                 0.2       0.4   \n",
       "153                 48.4                 0.7                 2.0       2.9   \n",
       "2960                62.0                 1.0                 1.5       2.6   \n",
       "...                  ...                 ...                 ...       ...   \n",
       "2181                68.0                 1.9                 6.2       8.4   \n",
       "2409                56.3                 0.7                 1.2       2.1   \n",
       "2033                72.7                 1.1                 2.3       3.3   \n",
       "1364                66.4                 3.0                 6.5       9.8   \n",
       "4547                75.8                 2.9                 4.9       8.0   \n",
       "\n",
       "      Assists  Steals  Blocks  Turnovers  \n",
       "3617      0.6     0.4     0.1        0.7  \n",
       "1120      0.7     0.6     0.1        1.3  \n",
       "3873      1.5     0.4    -0.3        0.3  \n",
       "153       1.1     0.5     0.2        0.9  \n",
       "2960      1.5     0.4     0.3        1.8  \n",
       "...       ...     ...     ...        ...  \n",
       "2181      3.4     1.4     0.3        3.0  \n",
       "2409      1.5     0.9     0.1        0.7  \n",
       "2033      1.0     0.5     0.3        0.8  \n",
       "1364      4.2     0.9     0.6        1.6  \n",
       "4547      0.3     0.6     2.4        1.0  \n",
       "\n",
       "[6400 rows x 19 columns]"
      ]
     },
     "execution_count": 6,
     "metadata": {},
     "output_type": "execute_result"
    }
   ],
   "source": [
    "X_train"
   ]
  },
  {
   "cell_type": "markdown",
   "id": "dd0bbc41-1beb-4c62-b7ce-d14ac68ca4df",
   "metadata": {},
   "source": [
    "## Model Development\n",
    "\n",
    "XGBoost"
   ]
  },
  {
   "cell_type": "markdown",
   "id": "bfdd15d1-7622-4991-ac5c-9d0390496a21",
   "metadata": {},
   "source": [
    "### XGBoost Default Parameters (XGBOOST0)"
   ]
  },
  {
   "cell_type": "code",
   "execution_count": 7,
   "id": "dc141f1e-f82a-4626-92f4-9dafa4932d96",
   "metadata": {},
   "outputs": [
    {
     "data": {
      "text/html": [
       "<style>#sk-container-id-1 {color: black;background-color: white;}#sk-container-id-1 pre{padding: 0;}#sk-container-id-1 div.sk-toggleable {background-color: white;}#sk-container-id-1 label.sk-toggleable__label {cursor: pointer;display: block;width: 100%;margin-bottom: 0;padding: 0.3em;box-sizing: border-box;text-align: center;}#sk-container-id-1 label.sk-toggleable__label-arrow:before {content: \"▸\";float: left;margin-right: 0.25em;color: #696969;}#sk-container-id-1 label.sk-toggleable__label-arrow:hover:before {color: black;}#sk-container-id-1 div.sk-estimator:hover label.sk-toggleable__label-arrow:before {color: black;}#sk-container-id-1 div.sk-toggleable__content {max-height: 0;max-width: 0;overflow: hidden;text-align: left;background-color: #f0f8ff;}#sk-container-id-1 div.sk-toggleable__content pre {margin: 0.2em;color: black;border-radius: 0.25em;background-color: #f0f8ff;}#sk-container-id-1 input.sk-toggleable__control:checked~div.sk-toggleable__content {max-height: 200px;max-width: 100%;overflow: auto;}#sk-container-id-1 input.sk-toggleable__control:checked~label.sk-toggleable__label-arrow:before {content: \"▾\";}#sk-container-id-1 div.sk-estimator input.sk-toggleable__control:checked~label.sk-toggleable__label {background-color: #d4ebff;}#sk-container-id-1 div.sk-label input.sk-toggleable__control:checked~label.sk-toggleable__label {background-color: #d4ebff;}#sk-container-id-1 input.sk-hidden--visually {border: 0;clip: rect(1px 1px 1px 1px);clip: rect(1px, 1px, 1px, 1px);height: 1px;margin: -1px;overflow: hidden;padding: 0;position: absolute;width: 1px;}#sk-container-id-1 div.sk-estimator {font-family: monospace;background-color: #f0f8ff;border: 1px dotted black;border-radius: 0.25em;box-sizing: border-box;margin-bottom: 0.5em;}#sk-container-id-1 div.sk-estimator:hover {background-color: #d4ebff;}#sk-container-id-1 div.sk-parallel-item::after {content: \"\";width: 100%;border-bottom: 1px solid gray;flex-grow: 1;}#sk-container-id-1 div.sk-label:hover label.sk-toggleable__label {background-color: #d4ebff;}#sk-container-id-1 div.sk-serial::before {content: \"\";position: absolute;border-left: 1px solid gray;box-sizing: border-box;top: 0;bottom: 0;left: 50%;z-index: 0;}#sk-container-id-1 div.sk-serial {display: flex;flex-direction: column;align-items: center;background-color: white;padding-right: 0.2em;padding-left: 0.2em;position: relative;}#sk-container-id-1 div.sk-item {position: relative;z-index: 1;}#sk-container-id-1 div.sk-parallel {display: flex;align-items: stretch;justify-content: center;background-color: white;position: relative;}#sk-container-id-1 div.sk-item::before, #sk-container-id-1 div.sk-parallel-item::before {content: \"\";position: absolute;border-left: 1px solid gray;box-sizing: border-box;top: 0;bottom: 0;left: 50%;z-index: -1;}#sk-container-id-1 div.sk-parallel-item {display: flex;flex-direction: column;z-index: 1;position: relative;background-color: white;}#sk-container-id-1 div.sk-parallel-item:first-child::after {align-self: flex-end;width: 50%;}#sk-container-id-1 div.sk-parallel-item:last-child::after {align-self: flex-start;width: 50%;}#sk-container-id-1 div.sk-parallel-item:only-child::after {width: 0;}#sk-container-id-1 div.sk-dashed-wrapped {border: 1px dashed gray;margin: 0 0.4em 0.5em 0.4em;box-sizing: border-box;padding-bottom: 0.4em;background-color: white;}#sk-container-id-1 div.sk-label label {font-family: monospace;font-weight: bold;display: inline-block;line-height: 1.2em;}#sk-container-id-1 div.sk-label-container {text-align: center;}#sk-container-id-1 div.sk-container {/* jupyter's `normalize.less` sets `[hidden] { display: none; }` but bootstrap.min.css set `[hidden] { display: none !important; }` so we also need the `!important` here to be able to override the default hidden behavior on the sphinx rendered scikit-learn.org. See: https://github.com/scikit-learn/scikit-learn/issues/21755 */display: inline-block !important;position: relative;}#sk-container-id-1 div.sk-text-repr-fallback {display: none;}</style><div id=\"sk-container-id-1\" class=\"sk-top-container\"><div class=\"sk-text-repr-fallback\"><pre>XGBClassifier(base_score=0.5, booster=&#x27;gbtree&#x27;, callbacks=None,\n",
       "              colsample_bylevel=1, colsample_bynode=1, colsample_bytree=1,\n",
       "              early_stopping_rounds=None, enable_categorical=False,\n",
       "              eval_metric=None, feature_types=None, gamma=0, gpu_id=-1,\n",
       "              grow_policy=&#x27;depthwise&#x27;, importance_type=None,\n",
       "              interaction_constraints=&#x27;&#x27;, learning_rate=0.300000012,\n",
       "              max_bin=256, max_cat_threshold=64, max_cat_to_onehot=4,\n",
       "              max_delta_step=0, max_depth=6, max_leaves=0, min_child_weight=1,\n",
       "              missing=nan, monotone_constraints=&#x27;()&#x27;, n_estimators=100,\n",
       "              n_jobs=0, num_parallel_tree=1, predictor=&#x27;auto&#x27;, random_state=0, ...)</pre><b>In a Jupyter environment, please rerun this cell to show the HTML representation or trust the notebook. <br />On GitHub, the HTML representation is unable to render, please try loading this page with nbviewer.org.</b></div><div class=\"sk-container\" hidden><div class=\"sk-item\"><div class=\"sk-estimator sk-toggleable\"><input class=\"sk-toggleable__control sk-hidden--visually\" id=\"sk-estimator-id-1\" type=\"checkbox\" checked><label for=\"sk-estimator-id-1\" class=\"sk-toggleable__label sk-toggleable__label-arrow\">XGBClassifier</label><div class=\"sk-toggleable__content\"><pre>XGBClassifier(base_score=0.5, booster=&#x27;gbtree&#x27;, callbacks=None,\n",
       "              colsample_bylevel=1, colsample_bynode=1, colsample_bytree=1,\n",
       "              early_stopping_rounds=None, enable_categorical=False,\n",
       "              eval_metric=None, feature_types=None, gamma=0, gpu_id=-1,\n",
       "              grow_policy=&#x27;depthwise&#x27;, importance_type=None,\n",
       "              interaction_constraints=&#x27;&#x27;, learning_rate=0.300000012,\n",
       "              max_bin=256, max_cat_threshold=64, max_cat_to_onehot=4,\n",
       "              max_delta_step=0, max_depth=6, max_leaves=0, min_child_weight=1,\n",
       "              missing=nan, monotone_constraints=&#x27;()&#x27;, n_estimators=100,\n",
       "              n_jobs=0, num_parallel_tree=1, predictor=&#x27;auto&#x27;, random_state=0, ...)</pre></div></div></div></div></div>"
      ],
      "text/plain": [
       "XGBClassifier(base_score=0.5, booster='gbtree', callbacks=None,\n",
       "              colsample_bylevel=1, colsample_bynode=1, colsample_bytree=1,\n",
       "              early_stopping_rounds=None, enable_categorical=False,\n",
       "              eval_metric=None, feature_types=None, gamma=0, gpu_id=-1,\n",
       "              grow_policy='depthwise', importance_type=None,\n",
       "              interaction_constraints='', learning_rate=0.300000012,\n",
       "              max_bin=256, max_cat_threshold=64, max_cat_to_onehot=4,\n",
       "              max_delta_step=0, max_depth=6, max_leaves=0, min_child_weight=1,\n",
       "              missing=nan, monotone_constraints='()', n_estimators=100,\n",
       "              n_jobs=0, num_parallel_tree=1, predictor='auto', random_state=0, ...)"
      ]
     },
     "execution_count": 7,
     "metadata": {},
     "output_type": "execute_result"
    }
   ],
   "source": [
    "# instantiate the model (default parameters)\n",
    "xgboost0_train = xgb.XGBClassifier()\n",
    "\n",
    "# fit the model with data\n",
    "xgboost0_train.fit(X_train, y_train)\n"
   ]
  },
  {
   "cell_type": "code",
   "execution_count": 8,
   "id": "2274ecef-0f7d-42a9-b88c-d49563406123",
   "metadata": {},
   "outputs": [
    {
     "data": {
      "text/plain": [
       "['../models/xgboost0.sav']"
      ]
     },
     "execution_count": 8,
     "metadata": {},
     "output_type": "execute_result"
    }
   ],
   "source": [
    "# save the model to disk\n",
    "my_model_filename = '../models/xgboost0.sav'\n",
    "joblib.dump(xgboost0_train, my_model_filename)"
   ]
  },
  {
   "cell_type": "markdown",
   "id": "0c297273-83a0-4aa9-adab-379f501896cc",
   "metadata": {},
   "source": [
    "### XGBoost with hyperparameter tuning using Hyperopt (XGBOOST1)"
   ]
  },
  {
   "cell_type": "code",
   "execution_count": 9,
   "id": "1f715c40-54d9-405f-9b23-287026b2e00d",
   "metadata": {},
   "outputs": [
    {
     "name": "stdout",
     "output_type": "stream",
     "text": [
      "100% 5/5 [00:22<00:00,  4.42s/trial, best loss: 0.3184098952830281]\n",
      "Best:  {'colsample_bytree': 0.7910767078737142, 'gamma': 6.7342436543686945, 'learning_rate': 0.25, 'max_depth': 11.0, 'min_child_weight': 1.0, 'reg_alpha': 43.0, 'reg_lambda': 0.008292931802290737, 'subsample': 0.65}\n"
     ]
    }
   ],
   "source": [
    "# Define the search space for xgboost hyperparameters\n",
    "# space = {\n",
    "#     'max_depth' : hp.choice('max_depth', range(5, 20, 1)),\n",
    "#     'learning_rate' : hp.quniform('learning_rate', 0.01, 0.5, 0.05),\n",
    "#     'min_child_weight' : hp.quniform('min_child_weight', 1, 10, 1),\n",
    "#     'subsample' : hp.quniform('subsample', 0.1, 1, 0.05),\n",
    "#     'colsample_bytree' : hp.quniform('colsample_bytree', 0.1, 1.0, 0.05)\n",
    "# }\n",
    "\n",
    "\n",
    "space={'max_depth': hp.quniform('max_depth', 3, 18, 1),\n",
    "       'learning_rate' : hp.quniform('learning_rate', 0.01, 0.5, 0.05),\n",
    "       'subsample' : hp.quniform('subsample', 0.1, 1, 0.05),\n",
    "       'gamma': hp.uniform ('gamma', 1,9),\n",
    "       'reg_alpha' : hp.quniform('reg_alpha', 40,180,1),\n",
    "       'reg_lambda' : hp.uniform('reg_lambda', 0,1),\n",
    "       'colsample_bytree' : hp.uniform('colsample_bytree', 0.5,1),\n",
    "       'min_child_weight' : hp.quniform('min_child_weight', 0, 10, 1),\n",
    "       'n_estimators': 180,\n",
    "       'seed': 0\n",
    "    }\n",
    "\n",
    "\n",
    "# Define a function called `objective` with the following logics:\n",
    "# input parameters: hyperparameter seacrh space (`space`)\n",
    "# logics: train a xgboost model with the search space and calculate the average accuracy score for cross validation with 10 folds\n",
    "# output parameters: dictionary with the loss score and STATUS_OK\n",
    "\n",
    "\n",
    "def objective(space):\n",
    "    from sklearn.model_selection import cross_val_score\n",
    "    \n",
    "    xgboost = xgb.XGBClassifier(\n",
    "        max_depth = int(space['max_depth']),        \n",
    "        learning_rate = space['learning_rate'],\n",
    "        subsample = space['subsample'],\n",
    "        gamma = space['gamma'],\n",
    "        reg_alpha = space['reg_alpha'],\n",
    "        reg_lambda = space['reg_lambda'],        \n",
    "        min_child_weight = space['min_child_weight'],\n",
    "        colsample_bytree = space['colsample_bytree'],\n",
    "        n_estimators = space['n_estimators'],\n",
    "        seed = space['seed'],\n",
    "        scale_pos_weight = 0.20\n",
    "    )\n",
    "    \n",
    "    acc = cross_val_score(xgboost, X_train, y_train, cv=10, scoring=\"roc_auc\").mean()\n",
    "\n",
    "    return{'loss': 1-acc, 'status': STATUS_OK }\n",
    "\n",
    "\n",
    "\n",
    "# Launch Hyperopt search and save the result in a variable called `best`\n",
    "best = fmin(\n",
    "    fn=objective,   \n",
    "    space=space,       \n",
    "    algo=tpe.suggest,       \n",
    "    max_evals=5\n",
    ")\n",
    "\n",
    "\n",
    "# Print the best set of hyperparameters\n",
    "print(\"Best: \", best)\n"
   ]
  },
  {
   "cell_type": "code",
   "execution_count": 10,
   "id": "ae07dd5e-97d2-4ef2-a64f-cd0f561d65ae",
   "metadata": {},
   "outputs": [
    {
     "data": {
      "text/html": [
       "<style>#sk-container-id-2 {color: black;background-color: white;}#sk-container-id-2 pre{padding: 0;}#sk-container-id-2 div.sk-toggleable {background-color: white;}#sk-container-id-2 label.sk-toggleable__label {cursor: pointer;display: block;width: 100%;margin-bottom: 0;padding: 0.3em;box-sizing: border-box;text-align: center;}#sk-container-id-2 label.sk-toggleable__label-arrow:before {content: \"▸\";float: left;margin-right: 0.25em;color: #696969;}#sk-container-id-2 label.sk-toggleable__label-arrow:hover:before {color: black;}#sk-container-id-2 div.sk-estimator:hover label.sk-toggleable__label-arrow:before {color: black;}#sk-container-id-2 div.sk-toggleable__content {max-height: 0;max-width: 0;overflow: hidden;text-align: left;background-color: #f0f8ff;}#sk-container-id-2 div.sk-toggleable__content pre {margin: 0.2em;color: black;border-radius: 0.25em;background-color: #f0f8ff;}#sk-container-id-2 input.sk-toggleable__control:checked~div.sk-toggleable__content {max-height: 200px;max-width: 100%;overflow: auto;}#sk-container-id-2 input.sk-toggleable__control:checked~label.sk-toggleable__label-arrow:before {content: \"▾\";}#sk-container-id-2 div.sk-estimator input.sk-toggleable__control:checked~label.sk-toggleable__label {background-color: #d4ebff;}#sk-container-id-2 div.sk-label input.sk-toggleable__control:checked~label.sk-toggleable__label {background-color: #d4ebff;}#sk-container-id-2 input.sk-hidden--visually {border: 0;clip: rect(1px 1px 1px 1px);clip: rect(1px, 1px, 1px, 1px);height: 1px;margin: -1px;overflow: hidden;padding: 0;position: absolute;width: 1px;}#sk-container-id-2 div.sk-estimator {font-family: monospace;background-color: #f0f8ff;border: 1px dotted black;border-radius: 0.25em;box-sizing: border-box;margin-bottom: 0.5em;}#sk-container-id-2 div.sk-estimator:hover {background-color: #d4ebff;}#sk-container-id-2 div.sk-parallel-item::after {content: \"\";width: 100%;border-bottom: 1px solid gray;flex-grow: 1;}#sk-container-id-2 div.sk-label:hover label.sk-toggleable__label {background-color: #d4ebff;}#sk-container-id-2 div.sk-serial::before {content: \"\";position: absolute;border-left: 1px solid gray;box-sizing: border-box;top: 0;bottom: 0;left: 50%;z-index: 0;}#sk-container-id-2 div.sk-serial {display: flex;flex-direction: column;align-items: center;background-color: white;padding-right: 0.2em;padding-left: 0.2em;position: relative;}#sk-container-id-2 div.sk-item {position: relative;z-index: 1;}#sk-container-id-2 div.sk-parallel {display: flex;align-items: stretch;justify-content: center;background-color: white;position: relative;}#sk-container-id-2 div.sk-item::before, #sk-container-id-2 div.sk-parallel-item::before {content: \"\";position: absolute;border-left: 1px solid gray;box-sizing: border-box;top: 0;bottom: 0;left: 50%;z-index: -1;}#sk-container-id-2 div.sk-parallel-item {display: flex;flex-direction: column;z-index: 1;position: relative;background-color: white;}#sk-container-id-2 div.sk-parallel-item:first-child::after {align-self: flex-end;width: 50%;}#sk-container-id-2 div.sk-parallel-item:last-child::after {align-self: flex-start;width: 50%;}#sk-container-id-2 div.sk-parallel-item:only-child::after {width: 0;}#sk-container-id-2 div.sk-dashed-wrapped {border: 1px dashed gray;margin: 0 0.4em 0.5em 0.4em;box-sizing: border-box;padding-bottom: 0.4em;background-color: white;}#sk-container-id-2 div.sk-label label {font-family: monospace;font-weight: bold;display: inline-block;line-height: 1.2em;}#sk-container-id-2 div.sk-label-container {text-align: center;}#sk-container-id-2 div.sk-container {/* jupyter's `normalize.less` sets `[hidden] { display: none; }` but bootstrap.min.css set `[hidden] { display: none !important; }` so we also need the `!important` here to be able to override the default hidden behavior on the sphinx rendered scikit-learn.org. See: https://github.com/scikit-learn/scikit-learn/issues/21755 */display: inline-block !important;position: relative;}#sk-container-id-2 div.sk-text-repr-fallback {display: none;}</style><div id=\"sk-container-id-2\" class=\"sk-top-container\"><div class=\"sk-text-repr-fallback\"><pre>XGBClassifier(base_score=0.5, booster=&#x27;gbtree&#x27;, callbacks=None,\n",
       "              colsample_bylevel=1, colsample_bynode=1,\n",
       "              colsample_bytree=0.7910767078737142, early_stopping_rounds=None,\n",
       "              enable_categorical=False, eval_metric=None, feature_types=None,\n",
       "              gamma=6.7342436543686945, gpu_id=-1, grow_policy=&#x27;depthwise&#x27;,\n",
       "              importance_type=None, interaction_constraints=&#x27;&#x27;,\n",
       "              learning_rate=0.25, max_bin=256, max_cat_threshold=64,\n",
       "              max_cat_to_onehot=4, max_delta_step=0, max_depth=11, max_leaves=0,\n",
       "              min_child_weight=1.0, missing=nan, monotone_constraints=&#x27;()&#x27;,\n",
       "              n_estimators=180, n_jobs=0, num_parallel_tree=1, predictor=&#x27;auto&#x27;,\n",
       "              random_state=0, ...)</pre><b>In a Jupyter environment, please rerun this cell to show the HTML representation or trust the notebook. <br />On GitHub, the HTML representation is unable to render, please try loading this page with nbviewer.org.</b></div><div class=\"sk-container\" hidden><div class=\"sk-item\"><div class=\"sk-estimator sk-toggleable\"><input class=\"sk-toggleable__control sk-hidden--visually\" id=\"sk-estimator-id-2\" type=\"checkbox\" checked><label for=\"sk-estimator-id-2\" class=\"sk-toggleable__label sk-toggleable__label-arrow\">XGBClassifier</label><div class=\"sk-toggleable__content\"><pre>XGBClassifier(base_score=0.5, booster=&#x27;gbtree&#x27;, callbacks=None,\n",
       "              colsample_bylevel=1, colsample_bynode=1,\n",
       "              colsample_bytree=0.7910767078737142, early_stopping_rounds=None,\n",
       "              enable_categorical=False, eval_metric=None, feature_types=None,\n",
       "              gamma=6.7342436543686945, gpu_id=-1, grow_policy=&#x27;depthwise&#x27;,\n",
       "              importance_type=None, interaction_constraints=&#x27;&#x27;,\n",
       "              learning_rate=0.25, max_bin=256, max_cat_threshold=64,\n",
       "              max_cat_to_onehot=4, max_delta_step=0, max_depth=11, max_leaves=0,\n",
       "              min_child_weight=1.0, missing=nan, monotone_constraints=&#x27;()&#x27;,\n",
       "              n_estimators=180, n_jobs=0, num_parallel_tree=1, predictor=&#x27;auto&#x27;,\n",
       "              random_state=0, ...)</pre></div></div></div></div></div>"
      ],
      "text/plain": [
       "XGBClassifier(base_score=0.5, booster='gbtree', callbacks=None,\n",
       "              colsample_bylevel=1, colsample_bynode=1,\n",
       "              colsample_bytree=0.7910767078737142, early_stopping_rounds=None,\n",
       "              enable_categorical=False, eval_metric=None, feature_types=None,\n",
       "              gamma=6.7342436543686945, gpu_id=-1, grow_policy='depthwise',\n",
       "              importance_type=None, interaction_constraints='',\n",
       "              learning_rate=0.25, max_bin=256, max_cat_threshold=64,\n",
       "              max_cat_to_onehot=4, max_delta_step=0, max_depth=11, max_leaves=0,\n",
       "              min_child_weight=1.0, missing=nan, monotone_constraints='()',\n",
       "              n_estimators=180, n_jobs=0, num_parallel_tree=1, predictor='auto',\n",
       "              random_state=0, ...)"
      ]
     },
     "execution_count": 10,
     "metadata": {},
     "output_type": "execute_result"
    }
   ],
   "source": [
    "# instantiate the model (XGBClassifier with best set of hyperparameters)\n",
    "xgboost1_train = xgb.XGBClassifier(\n",
    "        max_depth = int(best['max_depth']),        \n",
    "        learning_rate = best['learning_rate'],    \n",
    "        subsample = best['subsample'],\n",
    "        gamma = best['gamma'],\n",
    "        reg_alpha = best['reg_alpha'],\n",
    "        reg_lambda = best['reg_lambda'],        \n",
    "        min_child_weight = best['min_child_weight'],\n",
    "        colsample_bytree = best['colsample_bytree'],\n",
    "        n_estimators = 180,\n",
    "        seed = 0,\n",
    "        scale_pos_weight = 0.20\n",
    "    )\n",
    "\n",
    "# fit the model with data\n",
    "xgboost1_train.fit(X_train, y_train)"
   ]
  },
  {
   "cell_type": "code",
   "execution_count": 11,
   "id": "db6b0108-bdcf-4fa7-9f8e-4f832bf24c65",
   "metadata": {},
   "outputs": [
    {
     "data": {
      "text/plain": [
       "['../models/xgboost1.sav']"
      ]
     },
     "execution_count": 11,
     "metadata": {},
     "output_type": "execute_result"
    }
   ],
   "source": [
    "# save the model to disk\n",
    "joblib.dump(xgboost1_train, '../models/xgboost1.sav')"
   ]
  },
  {
   "cell_type": "code",
   "execution_count": null,
   "id": "50d5263c-0450-43ce-9b9f-1d31b51b3bdc",
   "metadata": {},
   "outputs": [],
   "source": []
  },
  {
   "cell_type": "code",
   "execution_count": null,
   "id": "cd3b078c-cefc-4789-9816-3a5789d62b7e",
   "metadata": {},
   "outputs": [],
   "source": [
    "\n",
    "\n"
   ]
  },
  {
   "cell_type": "code",
   "execution_count": null,
   "id": "d960c283-c531-4666-bd7b-bd71dd816d4b",
   "metadata": {},
   "outputs": [],
   "source": []
  },
  {
   "cell_type": "code",
   "execution_count": null,
   "id": "02e967d4-fd4e-4d48-a06b-d9c982a009ef",
   "metadata": {},
   "outputs": [],
   "source": []
  },
  {
   "cell_type": "markdown",
   "id": "3645553d-5f60-429d-ae26-529e69c13120",
   "metadata": {},
   "source": [
    "## Model Evaluation"
   ]
  },
  {
   "cell_type": "code",
   "execution_count": 12,
   "id": "1b4f9449-23cd-4710-b137-dea67adb501f",
   "metadata": {},
   "outputs": [
    {
     "name": "stdout",
     "output_type": "stream",
     "text": [
      "0.97859375\n"
     ]
    }
   ],
   "source": [
    "# Load the model from the file \n",
    "xgboost0_from_joblib = joblib.load('../models/xgboost0.sav') \n",
    "\n",
    "# Predict on training set\n",
    "y_pred_ontrain_xgboost0 = xgboost0_from_joblib.predict(X_train)\n",
    "\n",
    "# Accuracy\n",
    "print( accuracy_score(y_pred_ontrain_xgboost0, y_train) )"
   ]
  },
  {
   "cell_type": "code",
   "execution_count": 13,
   "id": "938a4441-7fcc-4363-af3b-6b4e200962e3",
   "metadata": {},
   "outputs": [
    {
     "name": "stdout",
     "output_type": "stream",
     "text": [
      "0.611875\n"
     ]
    }
   ],
   "source": [
    "# Load the model from the file \n",
    "xgboost1_from_joblib = joblib.load('../models/xgboost1.sav') \n",
    "\n",
    "# Predict on training set\n",
    "y_pred_ontrain_xgboost1 = xgboost1_from_joblib.predict(X_train)\n",
    "\n",
    "# Accuracy\n",
    "print( accuracy_score(y_pred_ontrain_xgboost1, y_train) )"
   ]
  },
  {
   "cell_type": "markdown",
   "id": "fbb2e940-d3da-46aa-96f4-9b7b46c1dc6f",
   "metadata": {},
   "source": [
    "### Prediction on validation data"
   ]
  },
  {
   "cell_type": "code",
   "execution_count": 14,
   "id": "c53d79fc-db4f-4eae-b73e-0d61c134d609",
   "metadata": {},
   "outputs": [
    {
     "data": {
      "text/plain": [
       "array([1, 1, 1, ..., 1, 1, 1])"
      ]
     },
     "execution_count": 14,
     "metadata": {},
     "output_type": "execute_result"
    }
   ],
   "source": [
    "y_pred_onval_xgboost0 = xgboost0_from_joblib.predict(X_val)\n",
    "y_pred_onval_xgboost0"
   ]
  },
  {
   "cell_type": "code",
   "execution_count": 15,
   "id": "dab36eed-4c33-4205-9473-0b5f51dcb602",
   "metadata": {},
   "outputs": [
    {
     "data": {
      "text/plain": [
       "array([0, 0, 1, ..., 1, 0, 1])"
      ]
     },
     "execution_count": 15,
     "metadata": {},
     "output_type": "execute_result"
    }
   ],
   "source": [
    "y_pred_onval_xgboost1 = xgboost1_from_joblib.predict(X_val)\n",
    "y_pred_onval_xgboost1"
   ]
  },
  {
   "cell_type": "markdown",
   "id": "5ae8daf2-9a67-4abf-88e0-a8244a51282d",
   "metadata": {},
   "source": [
    "### Confusion Matrix"
   ]
  },
  {
   "cell_type": "markdown",
   "id": "8a7d7e4d-cbcb-43fe-b24f-8ea3cfd01abe",
   "metadata": {},
   "source": [
    "#### XGBOOST 0"
   ]
  },
  {
   "cell_type": "code",
   "execution_count": 16,
   "id": "6332f031-75ee-4c15-9313-d40fc50f2836",
   "metadata": {},
   "outputs": [
    {
     "data": {
      "text/plain": [
       "array([[  23,  234],\n",
       "       [  64, 1279]])"
      ]
     },
     "execution_count": 16,
     "metadata": {},
     "output_type": "execute_result"
    }
   ],
   "source": [
    "cnf_matrix_xgboost0 = metrics.confusion_matrix(y_val, y_pred_onval_xgboost0)\n",
    "cnf_matrix_xgboost0\n"
   ]
  },
  {
   "cell_type": "code",
   "execution_count": 17,
   "id": "2105b274-f894-4da4-b69c-47349a84cb4b",
   "metadata": {},
   "outputs": [
    {
     "data": {
      "image/png": "[encoded data removed]",
      "text/plain": [
       "<Figure size 640x480 with 2 Axes>"
      ]
     },
     "metadata": {},
     "output_type": "display_data"
    }
   ],
   "source": [
    "class_names = [0,1] # name  of classes\n",
    "fig, ax = plt.subplots()\n",
    "tick_marks = np.arange(len(class_names))\n",
    "plt.xticks(tick_marks, class_names)\n",
    "plt.yticks(tick_marks, class_names)\n",
    "\n",
    "# create heatmap\n",
    "sns.heatmap(pd.DataFrame(cnf_matrix_xgboost0), annot=True, cmap=\"YlGnBu\" ,fmt='g')\n",
    "ax.xaxis.set_label_position(\"top\")\n",
    "plt.tight_layout()\n",
    "plt.title('Confusion matrix - XGBoost Default', y=1.1)\n",
    "plt.ylabel('Actual label')\n",
    "plt.xlabel('Predicted label');"
   ]
  },
  {
   "cell_type": "markdown",
   "id": "120b8d88-c961-46e5-b2d3-4b3f02e4dad6",
   "metadata": {},
   "source": [
    "#### XGBOOST 1"
   ]
  },
  {
   "cell_type": "code",
   "execution_count": 18,
   "id": "d94a409c-c689-47de-8634-362ef401d360",
   "metadata": {},
   "outputs": [
    {
     "data": {
      "text/plain": [
       "array([[177,  80],\n",
       "       [559, 784]])"
      ]
     },
     "execution_count": 18,
     "metadata": {},
     "output_type": "execute_result"
    }
   ],
   "source": [
    "cnf_matrix_xgboost1 = metrics.confusion_matrix(y_val, y_pred_onval_xgboost1)\n",
    "cnf_matrix_xgboost1"
   ]
  },
  {
   "cell_type": "code",
   "execution_count": 19,
   "id": "abcfeca4-c060-4269-947c-178393f8d700",
   "metadata": {},
   "outputs": [
    {
     "data": {
      "image/png": "[encoded data removed]",
      "text/plain": [
       "<Figure size 640x480 with 2 Axes>"
      ]
     },
     "metadata": {},
     "output_type": "display_data"
    }
   ],
   "source": [
    "class_names = [0,1] # name  of classes\n",
    "fig, ax = plt.subplots()\n",
    "tick_marks = np.arange(len(class_names))\n",
    "plt.xticks(tick_marks, class_names)\n",
    "plt.yticks(tick_marks, class_names)\n",
    "\n",
    "# create heatmap\n",
    "sns.heatmap(pd.DataFrame(cnf_matrix_xgboost1), annot=True, cmap=\"YlGnBu\" ,fmt='g')\n",
    "ax.xaxis.set_label_position(\"top\")\n",
    "plt.tight_layout()\n",
    "plt.title('Confusion matrix - XGBoost Hyperopt', y=1.1)\n",
    "plt.ylabel('Actual label')\n",
    "plt.xlabel('Predicted label');"
   ]
  },
  {
   "cell_type": "markdown",
   "id": "6bee5e5e-530b-4971-a713-6345b6cba55e",
   "metadata": {},
   "source": [
    "### Accuracy, Precision, and Recall"
   ]
  },
  {
   "cell_type": "code",
   "execution_count": 20,
   "id": "976d225c-faaf-487e-8d3b-a049d9fc7253",
   "metadata": {},
   "outputs": [],
   "source": [
    "target_names = ['career years played < 5', 'career years played >= 5']"
   ]
  },
  {
   "cell_type": "code",
   "execution_count": 21,
   "id": "75cd4aec-ebd2-4c87-9ab4-11698f5dc190",
   "metadata": {},
   "outputs": [
    {
     "name": "stdout",
     "output_type": "stream",
     "text": [
      "---------- XGBoost Default ----------\n",
      "                          precision    recall  f1-score   support\n",
      "\n",
      " career years played < 5       0.26      0.09      0.13       257\n",
      "career years played >= 5       0.85      0.95      0.90      1343\n",
      "\n",
      "                accuracy                           0.81      1600\n",
      "               macro avg       0.55      0.52      0.51      1600\n",
      "            weighted avg       0.75      0.81      0.77      1600\n",
      "\n"
     ]
    }
   ],
   "source": [
    "print(\"---------- XGBoost Default ----------\")\n",
    "print(classification_report(y_val, y_pred_onval_xgboost0, target_names=target_names))"
   ]
  },
  {
   "cell_type": "code",
   "execution_count": 23,
   "id": "3b5d8435-a6e1-470c-81fc-319920e36b30",
   "metadata": {},
   "outputs": [
    {
     "name": "stdout",
     "output_type": "stream",
     "text": [
      "---------- XGBoost with Hyperopt ----------\n",
      "                          precision    recall  f1-score   support\n",
      "\n",
      " career years played < 5       0.24      0.69      0.36       257\n",
      "career years played >= 5       0.91      0.58      0.71      1343\n",
      "\n",
      "                accuracy                           0.60      1600\n",
      "               macro avg       0.57      0.64      0.53      1600\n",
      "            weighted avg       0.80      0.60      0.65      1600\n",
      "\n"
     ]
    }
   ],
   "source": [
    "print(\"---------- XGBoost with Hyperopt ----------\")\n",
    "print(classification_report(y_val, y_pred_onval_xgboost1, target_names=target_names))"
   ]
  },
  {
   "cell_type": "markdown",
   "id": "703de8b5-5abd-41aa-9f80-df858c8ba41e",
   "metadata": {},
   "source": [
    "### ROC"
   ]
  },
  {
   "cell_type": "code",
   "execution_count": 24,
   "id": "06f9360a-d03f-4b54-8571-c7a314a7da72",
   "metadata": {},
   "outputs": [
    {
     "data": {
      "image/png": "[encoded data removed]",
      "text/plain": [
       "<Figure size 640x480 with 1 Axes>"
      ]
     },
     "metadata": {},
     "output_type": "display_data"
    }
   ],
   "source": [
    "\n",
    "y_proba_onval_xgboost0 = xgboost0_from_joblib.predict_proba(X_val)[::,1]  # official\n",
    "fpr, tpr, _ = metrics.roc_curve(y_val,  y_proba_onval_xgboost0)\n",
    "auc_xgboost0 = metrics.roc_auc_score(y_val, y_proba_onval_xgboost0)\n",
    "\n",
    "plt.plot(fpr,tpr,label=\"XGBoost Default, auc=\"+str(auc_xgboost0))\n",
    "plt.legend(loc=4)\n",
    "plt.show()"
   ]
  },
  {
   "cell_type": "code",
   "execution_count": 25,
   "id": "908faf48-d414-429d-90ba-5c67f8468b52",
   "metadata": {},
   "outputs": [
    {
     "data": {
      "image/png": "[encoded data removed]",
      "text/plain": [
       "<Figure size 640x480 with 1 Axes>"
      ]
     },
     "metadata": {},
     "output_type": "display_data"
    }
   ],
   "source": [
    "\n",
    "y_proba_onval_xgboost1 = xgboost1_from_joblib.predict_proba(X_val)[::,1]  # official\n",
    "fpr, tpr, _ = metrics.roc_curve(y_val,  y_proba_onval_xgboost1)\n",
    "auc_xgboost1 = metrics.roc_auc_score(y_val, y_proba_onval_xgboost1)\n",
    "\n",
    "plt.plot(fpr,tpr,label=\"XGBoost Hyperopt, auc=\"+str(auc_xgboost1))\n",
    "plt.legend(loc=4)\n",
    "plt.show()"
   ]
  },
  {
   "cell_type": "markdown",
   "id": "5c872f2c-ecae-429e-9f80-e703555c61ce",
   "metadata": {},
   "source": [
    "## XGBoost Feature Importance"
   ]
  },
  {
   "cell_type": "code",
   "execution_count": 26,
   "id": "d5f59823-cf6e-4253-b558-52841515251f",
   "metadata": {},
   "outputs": [
    {
     "name": "stdout",
     "output_type": "stream",
     "text": [
      "{'Games Played': 'Games Played', 'Minutes Played': 'Minutes Played', 'Points Per Game': 'Points Per Game', 'Field Goals Made': 'Field Goals Made', 'Field Goals Attempts': 'Field Goals Attempts', 'Field Goals Percent': 'Field Goals Percent', '3Points Made': '3Points Made', '3Points Attempts': '3Points Attempts', '3Points Percent': '3Points Percent', 'Free Throw Made': 'Free Throw Made', 'Free Throw Attempts': 'Free Throw Attempts', 'Free Throw Percent': 'Free Throw Percent', 'Offensive Rebounds': 'Offensive Rebounds', 'Defensive Rebounds': 'Defensive Rebounds', 'Rebounds': 'Rebounds', 'Assists': 'Assists', 'Steals': 'Steals', 'Blocks': 'Blocks', 'Turnovers': 'Turnovers'}\n"
     ]
    }
   ],
   "source": [
    "mapper = {v:format(X_train.columns[i]) for i, v in enumerate(X_train.columns)}\n",
    "print(mapper)"
   ]
  },
  {
   "cell_type": "markdown",
   "id": "b476df78-f0b4-453d-a4db-4b522743d146",
   "metadata": {},
   "source": [
    "#### XGBOOST 0"
   ]
  },
  {
   "cell_type": "code",
   "execution_count": 28,
   "id": "0e438c63-692e-4517-9edf-4f7fc8c22b15",
   "metadata": {},
   "outputs": [
    {
     "data": {
      "text/plain": [
       "<AxesSubplot: title={'center': 'Feature importance'}, xlabel='F score', ylabel='Features'>"
      ]
     },
     "execution_count": 28,
     "metadata": {},
     "output_type": "execute_result"
    },
    {
     "data": {
      "image/png": "[encoded data removed]",
      "text/plain": [
       "<Figure size 640x480 with 1 Axes>"
      ]
     },
     "metadata": {},
     "output_type": "display_data"
    }
   ],
   "source": [
    "feat_imp0 = xgboost0_from_joblib.get_booster().get_score(importance_type=\"gain\")\n",
    "mapping0 = {mapper[k]: v for k, v in feat_imp0.items()}\n",
    "xgb.plot_importance(mapping0, max_num_features=20)"
   ]
  },
  {
   "cell_type": "code",
   "execution_count": 31,
   "id": "a2c87550-6a2d-4f0b-a0ea-3b9fac6fb68f",
   "metadata": {},
   "outputs": [
    {
     "name": "stdout",
     "output_type": "stream",
     "text": [
      "Games Played: 0.07206\n",
      "3Points Percent: 0.05087\n",
      "Free Throw Percent: 0.04869\n",
      "Field Goals Percent: 0.04306\n",
      "Offensive Rebounds: 0.04263\n",
      "Assists: 0.03910\n",
      "Minutes Played: 0.03482\n",
      "3Points Attempts: 0.02782\n",
      "Turnovers: 0.02726\n",
      "Field Goals Attempts: 0.02632\n",
      "3Points Made: 0.02581\n",
      "Defensive Rebounds: 0.02218\n",
      "Blocks: 0.02139\n",
      "Points Per Game: 0.02047\n",
      "Steals: 0.02034\n",
      "Free Throw Attempts: 0.01927\n",
      "Rebounds: 0.01874\n",
      "Free Throw Made: 0.01728\n",
      "Field Goals Made: 0.01651\n"
     ]
    }
   ],
   "source": [
    "#Calculate variable importance by permutation on the training set\n",
    "r = permutation_importance(\n",
    "    xgboost0_from_joblib, X_train, y_train,\n",
    "    n_repeats=30,\n",
    "    random_state=8\n",
    ")\n",
    "\n",
    "#Sort the variable importance, iterate through the features and print their values\n",
    "for i in r.importances_mean.argsort()[::-1]:\n",
    "     print(f\"{X_train.columns[i]}: {r.importances_mean[i]:.5f}\")"
   ]
  },
  {
   "cell_type": "markdown",
   "id": "8ae9ba51-f2a9-4120-bd2e-70bfe67e5c4d",
   "metadata": {},
   "source": [
    "#### XGBOOST 1"
   ]
  },
  {
   "cell_type": "code",
   "execution_count": 29,
   "id": "eaf29206-94bc-491b-b3e9-3e58319d626b",
   "metadata": {},
   "outputs": [
    {
     "data": {
      "text/plain": [
       "<AxesSubplot: title={'center': 'Feature importance'}, xlabel='F score', ylabel='Features'>"
      ]
     },
     "execution_count": 29,
     "metadata": {},
     "output_type": "execute_result"
    },
    {
     "data": {
      "image/png": "[encoded data removed]",
      "text/plain": [
       "<Figure size 640x480 with 1 Axes>"
      ]
     },
     "metadata": {},
     "output_type": "display_data"
    }
   ],
   "source": [
    "feat_imp1 = xgboost1_from_joblib.get_booster().get_score(importance_type=\"gain\")\n",
    "mapping1 = {mapper[k]: v for k, v in feat_imp1.items()}\n",
    "xgb.plot_importance(mapping1, max_num_features=20)"
   ]
  },
  {
   "cell_type": "code",
   "execution_count": 32,
   "id": "beb20e41-491d-4dc5-bb75-7135dc562e13",
   "metadata": {},
   "outputs": [
    {
     "name": "stdout",
     "output_type": "stream",
     "text": [
      "Games Played: 0.06797\n",
      "Blocks: 0.00000\n",
      "Minutes Played: 0.00000\n",
      "Field Goals Made: 0.00000\n",
      "Field Goals Attempts: 0.00000\n",
      "Field Goals Percent: 0.00000\n",
      "3Points Made: 0.00000\n",
      "3Points Attempts: 0.00000\n",
      "3Points Percent: 0.00000\n",
      "Turnovers: 0.00000\n",
      "Free Throw Attempts: 0.00000\n",
      "Free Throw Percent: 0.00000\n",
      "Defensive Rebounds: 0.00000\n",
      "Rebounds: 0.00000\n",
      "Assists: 0.00000\n",
      "Steals: 0.00000\n",
      "Offensive Rebounds: -0.01036\n",
      "Free Throw Made: -0.01850\n",
      "Points Per Game: -0.01879\n"
     ]
    }
   ],
   "source": [
    "#Calculate variable importance by permutation on the training set\n",
    "r = permutation_importance(\n",
    "    xgboost1_from_joblib, X_train, y_train,\n",
    "    n_repeats=30,\n",
    "    random_state=8\n",
    ")\n",
    "\n",
    "#Sort the variable importance, iterate through the features and print their values\n",
    "for i in r.importances_mean.argsort()[::-1]:\n",
    "     print(f\"{X_train.columns[i]}: {r.importances_mean[i]:.5f}\")"
   ]
  },
  {
   "cell_type": "code",
   "execution_count": null,
   "id": "5954566c-f938-4385-a305-3d44db89dacd",
   "metadata": {},
   "outputs": [],
   "source": []
  },
  {
   "cell_type": "code",
   "execution_count": null,
   "id": "b6e0dbe0-a94b-4765-af3f-72154804e30b",
   "metadata": {},
   "outputs": [],
   "source": []
  },
  {
   "cell_type": "code",
   "execution_count": null,
   "id": "09d7d864-f3cd-4c5a-b9f2-401c3d2c72f8",
   "metadata": {},
   "outputs": [],
   "source": []
  },
  {
   "cell_type": "code",
   "execution_count": null,
   "id": "97798a6b-4f7b-4153-b275-68d2e34d4832",
   "metadata": {},
   "outputs": [],
   "source": []
  },
  {
   "cell_type": "code",
   "execution_count": null,
   "id": "cc7e1c0d-c656-45b2-a248-bfe1a9ad6258",
   "metadata": {},
   "outputs": [],
   "source": []
  },
  {
   "cell_type": "code",
   "execution_count": null,
   "id": "029e3999-7946-4646-bb9c-4ff736ec3dd6",
   "metadata": {},
   "outputs": [],
   "source": []
  },
  {
   "cell_type": "markdown",
   "id": "569680a3-3649-4257-819e-87edd4339cc8",
   "metadata": {},
   "source": [
    "## Test on unseen data"
   ]
  },
  {
   "cell_type": "markdown",
   "id": "d7b13233-d137-4f4a-8260-66d4c9ff230d",
   "metadata": {},
   "source": [
    "### Loading the test data set"
   ]
  },
  {
   "cell_type": "code",
   "execution_count": null,
   "id": "e04e8592-3955-402f-87c7-e2dc7d89d9c9",
   "metadata": {},
   "outputs": [],
   "source": [
    "test = np.load('../data/processed/test.npy')\n",
    "\n",
    "print(\"Dimension of training data - unsplit\", test.shape)\n",
    "\n",
    "df_test = pd.DataFrame(test, \n",
    "             columns=['ID',\n",
    "                 'Games Played', \n",
    "    'Minutes Played',\n",
    "    'Points Per Game',\n",
    "    'Field Goals Made',\n",
    "    'Field Goals Attempts',\n",
    "    'Field Goals Percent',\n",
    "    '3Points Made',\n",
    "    '3Points Attempts',\n",
    "    '3Points Percent',\n",
    "    'Free Throw Made',\n",
    "    'Free Throw Attempts',\n",
    "    'Free Throw Percent',\n",
    "    'Offensive Rebounds',\n",
    "    'Defensive Rebounds',\n",
    "    'Rebounds',\n",
    "    'Assists',\n",
    "    'Steals',\n",
    "    'Blocks',\n",
    "    'Turnovers'\n",
    "                     ])\n",
    "\n",
    "df_test['ID'] = df_test['ID'].astype(int)\n",
    "df_test['ID'] = df_test['ID'].astype(str)\n",
    "\n",
    "# df_test_indexed=df_test.set_index('ID')\n",
    "\n",
    "df_test.head()"
   ]
  },
  {
   "cell_type": "code",
   "execution_count": null,
   "id": "bce0b312-16eb-4303-8a0b-7f3ef7523a69",
   "metadata": {},
   "outputs": [],
   "source": [
    "df_test.info()"
   ]
  },
  {
   "cell_type": "code",
   "execution_count": null,
   "id": "46dcfa78-e813-4cfa-9b02-bb4c9da47362",
   "metadata": {},
   "outputs": [],
   "source": [
    "df_features_test = df_test[['Games Played', \n",
    "    'Minutes Played',\n",
    "    'Points Per Game',\n",
    "    'Field Goals Made',\n",
    "    'Field Goals Attempts',\n",
    "    'Field Goals Percent',\n",
    "    '3Points Made',\n",
    "    '3Points Attempts',\n",
    "    '3Points Percent',\n",
    "    'Free Throw Made',\n",
    "    'Free Throw Attempts',\n",
    "    'Free Throw Percent',\n",
    "    'Offensive Rebounds',\n",
    "    'Defensive Rebounds',\n",
    "    'Rebounds',\n",
    "    'Assists',\n",
    "    'Steals',\n",
    "    'Blocks',\n",
    "    'Turnovers']]\n",
    "\n",
    "df_features_test.head()"
   ]
  },
  {
   "cell_type": "markdown",
   "id": "0be790b6-5397-48d1-994e-a474ffbbd136",
   "metadata": {},
   "source": [
    "### Predictions"
   ]
  },
  {
   "cell_type": "code",
   "execution_count": null,
   "id": "4be95db6-9c56-45c5-a166-dcf70b505b6b",
   "metadata": {},
   "outputs": [],
   "source": [
    "# Use the loaded model to make predictions \n",
    "y_pred_ontest = xgboost0_from_joblib.predict(df_features_test)\n",
    "\n",
    "df_test_predictions = pd.DataFrame(y_pred_ontest, columns=['TARGET_5Yrs'])\n",
    "\n",
    "df_test_predictions.TARGET_5Yrs.value_counts()"
   ]
  },
  {
   "cell_type": "code",
   "execution_count": null,
   "id": "5dc4392c-8674-42ba-a6e9-37bca527ad80",
   "metadata": {},
   "outputs": [],
   "source": [
    "sns.set(style=\"white\")\n",
    "sns.set(style=\"whitegrid\", color_codes=True)\n",
    "\n",
    "sns.countplot(x = 'TARGET_5Yrs',\n",
    "              data = df_test_predictions,\n",
    "              palette = 'hls'\n",
    "             )\n",
    "plt.show()\n",
    "plt.savefig('count_plot')"
   ]
  },
  {
   "cell_type": "markdown",
   "id": "7b1fe81c-bc34-4bde-b0bc-5e2ef3a36e5b",
   "metadata": {},
   "source": [
    "### Submit Prediction to Kaggle"
   ]
  },
  {
   "cell_type": "code",
   "execution_count": null,
   "id": "30bb43e2-bd7e-4d81-a346-25470485ef5d",
   "metadata": {},
   "outputs": [],
   "source": [
    "# Use the loaded model to make predictions \n",
    "y_test = xgboost0_from_joblib.predict_proba(df_features_test)"
   ]
  },
  {
   "cell_type": "code",
   "execution_count": null,
   "id": "29925bad-c787-4074-9514-b666084719c8",
   "metadata": {},
   "outputs": [],
   "source": [
    "y_test"
   ]
  },
  {
   "cell_type": "code",
   "execution_count": null,
   "id": "bf837a58-82cc-41ae-9f00-c74c7edcdd73",
   "metadata": {},
   "outputs": [],
   "source": [
    "df_test_probabilites = pd.DataFrame(y_test, \n",
    "             columns=['TARGET_5Yrs_0',\n",
    "                 'TARGET_5Yrs'\n",
    "                     ])"
   ]
  },
  {
   "cell_type": "code",
   "execution_count": null,
   "id": "45bd647d-c5b0-4117-8a95-e8da8a50a48c",
   "metadata": {},
   "outputs": [],
   "source": [
    "df_test_probabilites.head()"
   ]
  },
  {
   "cell_type": "code",
   "execution_count": null,
   "id": "bd21cc89-53fb-48bb-a411-1acf46dad36c",
   "metadata": {},
   "outputs": [],
   "source": [
    "output = df_test.join(df_test_probabilites)\n",
    "output=output.set_index('ID')\n",
    "\n",
    "output"
   ]
  },
  {
   "cell_type": "code",
   "execution_count": null,
   "id": "186dfaf3-fe75-4dfe-a2fd-0ee40afe9617",
   "metadata": {},
   "outputs": [],
   "source": [
    "output['TARGET_5Yrs'].to_csv('../models/nommesen_april_week4_model-xgboost0.csv')"
   ]
  },
  {
   "cell_type": "code",
   "execution_count": null,
   "id": "40962716-c7c8-4b4e-8bb3-39bf0b316e9e",
   "metadata": {},
   "outputs": [],
   "source": []
  }
 ],
 "metadata": {
  "kernelspec": {
   "display_name": "Python 3 (ipykernel)",
   "language": "python",
   "name": "python3"
  },
  "language_info": {
   "codemirror_mode": {
    "name": "ipython",
    "version": 3
   },
   "file_extension": ".py",
   "mimetype": "text/x-python",
   "name": "python",
   "nbconvert_exporter": "python",
   "pygments_lexer": "ipython3",
   "version": "3.8.13"
  }
 },
 "nbformat": 4,
 "nbformat_minor": 5
}
