{
 "cells": [
  {
   "cell_type": "code",
   "execution_count": 1,
   "id": "450315c5-34d7-4062-8147-ef64f8469e7c",
   "metadata": {},
   "outputs": [],
   "source": [
    "import pandas as pd\n",
    "import numpy as np\n",
    "from joblib import dump\n",
    "\n",
    "# SKLearn\n",
    "from sklearn.model_selection import train_test_split\n",
    "from sklearn.linear_model import LogisticRegression\n",
    "from sklearn import metrics\n",
    "from sklearn.metrics import classification_report\n",
    "\n",
    "import matplotlib.pyplot as plt\n",
    "import seaborn as sns\n"
   ]
  },
  {
   "cell_type": "markdown",
   "id": "7fdfd3e5-acaf-4ea6-98a0-c86463f21c75",
   "metadata": {},
   "source": [
    "## Load the training data set"
   ]
  },
  {
   "cell_type": "code",
   "execution_count": 2,
   "id": "88f242e7-1480-4ccb-94a8-9bb0f4a04340",
   "metadata": {},
   "outputs": [
    {
     "name": "stdout",
     "output_type": "stream",
     "text": [
      "Standardised samples:\n",
      "Dimension of features training data (8000, 20)\n",
      "Dimension of target training data (8000,)\n"
     ]
    }
   ],
   "source": [
    "df_standard = np.load('../data/processed/df_standard.npy')\n",
    "target_var = np.load('../data/processed/target_var.npy')\n",
    "\n",
    "print(\"Standardised samples:\")\n",
    "print(\"Dimension of features training data\", df_standard.shape)\n",
    "print(\"Dimension of target training data\", target_var.shape)"
   ]
  },
  {
   "cell_type": "code",
   "execution_count": 3,
   "id": "7ec3c7ae-05cf-421c-8fa1-3e9471e9bc66",
   "metadata": {},
   "outputs": [
    {
     "data": {
      "text/html": [
       "<div>\n",
       "<style scoped>\n",
       "    .dataframe tbody tr th:only-of-type {\n",
       "        vertical-align: middle;\n",
       "    }\n",
       "\n",
       "    .dataframe tbody tr th {\n",
       "        vertical-align: top;\n",
       "    }\n",
       "\n",
       "    .dataframe thead th {\n",
       "        text-align: right;\n",
       "    }\n",
       "</style>\n",
       "<table border=\"1\" class=\"dataframe\">\n",
       "  <thead>\n",
       "    <tr style=\"text-align: right;\">\n",
       "      <th></th>\n",
       "      <th>ID</th>\n",
       "      <th>Games Played</th>\n",
       "      <th>Minutes Played</th>\n",
       "      <th>Points Per Game</th>\n",
       "      <th>Field Goals Made</th>\n",
       "      <th>Field Goals Attempts</th>\n",
       "      <th>Field Goals Percent</th>\n",
       "      <th>3Points Made</th>\n",
       "      <th>3Points Attempts</th>\n",
       "      <th>3Points Percent</th>\n",
       "      <th>Free Throw Made</th>\n",
       "      <th>Free Throw Attempts</th>\n",
       "      <th>Free Throw Percent</th>\n",
       "      <th>Offensive Rebounds</th>\n",
       "      <th>Defensive Rebounds</th>\n",
       "      <th>Rebounds</th>\n",
       "      <th>Assists</th>\n",
       "      <th>Steals</th>\n",
       "      <th>Blocks</th>\n",
       "      <th>Turnovers</th>\n",
       "    </tr>\n",
       "  </thead>\n",
       "  <tbody>\n",
       "    <tr>\n",
       "      <th>0</th>\n",
       "      <td>-1.731834</td>\n",
       "      <td>1.006100</td>\n",
       "      <td>0.640574</td>\n",
       "      <td>0.123403</td>\n",
       "      <td>0.113959</td>\n",
       "      <td>0.047090</td>\n",
       "      <td>0.177269</td>\n",
       "      <td>-0.428374</td>\n",
       "      <td>-0.486911</td>\n",
       "      <td>0.188493</td>\n",
       "      <td>0.655953</td>\n",
       "      <td>0.760387</td>\n",
       "      <td>0.070392</td>\n",
       "      <td>1.428377</td>\n",
       "      <td>-0.121037</td>\n",
       "      <td>0.266040</td>\n",
       "      <td>1.161949</td>\n",
       "      <td>1.107242</td>\n",
       "      <td>-0.055071</td>\n",
       "      <td>0.473210</td>\n",
       "    </tr>\n",
       "    <tr>\n",
       "      <th>1</th>\n",
       "      <td>-1.731401</td>\n",
       "      <td>0.714005</td>\n",
       "      <td>0.360766</td>\n",
       "      <td>0.748626</td>\n",
       "      <td>0.822648</td>\n",
       "      <td>0.465578</td>\n",
       "      <td>1.704465</td>\n",
       "      <td>-1.469853</td>\n",
       "      <td>-1.712288</td>\n",
       "      <td>0.957140</td>\n",
       "      <td>1.087875</td>\n",
       "      <td>1.319370</td>\n",
       "      <td>-0.341888</td>\n",
       "      <td>3.210407</td>\n",
       "      <td>1.100107</td>\n",
       "      <td>1.608950</td>\n",
       "      <td>-0.681844</td>\n",
       "      <td>-0.364787</td>\n",
       "      <td>0.432148</td>\n",
       "      <td>0.196671</td>\n",
       "    </tr>\n",
       "    <tr>\n",
       "      <th>2</th>\n",
       "      <td>-1.730968</td>\n",
       "      <td>1.298195</td>\n",
       "      <td>0.058574</td>\n",
       "      <td>-0.640758</td>\n",
       "      <td>-0.535673</td>\n",
       "      <td>-0.482994</td>\n",
       "      <td>-0.293888</td>\n",
       "      <td>0.352736</td>\n",
       "      <td>0.361427</td>\n",
       "      <td>0.919645</td>\n",
       "      <td>-1.071732</td>\n",
       "      <td>-1.076272</td>\n",
       "      <td>0.415557</td>\n",
       "      <td>-0.608229</td>\n",
       "      <td>-0.264701</td>\n",
       "      <td>-0.405415</td>\n",
       "      <td>-0.608092</td>\n",
       "      <td>-0.610125</td>\n",
       "      <td>-0.055071</td>\n",
       "      <td>-0.909485</td>\n",
       "    </tr>\n",
       "    <tr>\n",
       "      <th>3</th>\n",
       "      <td>-1.730535</td>\n",
       "      <td>0.012976</td>\n",
       "      <td>0.058574</td>\n",
       "      <td>0.216029</td>\n",
       "      <td>0.409246</td>\n",
       "      <td>0.130788</td>\n",
       "      <td>1.282049</td>\n",
       "      <td>0.092366</td>\n",
       "      <td>-0.015612</td>\n",
       "      <td>0.257234</td>\n",
       "      <td>-0.531830</td>\n",
       "      <td>-0.357579</td>\n",
       "      <td>-0.428180</td>\n",
       "      <td>-0.353653</td>\n",
       "      <td>-0.121037</td>\n",
       "      <td>-0.117649</td>\n",
       "      <td>0.129425</td>\n",
       "      <td>-0.610125</td>\n",
       "      <td>-0.176876</td>\n",
       "      <td>0.888019</td>\n",
       "    </tr>\n",
       "    <tr>\n",
       "      <th>4</th>\n",
       "      <td>-1.730102</td>\n",
       "      <td>0.012976</td>\n",
       "      <td>-0.086926</td>\n",
       "      <td>-0.826009</td>\n",
       "      <td>-0.653788</td>\n",
       "      <td>-0.789885</td>\n",
       "      <td>1.005854</td>\n",
       "      <td>0.613106</td>\n",
       "      <td>0.549947</td>\n",
       "      <td>-0.367682</td>\n",
       "      <td>-1.287692</td>\n",
       "      <td>-1.156127</td>\n",
       "      <td>-1.665021</td>\n",
       "      <td>1.682952</td>\n",
       "      <td>0.381787</td>\n",
       "      <td>0.793612</td>\n",
       "      <td>-0.903099</td>\n",
       "      <td>-0.610125</td>\n",
       "      <td>0.432148</td>\n",
       "      <td>-0.771215</td>\n",
       "    </tr>\n",
       "  </tbody>\n",
       "</table>\n",
       "</div>"
      ],
      "text/plain": [
       "         ID  Games Played  Minutes Played  Points Per Game  Field Goals Made  \\\n",
       "0 -1.731834      1.006100        0.640574         0.123403          0.113959   \n",
       "1 -1.731401      0.714005        0.360766         0.748626          0.822648   \n",
       "2 -1.730968      1.298195        0.058574        -0.640758         -0.535673   \n",
       "3 -1.730535      0.012976        0.058574         0.216029          0.409246   \n",
       "4 -1.730102      0.012976       -0.086926        -0.826009         -0.653788   \n",
       "\n",
       "   Field Goals Attempts  Field Goals Percent  3Points Made  3Points Attempts  \\\n",
       "0              0.047090             0.177269     -0.428374         -0.486911   \n",
       "1              0.465578             1.704465     -1.469853         -1.712288   \n",
       "2             -0.482994            -0.293888      0.352736          0.361427   \n",
       "3              0.130788             1.282049      0.092366         -0.015612   \n",
       "4             -0.789885             1.005854      0.613106          0.549947   \n",
       "\n",
       "   3Points Percent  Free Throw Made  Free Throw Attempts  Free Throw Percent  \\\n",
       "0         0.188493         0.655953             0.760387            0.070392   \n",
       "1         0.957140         1.087875             1.319370           -0.341888   \n",
       "2         0.919645        -1.071732            -1.076272            0.415557   \n",
       "3         0.257234        -0.531830            -0.357579           -0.428180   \n",
       "4        -0.367682        -1.287692            -1.156127           -1.665021   \n",
       "\n",
       "   Offensive Rebounds  Defensive Rebounds  Rebounds   Assists    Steals  \\\n",
       "0            1.428377           -0.121037  0.266040  1.161949  1.107242   \n",
       "1            3.210407            1.100107  1.608950 -0.681844 -0.364787   \n",
       "2           -0.608229           -0.264701 -0.405415 -0.608092 -0.610125   \n",
       "3           -0.353653           -0.121037 -0.117649  0.129425 -0.610125   \n",
       "4            1.682952            0.381787  0.793612 -0.903099 -0.610125   \n",
       "\n",
       "     Blocks  Turnovers  \n",
       "0 -0.055071   0.473210  \n",
       "1  0.432148   0.196671  \n",
       "2 -0.055071  -0.909485  \n",
       "3 -0.176876   0.888019  \n",
       "4  0.432148  -0.771215  "
      ]
     },
     "execution_count": 3,
     "metadata": {},
     "output_type": "execute_result"
    }
   ],
   "source": [
    "X_ftrain = pd.DataFrame(df_standard, \n",
    "             columns=['ID',\n",
    "                 'Games Played', \n",
    "    'Minutes Played',\n",
    "    'Points Per Game',\n",
    "    'Field Goals Made',\n",
    "    'Field Goals Attempts',\n",
    "    'Field Goals Percent',\n",
    "    '3Points Made',\n",
    "    '3Points Attempts',\n",
    "    '3Points Percent',\n",
    "    'Free Throw Made',\n",
    "    'Free Throw Attempts',\n",
    "    'Free Throw Percent',\n",
    "    'Offensive Rebounds',\n",
    "    'Defensive Rebounds',\n",
    "    'Rebounds',\n",
    "    'Assists',\n",
    "    'Steals',\n",
    "    'Blocks',\n",
    "    'Turnovers'])\n",
    "\n",
    "X_ftrain.head()"
   ]
  },
  {
   "cell_type": "code",
   "execution_count": 4,
   "id": "43663f5c-869e-42d9-b8ef-03c3cca1a3e3",
   "metadata": {},
   "outputs": [
    {
     "data": {
      "text/html": [
       "<div>\n",
       "<style scoped>\n",
       "    .dataframe tbody tr th:only-of-type {\n",
       "        vertical-align: middle;\n",
       "    }\n",
       "\n",
       "    .dataframe tbody tr th {\n",
       "        vertical-align: top;\n",
       "    }\n",
       "\n",
       "    .dataframe thead th {\n",
       "        text-align: right;\n",
       "    }\n",
       "</style>\n",
       "<table border=\"1\" class=\"dataframe\">\n",
       "  <thead>\n",
       "    <tr style=\"text-align: right;\">\n",
       "      <th></th>\n",
       "      <th>TARGET_5Yrs</th>\n",
       "    </tr>\n",
       "  </thead>\n",
       "  <tbody>\n",
       "    <tr>\n",
       "      <th>0</th>\n",
       "      <td>1</td>\n",
       "    </tr>\n",
       "    <tr>\n",
       "      <th>1</th>\n",
       "      <td>1</td>\n",
       "    </tr>\n",
       "    <tr>\n",
       "      <th>2</th>\n",
       "      <td>1</td>\n",
       "    </tr>\n",
       "    <tr>\n",
       "      <th>3</th>\n",
       "      <td>1</td>\n",
       "    </tr>\n",
       "    <tr>\n",
       "      <th>4</th>\n",
       "      <td>1</td>\n",
       "    </tr>\n",
       "  </tbody>\n",
       "</table>\n",
       "</div>"
      ],
      "text/plain": [
       "   TARGET_5Yrs\n",
       "0            1\n",
       "1            1\n",
       "2            1\n",
       "3            1\n",
       "4            1"
      ]
     },
     "execution_count": 4,
     "metadata": {},
     "output_type": "execute_result"
    }
   ],
   "source": [
    "y_ftrain = pd.DataFrame(target_var, \n",
    "             columns=['TARGET_5Yrs'])\n",
    "\n",
    "y_ftrain.head()"
   ]
  },
  {
   "cell_type": "markdown",
   "id": "79a86468-5960-4164-a6bf-4c8a386e4747",
   "metadata": {},
   "source": [
    "## Train Logistic Model - all features"
   ]
  },
  {
   "cell_type": "code",
   "execution_count": 5,
   "id": "bdbd49a6-f96b-4ee2-af90-b02ff882afd3",
   "metadata": {},
   "outputs": [],
   "source": [
    "cols=['Games Played', \n",
    "    'Minutes Played',\n",
    "    'Points Per Game',\n",
    "    'Field Goals Made',\n",
    "    'Field Goals Attempts',\n",
    "    'Field Goals Percent',\n",
    "    '3Points Made',\n",
    "    '3Points Attempts',\n",
    "    '3Points Percent',\n",
    "    'Free Throw Made',\n",
    "    'Free Throw Attempts',\n",
    "    'Free Throw Percent',\n",
    "    'Offensive Rebounds',\n",
    "    'Defensive Rebounds',\n",
    "    'Rebounds',\n",
    "    'Assists',\n",
    "    'Steals',\n",
    "    'Blocks',\n",
    "    'Turnovers']"
   ]
  },
  {
   "cell_type": "code",
   "execution_count": 6,
   "id": "9512c6c9-f027-4d16-9496-49a750629dd2",
   "metadata": {},
   "outputs": [
    {
     "name": "stdout",
     "output_type": "stream",
     "text": [
      "Optimization terminated successfully.\n",
      "         Current function value: 0.671650\n",
      "         Iterations 5\n",
      "                           Results: Logit\n",
      "====================================================================\n",
      "Model:               Logit             Pseudo R-squared:  -0.492    \n",
      "Dependent Variable:  TARGET_5Yrs       AIC:               10786.4071\n",
      "Date:                2022-11-30 12:00  BIC:               10926.1511\n",
      "No. Observations:    8000              Log-Likelihood:    -5373.2   \n",
      "Df Model:            19                LL-Null:           -3600.7   \n",
      "Df Residuals:        7980              LLR p-value:       1.0000    \n",
      "Converged:           1.0000            Scale:             1.0000    \n",
      "No. Iterations:      5.0000                                         \n",
      "--------------------------------------------------------------------\n",
      "                      Coef.  Std.Err.    z    P>|z|   [0.025  0.975]\n",
      "--------------------------------------------------------------------\n",
      "ID                    0.0094   0.0229  0.4120 0.6803 -0.0354  0.0542\n",
      "Games Played          0.2715   0.0303  8.9699 0.0000  0.2122  0.3308\n",
      "Minutes Played        0.0195   0.0839  0.2322 0.8164 -0.1450  0.1840\n",
      "Points Per Game      -0.3754   0.3618 -1.0374 0.2995 -1.0845  0.3338\n",
      "Field Goals Made     -0.2495   0.3255 -0.7666 0.4433 -0.8875  0.3884\n",
      "Field Goals Attempts  0.5323   0.2340  2.2752 0.0229  0.0738  0.9909\n",
      "Field Goals Percent   0.2194   0.0562  3.9057 0.0001  0.1093  0.3295\n",
      "3Points Made          0.3048   0.1251  2.4361 0.0148  0.0596  0.5500\n",
      "3Points Attempts     -0.2755   0.1285 -2.1436 0.0321 -0.5274 -0.0236\n",
      "3Points Percent       0.0055   0.0305  0.1816 0.8559 -0.0542  0.0653\n",
      "Free Throw Made      -0.0872   0.2022 -0.4313 0.6663 -0.4835  0.3091\n",
      "Free Throw Attempts   0.2099   0.1841  1.1404 0.2541 -0.1509  0.5706\n",
      "Free Throw Percent    0.0775   0.0416  1.8618 0.0626 -0.0041  0.1590\n",
      "Offensive Rebounds    0.3027   0.1084  2.7928 0.0052  0.0903  0.5151\n",
      "Defensive Rebounds    0.2937   0.1955  1.5024 0.1330 -0.0895  0.6769\n",
      "Rebounds             -0.5217   0.2756 -1.8929 0.0584 -1.0619  0.0185\n",
      "Assists               0.0740   0.0483  1.5325 0.1254 -0.0206  0.1686\n",
      "Steals               -0.0197   0.0421 -0.4677 0.6400 -0.1022  0.0628\n",
      "Blocks                0.0610   0.0308  1.9823 0.0474  0.0007  0.1213\n",
      "Turnovers            -0.0491   0.0550 -0.8912 0.3728 -0.1569  0.0588\n",
      "====================================================================\n",
      "\n"
     ]
    }
   ],
   "source": [
    "import statsmodels.api as sm\n",
    "\n",
    "logit_model=sm.Logit(y_ftrain,X_ftrain)\n",
    "result=logit_model.fit()\n",
    "print(result.summary2())"
   ]
  },
  {
   "cell_type": "code",
   "execution_count": 7,
   "id": "7de53e94-b017-4f24-9f57-8a7e493920ca",
   "metadata": {},
   "outputs": [
    {
     "name": "stdout",
     "output_type": "stream",
     "text": [
      "Optimization terminated successfully.\n",
      "         Current function value: 0.673087\n",
      "         Iterations 5\n",
      "                           Results: Logit\n",
      "====================================================================\n",
      "Model:               Logit             Pseudo R-squared:  -0.495    \n",
      "Dependent Variable:  TARGET_5Yrs       AIC:               10781.3882\n",
      "Date:                2022-11-30 12:00  BIC:               10823.3114\n",
      "No. Observations:    8000              Log-Likelihood:    -5384.7   \n",
      "Df Model:            5                 LL-Null:           -3600.7   \n",
      "Df Residuals:        7994              LLR p-value:       1.0000    \n",
      "Converged:           1.0000            Scale:             1.0000    \n",
      "No. Iterations:      5.0000                                         \n",
      "--------------------------------------------------------------------\n",
      "                      Coef.  Std.Err.    z    P>|z|   [0.025  0.975]\n",
      "--------------------------------------------------------------------\n",
      "Games Played          0.2909   0.0287 10.1341 0.0000  0.2346  0.3471\n",
      "Field Goals Attempts  0.0746   0.0315  2.3656 0.0180  0.0128  0.1363\n",
      "Field Goals Percent   0.1214   0.0281  4.3162 0.0000  0.0663  0.1766\n",
      "3Points Made          0.2603   0.1202  2.1659 0.0303  0.0247  0.4959\n",
      "3Points Attempts     -0.2680   0.1259 -2.1292 0.0332 -0.5147 -0.0213\n",
      "Blocks                0.0548   0.0281  1.9514 0.0510 -0.0002  0.1098\n",
      "====================================================================\n",
      "\n"
     ]
    }
   ],
   "source": [
    "cols=['Games Played', \n",
    "    # 'Minutes Played',\n",
    "    # 'Points Per Game',\n",
    "    # 'Field Goals Made',\n",
    "    'Field Goals Attempts',\n",
    "    'Field Goals Percent',\n",
    "    '3Points Made',\n",
    "    '3Points Attempts',\n",
    "    # '3Points Percent',\n",
    "    # 'Free Throw Made',\n",
    "    # 'Free Throw Attempts',\n",
    "    # 'Free Throw Percent',\n",
    "    # 'Offensive Rebounds',\n",
    "    # 'Defensive Rebounds',\n",
    "    # 'Rebounds',\n",
    "    # 'Assists',\n",
    "    # 'Steals',\n",
    "    'Blocks'\n",
    "    # 'Turnovers'\n",
    "     ]\n",
    "\n",
    "X=X_ftrain[cols]\n",
    "y=y_ftrain\n",
    "\n",
    "logit_model=sm.Logit(y,X)\n",
    "result=logit_model.fit()\n",
    "print(result.summary2())"
   ]
  },
  {
   "cell_type": "code",
   "execution_count": 8,
   "id": "1c125431-eaac-4b7e-8c08-42ffb6e5a5f2",
   "metadata": {},
   "outputs": [
    {
     "name": "stdout",
     "output_type": "stream",
     "text": [
      "Optimization terminated successfully.\n",
      "         Current function value: 0.673349\n",
      "         Iterations 4\n",
      "                           Results: Logit\n",
      "====================================================================\n",
      "Model:               Logit             Pseudo R-squared:  -0.496    \n",
      "Dependent Variable:  TARGET_5Yrs       AIC:               10783.5826\n",
      "Date:                2022-11-30 12:00  BIC:               10818.5186\n",
      "No. Observations:    8000              Log-Likelihood:    -5386.8   \n",
      "Df Model:            4                 LL-Null:           -3600.7   \n",
      "Df Residuals:        7995              LLR p-value:       1.0000    \n",
      "Converged:           1.0000            Scale:             1.0000    \n",
      "No. Iterations:      4.0000                                         \n",
      "--------------------------------------------------------------------\n",
      "                      Coef.  Std.Err.    z    P>|z|   [0.025  0.975]\n",
      "--------------------------------------------------------------------\n",
      "Games Played          0.2928   0.0287 10.2116 0.0000  0.2366  0.3491\n",
      "Field Goals Attempts  0.0838   0.0312  2.6859 0.0072  0.0226  0.1449\n",
      "Field Goals Percent   0.1331   0.0275  4.8325 0.0000  0.0791  0.1870\n",
      "3Points Made          0.2540   0.1201  2.1140 0.0345  0.0185  0.4894\n",
      "3Points Attempts     -0.2672   0.1258 -2.1229 0.0338 -0.5138 -0.0205\n",
      "====================================================================\n",
      "\n"
     ]
    }
   ],
   "source": [
    "cols=['Games Played', \n",
    "    # 'Minutes Played',\n",
    "    # 'Points Per Game',\n",
    "    # 'Field Goals Made',\n",
    "    'Field Goals Attempts',\n",
    "    'Field Goals Percent',\n",
    "    '3Points Made',\n",
    "    '3Points Attempts'\n",
    "    # '3Points Percent',\n",
    "    # 'Free Throw Made',\n",
    "    # 'Free Throw Attempts',\n",
    "    # 'Free Throw Percent',\n",
    "    # 'Offensive Rebounds',\n",
    "    # 'Defensive Rebounds',\n",
    "    # 'Rebounds',\n",
    "    # 'Assists',\n",
    "    # 'Steals',\n",
    "    # 'Blocks',\n",
    "    # 'Turnovers'\n",
    "     ]\n",
    "\n",
    "X=X_ftrain[cols]\n",
    "y=y_ftrain\n",
    "\n",
    "logit_model=sm.Logit(y,X)\n",
    "result=logit_model.fit()\n",
    "print(result.summary2())"
   ]
  },
  {
   "cell_type": "markdown",
   "id": "d20203c8-bc0e-4ce1-975a-7133ec7ea2ef",
   "metadata": {},
   "source": [
    "## Data prep for Logistic Regression with Sklearn"
   ]
  },
  {
   "cell_type": "code",
   "execution_count": 9,
   "id": "09521f1c-e920-4835-b0bb-d4f4a53e65f2",
   "metadata": {},
   "outputs": [
    {
     "name": "stdout",
     "output_type": "stream",
     "text": [
      "Dimension of training data - unsplit (8000, 21)\n"
     ]
    }
   ],
   "source": [
    "alltrain = np.load('../data/processed/alltrain.npy')\n",
    "\n",
    "print(\"Dimension of training data - unsplit\", alltrain.shape)"
   ]
  },
  {
   "cell_type": "code",
   "execution_count": 10,
   "id": "b287f5c5-99c3-4eca-b990-6a033bf4acfd",
   "metadata": {},
   "outputs": [
    {
     "data": {
      "text/html": [
       "<div>\n",
       "<style scoped>\n",
       "    .dataframe tbody tr th:only-of-type {\n",
       "        vertical-align: middle;\n",
       "    }\n",
       "\n",
       "    .dataframe tbody tr th {\n",
       "        vertical-align: top;\n",
       "    }\n",
       "\n",
       "    .dataframe thead th {\n",
       "        text-align: right;\n",
       "    }\n",
       "</style>\n",
       "<table border=\"1\" class=\"dataframe\">\n",
       "  <thead>\n",
       "    <tr style=\"text-align: right;\">\n",
       "      <th></th>\n",
       "      <th>ID</th>\n",
       "      <th>Games Played</th>\n",
       "      <th>Minutes Played</th>\n",
       "      <th>Points Per Game</th>\n",
       "      <th>Field Goals Made</th>\n",
       "      <th>Field Goals Attempts</th>\n",
       "      <th>Field Goals Percent</th>\n",
       "      <th>3Points Made</th>\n",
       "      <th>3Points Attempts</th>\n",
       "      <th>3Points Percent</th>\n",
       "      <th>...</th>\n",
       "      <th>Free Throw Attempts</th>\n",
       "      <th>Free Throw Percent</th>\n",
       "      <th>Offensive Rebounds</th>\n",
       "      <th>Defensive Rebounds</th>\n",
       "      <th>Rebounds</th>\n",
       "      <th>Assists</th>\n",
       "      <th>Steals</th>\n",
       "      <th>Blocks</th>\n",
       "      <th>Turnovers</th>\n",
       "      <th>TARGET_5Yrs</th>\n",
       "    </tr>\n",
       "  </thead>\n",
       "  <tbody>\n",
       "    <tr>\n",
       "      <th>0</th>\n",
       "      <td>3799.0</td>\n",
       "      <td>80.0</td>\n",
       "      <td>24.3</td>\n",
       "      <td>7.8</td>\n",
       "      <td>3.0</td>\n",
       "      <td>6.4</td>\n",
       "      <td>45.7</td>\n",
       "      <td>0.1</td>\n",
       "      <td>0.3</td>\n",
       "      <td>22.6</td>\n",
       "      <td>...</td>\n",
       "      <td>2.9</td>\n",
       "      <td>72.1</td>\n",
       "      <td>2.2</td>\n",
       "      <td>2.0</td>\n",
       "      <td>3.8</td>\n",
       "      <td>3.2</td>\n",
       "      <td>1.1</td>\n",
       "      <td>0.2</td>\n",
       "      <td>1.6</td>\n",
       "      <td>1</td>\n",
       "    </tr>\n",
       "    <tr>\n",
       "      <th>1</th>\n",
       "      <td>3800.0</td>\n",
       "      <td>75.0</td>\n",
       "      <td>21.8</td>\n",
       "      <td>10.5</td>\n",
       "      <td>4.2</td>\n",
       "      <td>7.9</td>\n",
       "      <td>55.1</td>\n",
       "      <td>-0.3</td>\n",
       "      <td>-1.0</td>\n",
       "      <td>34.9</td>\n",
       "      <td>...</td>\n",
       "      <td>3.6</td>\n",
       "      <td>67.8</td>\n",
       "      <td>3.6</td>\n",
       "      <td>3.7</td>\n",
       "      <td>6.6</td>\n",
       "      <td>0.7</td>\n",
       "      <td>0.5</td>\n",
       "      <td>0.6</td>\n",
       "      <td>1.4</td>\n",
       "      <td>1</td>\n",
       "    </tr>\n",
       "    <tr>\n",
       "      <th>2</th>\n",
       "      <td>3801.0</td>\n",
       "      <td>85.0</td>\n",
       "      <td>19.1</td>\n",
       "      <td>4.5</td>\n",
       "      <td>1.9</td>\n",
       "      <td>4.5</td>\n",
       "      <td>42.8</td>\n",
       "      <td>0.4</td>\n",
       "      <td>1.2</td>\n",
       "      <td>34.3</td>\n",
       "      <td>...</td>\n",
       "      <td>0.6</td>\n",
       "      <td>75.7</td>\n",
       "      <td>0.6</td>\n",
       "      <td>1.8</td>\n",
       "      <td>2.4</td>\n",
       "      <td>0.8</td>\n",
       "      <td>0.4</td>\n",
       "      <td>0.2</td>\n",
       "      <td>0.6</td>\n",
       "      <td>1</td>\n",
       "    </tr>\n",
       "    <tr>\n",
       "      <th>3</th>\n",
       "      <td>3802.0</td>\n",
       "      <td>63.0</td>\n",
       "      <td>19.1</td>\n",
       "      <td>8.2</td>\n",
       "      <td>3.5</td>\n",
       "      <td>6.7</td>\n",
       "      <td>52.5</td>\n",
       "      <td>0.3</td>\n",
       "      <td>0.8</td>\n",
       "      <td>23.7</td>\n",
       "      <td>...</td>\n",
       "      <td>1.5</td>\n",
       "      <td>66.9</td>\n",
       "      <td>0.8</td>\n",
       "      <td>2.0</td>\n",
       "      <td>3.0</td>\n",
       "      <td>1.8</td>\n",
       "      <td>0.4</td>\n",
       "      <td>0.1</td>\n",
       "      <td>1.9</td>\n",
       "      <td>1</td>\n",
       "    </tr>\n",
       "    <tr>\n",
       "      <th>4</th>\n",
       "      <td>3803.0</td>\n",
       "      <td>63.0</td>\n",
       "      <td>17.8</td>\n",
       "      <td>3.7</td>\n",
       "      <td>1.7</td>\n",
       "      <td>3.4</td>\n",
       "      <td>50.8</td>\n",
       "      <td>0.5</td>\n",
       "      <td>1.4</td>\n",
       "      <td>13.7</td>\n",
       "      <td>...</td>\n",
       "      <td>0.5</td>\n",
       "      <td>54.0</td>\n",
       "      <td>2.4</td>\n",
       "      <td>2.7</td>\n",
       "      <td>4.9</td>\n",
       "      <td>0.4</td>\n",
       "      <td>0.4</td>\n",
       "      <td>0.6</td>\n",
       "      <td>0.7</td>\n",
       "      <td>1</td>\n",
       "    </tr>\n",
       "  </tbody>\n",
       "</table>\n",
       "<p>5 rows × 21 columns</p>\n",
       "</div>"
      ],
      "text/plain": [
       "       ID  Games Played  Minutes Played  Points Per Game  Field Goals Made  \\\n",
       "0  3799.0          80.0            24.3              7.8               3.0   \n",
       "1  3800.0          75.0            21.8             10.5               4.2   \n",
       "2  3801.0          85.0            19.1              4.5               1.9   \n",
       "3  3802.0          63.0            19.1              8.2               3.5   \n",
       "4  3803.0          63.0            17.8              3.7               1.7   \n",
       "\n",
       "   Field Goals Attempts  Field Goals Percent  3Points Made  3Points Attempts  \\\n",
       "0                   6.4                 45.7           0.1               0.3   \n",
       "1                   7.9                 55.1          -0.3              -1.0   \n",
       "2                   4.5                 42.8           0.4               1.2   \n",
       "3                   6.7                 52.5           0.3               0.8   \n",
       "4                   3.4                 50.8           0.5               1.4   \n",
       "\n",
       "   3Points Percent  ...  Free Throw Attempts  Free Throw Percent  \\\n",
       "0             22.6  ...                  2.9                72.1   \n",
       "1             34.9  ...                  3.6                67.8   \n",
       "2             34.3  ...                  0.6                75.7   \n",
       "3             23.7  ...                  1.5                66.9   \n",
       "4             13.7  ...                  0.5                54.0   \n",
       "\n",
       "   Offensive Rebounds  Defensive Rebounds  Rebounds  Assists  Steals  Blocks  \\\n",
       "0                 2.2                 2.0       3.8      3.2     1.1     0.2   \n",
       "1                 3.6                 3.7       6.6      0.7     0.5     0.6   \n",
       "2                 0.6                 1.8       2.4      0.8     0.4     0.2   \n",
       "3                 0.8                 2.0       3.0      1.8     0.4     0.1   \n",
       "4                 2.4                 2.7       4.9      0.4     0.4     0.6   \n",
       "\n",
       "   Turnovers  TARGET_5Yrs  \n",
       "0        1.6            1  \n",
       "1        1.4            1  \n",
       "2        0.6            1  \n",
       "3        1.9            1  \n",
       "4        0.7            1  \n",
       "\n",
       "[5 rows x 21 columns]"
      ]
     },
     "execution_count": 10,
     "metadata": {},
     "output_type": "execute_result"
    }
   ],
   "source": [
    "df_alltrain = pd.DataFrame(alltrain, \n",
    "             columns=['ID',\n",
    "                 'Games Played', \n",
    "    'Minutes Played',\n",
    "    'Points Per Game',\n",
    "    'Field Goals Made',\n",
    "    'Field Goals Attempts',\n",
    "    'Field Goals Percent',\n",
    "    '3Points Made',\n",
    "    '3Points Attempts',\n",
    "    '3Points Percent',\n",
    "    'Free Throw Made',\n",
    "    'Free Throw Attempts',\n",
    "    'Free Throw Percent',\n",
    "    'Offensive Rebounds',\n",
    "    'Defensive Rebounds',\n",
    "    'Rebounds',\n",
    "    'Assists',\n",
    "    'Steals',\n",
    "    'Blocks',\n",
    "    'Turnovers',\n",
    "     'TARGET_5Yrs'\n",
    "                     ])\n",
    "\n",
    "df_alltrain['TARGET_5Yrs'] = df_alltrain['TARGET_5Yrs'].astype(dtype ='int64')\n",
    "df_alltrain['ID'] = df_alltrain['ID'].astype(dtype ='str')\n",
    "\n",
    "df_alltrain.head()"
   ]
  },
  {
   "cell_type": "code",
   "execution_count": 11,
   "id": "7f385686-1d83-4f0c-afad-8334356709eb",
   "metadata": {
    "tags": []
   },
   "outputs": [
    {
     "name": "stdout",
     "output_type": "stream",
     "text": [
      "Standardised:\n",
      "Dimension of features training data (8000, 5)\n",
      "Dimension of target training data (8000,)\n"
     ]
    }
   ],
   "source": [
    "# df_features = df_alltrain[df_alltrain.columns[~df_alltrain.columns.isin(['ID', 'TARGET_5Yrs'])]]\n",
    "# df_target = df_alltrain['TARGET_5Yrs']\n",
    "\n",
    "df_features = df_alltrain[['Games Played',\n",
    "                           'Field Goals Attempts',\n",
    "                           'Field Goals Percent',\n",
    "                           '3Points Made',\n",
    "                           '3Points Attempts']]\n",
    "\n",
    "from sklearn.preprocessing import StandardScaler\n",
    "\n",
    "scaler = StandardScaler()\n",
    "features = scaler.fit_transform(df_features)\n",
    "\n",
    "target = df_alltrain.pop('TARGET_5Yrs')\n",
    "\n",
    "print(\"Standardised:\")\n",
    "print(\"Dimension of features training data\", features.shape)\n",
    "print(\"Dimension of target training data\", target.shape)"
   ]
  },
  {
   "cell_type": "code",
   "execution_count": 12,
   "id": "0fb4494e-9626-4d84-9a18-f00a437d4d92",
   "metadata": {},
   "outputs": [
    {
     "data": {
      "text/plain": [
       "array([[ 1.00610018,  0.04709033,  0.17726855, -0.42837351, -0.48691065],\n",
       "       [ 0.71400493,  0.46557805,  1.7044653 , -1.46985294, -1.71228771],\n",
       "       [ 1.29819543, -0.48299411, -0.29388789,  0.35273606,  0.36142732],\n",
       "       ...,\n",
       "       [ 1.29819543,  0.77246904,  0.07978791, -0.16800365, -0.20413132],\n",
       "       [-1.38908087, -1.09677609, -0.73255079, -1.46985294, -1.24098884],\n",
       "       [-0.80489037, -0.31559902, -1.95105884,  1.13384564,  1.49254461]])"
      ]
     },
     "execution_count": 12,
     "metadata": {},
     "output_type": "execute_result"
    }
   ],
   "source": [
    "features"
   ]
  },
  {
   "cell_type": "code",
   "execution_count": 13,
   "id": "e86ec218-8d5f-4a4b-a23b-f7e6639d4677",
   "metadata": {},
   "outputs": [
    {
     "data": {
      "text/plain": [
       "0       1\n",
       "1       1\n",
       "2       1\n",
       "3       1\n",
       "4       1\n",
       "       ..\n",
       "7995    1\n",
       "7996    1\n",
       "7997    1\n",
       "7998    1\n",
       "7999    1\n",
       "Name: TARGET_5Yrs, Length: 8000, dtype: int64"
      ]
     },
     "execution_count": 13,
     "metadata": {},
     "output_type": "execute_result"
    }
   ],
   "source": [
    "target"
   ]
  },
  {
   "cell_type": "code",
   "execution_count": 14,
   "id": "f5e20ced-5938-4220-bf60-8870616a8445",
   "metadata": {
    "tags": []
   },
   "outputs": [
    {
     "name": "stdout",
     "output_type": "stream",
     "text": [
      "Standardised samples:\n",
      "Dimension of features training data (6400, 5)\n",
      "Dimension of target training data (6400,)\n",
      "Dimension of features validation data (1600, 5)\n",
      "Dimension of targer validation data (1600,)\n"
     ]
    }
   ],
   "source": [
    "# Split randomly the dataset with random_state=8 into 2 different sets: training data (80%) and validation data (20%)\n",
    "from sklearn.model_selection import train_test_split\n",
    "X_train, X_val, y_train, y_val = train_test_split (features, \n",
    "                                                   target,\n",
    "                                                   test_size=0.2,\n",
    "                                                   random_state=8\n",
    "                                                  )\n",
    "\n",
    "print(\"Standardised samples:\")\n",
    "print(\"Dimension of features training data\", X_train.shape)\n",
    "print(\"Dimension of target training data\", y_train.shape)\n",
    "print(\"Dimension of features validation data\", X_val.shape)\n",
    "print(\"Dimension of targer validation data\", y_val.shape)\n"
   ]
  },
  {
   "cell_type": "markdown",
   "id": "8263168f-10d2-48fa-b79f-00d30136a57b",
   "metadata": {},
   "source": [
    "### Test Data"
   ]
  },
  {
   "cell_type": "code",
   "execution_count": 15,
   "id": "b0a05ece-0cec-43bb-ad69-e591505b5d9c",
   "metadata": {},
   "outputs": [
    {
     "name": "stdout",
     "output_type": "stream",
     "text": [
      "Dimension of test data (3799, 20)\n"
     ]
    }
   ],
   "source": [
    "test = np.load('../data/processed/test.npy')\n",
    "\n",
    "print(\"Dimension of test data\", test.shape)"
   ]
  },
  {
   "cell_type": "code",
   "execution_count": 16,
   "id": "31cfe400-919c-4c21-a689-a157888d09a2",
   "metadata": {},
   "outputs": [
    {
     "data": {
      "text/html": [
       "<div>\n",
       "<style scoped>\n",
       "    .dataframe tbody tr th:only-of-type {\n",
       "        vertical-align: middle;\n",
       "    }\n",
       "\n",
       "    .dataframe tbody tr th {\n",
       "        vertical-align: top;\n",
       "    }\n",
       "\n",
       "    .dataframe thead th {\n",
       "        text-align: right;\n",
       "    }\n",
       "</style>\n",
       "<table border=\"1\" class=\"dataframe\">\n",
       "  <thead>\n",
       "    <tr style=\"text-align: right;\">\n",
       "      <th></th>\n",
       "      <th>ID</th>\n",
       "      <th>Games Played</th>\n",
       "      <th>Minutes Played</th>\n",
       "      <th>Points Per Game</th>\n",
       "      <th>Field Goals Made</th>\n",
       "      <th>Field Goals Attempts</th>\n",
       "      <th>Field Goals Percent</th>\n",
       "      <th>3Points Made</th>\n",
       "      <th>3Points Attempts</th>\n",
       "      <th>3Points Percent</th>\n",
       "      <th>Free Throw Made</th>\n",
       "      <th>Free Throw Attempts</th>\n",
       "      <th>Free Throw Percent</th>\n",
       "      <th>Offensive Rebounds</th>\n",
       "      <th>Defensive Rebounds</th>\n",
       "      <th>Rebounds</th>\n",
       "      <th>Assists</th>\n",
       "      <th>Steals</th>\n",
       "      <th>Blocks</th>\n",
       "      <th>Turnovers</th>\n",
       "    </tr>\n",
       "  </thead>\n",
       "  <tbody>\n",
       "    <tr>\n",
       "      <th>0</th>\n",
       "      <td>3799.0</td>\n",
       "      <td>56.0</td>\n",
       "      <td>9.1</td>\n",
       "      <td>4.0</td>\n",
       "      <td>1.6</td>\n",
       "      <td>3.7</td>\n",
       "      <td>43.7</td>\n",
       "      <td>0.1</td>\n",
       "      <td>0.3</td>\n",
       "      <td>7.3</td>\n",
       "      <td>0.7</td>\n",
       "      <td>1.2</td>\n",
       "      <td>63.4</td>\n",
       "      <td>1.2</td>\n",
       "      <td>0.8</td>\n",
       "      <td>1.7</td>\n",
       "      <td>0.4</td>\n",
       "      <td>0.2</td>\n",
       "      <td>0.3</td>\n",
       "      <td>0.8</td>\n",
       "    </tr>\n",
       "    <tr>\n",
       "      <th>1</th>\n",
       "      <td>3800.0</td>\n",
       "      <td>43.0</td>\n",
       "      <td>19.3</td>\n",
       "      <td>10.1</td>\n",
       "      <td>3.7</td>\n",
       "      <td>8.1</td>\n",
       "      <td>46.0</td>\n",
       "      <td>0.6</td>\n",
       "      <td>1.7</td>\n",
       "      <td>35.1</td>\n",
       "      <td>1.8</td>\n",
       "      <td>2.5</td>\n",
       "      <td>75.3</td>\n",
       "      <td>0.5</td>\n",
       "      <td>0.9</td>\n",
       "      <td>1.5</td>\n",
       "      <td>3.5</td>\n",
       "      <td>0.6</td>\n",
       "      <td>0.0</td>\n",
       "      <td>1.8</td>\n",
       "    </tr>\n",
       "    <tr>\n",
       "      <th>2</th>\n",
       "      <td>3801.0</td>\n",
       "      <td>82.0</td>\n",
       "      <td>33.9</td>\n",
       "      <td>11.3</td>\n",
       "      <td>4.9</td>\n",
       "      <td>10.6</td>\n",
       "      <td>45.6</td>\n",
       "      <td>0.5</td>\n",
       "      <td>1.9</td>\n",
       "      <td>44.8</td>\n",
       "      <td>1.8</td>\n",
       "      <td>2.7</td>\n",
       "      <td>71.2</td>\n",
       "      <td>1.3</td>\n",
       "      <td>3.3</td>\n",
       "      <td>4.5</td>\n",
       "      <td>2.5</td>\n",
       "      <td>1.3</td>\n",
       "      <td>0.3</td>\n",
       "      <td>2.0</td>\n",
       "    </tr>\n",
       "    <tr>\n",
       "      <th>3</th>\n",
       "      <td>3802.0</td>\n",
       "      <td>86.0</td>\n",
       "      <td>44.7</td>\n",
       "      <td>18.8</td>\n",
       "      <td>6.8</td>\n",
       "      <td>15.9</td>\n",
       "      <td>42.9</td>\n",
       "      <td>0.5</td>\n",
       "      <td>1.8</td>\n",
       "      <td>13.5</td>\n",
       "      <td>4.5</td>\n",
       "      <td>6.3</td>\n",
       "      <td>70.9</td>\n",
       "      <td>1.5</td>\n",
       "      <td>3.2</td>\n",
       "      <td>5.0</td>\n",
       "      <td>4.1</td>\n",
       "      <td>0.9</td>\n",
       "      <td>0.1</td>\n",
       "      <td>3.6</td>\n",
       "    </tr>\n",
       "    <tr>\n",
       "      <th>4</th>\n",
       "      <td>3803.0</td>\n",
       "      <td>58.0</td>\n",
       "      <td>12.3</td>\n",
       "      <td>4.7</td>\n",
       "      <td>1.6</td>\n",
       "      <td>4.0</td>\n",
       "      <td>40.0</td>\n",
       "      <td>0.5</td>\n",
       "      <td>1.7</td>\n",
       "      <td>38.7</td>\n",
       "      <td>1.1</td>\n",
       "      <td>1.3</td>\n",
       "      <td>76.9</td>\n",
       "      <td>0.2</td>\n",
       "      <td>0.6</td>\n",
       "      <td>0.9</td>\n",
       "      <td>1.5</td>\n",
       "      <td>0.5</td>\n",
       "      <td>-0.4</td>\n",
       "      <td>0.9</td>\n",
       "    </tr>\n",
       "  </tbody>\n",
       "</table>\n",
       "</div>"
      ],
      "text/plain": [
       "       ID  Games Played  Minutes Played  Points Per Game  Field Goals Made  \\\n",
       "0  3799.0          56.0             9.1              4.0               1.6   \n",
       "1  3800.0          43.0            19.3             10.1               3.7   \n",
       "2  3801.0          82.0            33.9             11.3               4.9   \n",
       "3  3802.0          86.0            44.7             18.8               6.8   \n",
       "4  3803.0          58.0            12.3              4.7               1.6   \n",
       "\n",
       "   Field Goals Attempts  Field Goals Percent  3Points Made  3Points Attempts  \\\n",
       "0                   3.7                 43.7           0.1               0.3   \n",
       "1                   8.1                 46.0           0.6               1.7   \n",
       "2                  10.6                 45.6           0.5               1.9   \n",
       "3                  15.9                 42.9           0.5               1.8   \n",
       "4                   4.0                 40.0           0.5               1.7   \n",
       "\n",
       "   3Points Percent  Free Throw Made  Free Throw Attempts  Free Throw Percent  \\\n",
       "0              7.3              0.7                  1.2                63.4   \n",
       "1             35.1              1.8                  2.5                75.3   \n",
       "2             44.8              1.8                  2.7                71.2   \n",
       "3             13.5              4.5                  6.3                70.9   \n",
       "4             38.7              1.1                  1.3                76.9   \n",
       "\n",
       "   Offensive Rebounds  Defensive Rebounds  Rebounds  Assists  Steals  Blocks  \\\n",
       "0                 1.2                 0.8       1.7      0.4     0.2     0.3   \n",
       "1                 0.5                 0.9       1.5      3.5     0.6     0.0   \n",
       "2                 1.3                 3.3       4.5      2.5     1.3     0.3   \n",
       "3                 1.5                 3.2       5.0      4.1     0.9     0.1   \n",
       "4                 0.2                 0.6       0.9      1.5     0.5    -0.4   \n",
       "\n",
       "   Turnovers  \n",
       "0        0.8  \n",
       "1        1.8  \n",
       "2        2.0  \n",
       "3        3.6  \n",
       "4        0.9  "
      ]
     },
     "execution_count": 16,
     "metadata": {},
     "output_type": "execute_result"
    }
   ],
   "source": [
    "df_test = pd.DataFrame(test, \n",
    "             columns=['ID',\n",
    "                 'Games Played', \n",
    "    'Minutes Played',\n",
    "    'Points Per Game',\n",
    "    'Field Goals Made',\n",
    "    'Field Goals Attempts',\n",
    "    'Field Goals Percent',\n",
    "    '3Points Made',\n",
    "    '3Points Attempts',\n",
    "    '3Points Percent',\n",
    "    'Free Throw Made',\n",
    "    'Free Throw Attempts',\n",
    "    'Free Throw Percent',\n",
    "    'Offensive Rebounds',\n",
    "    'Defensive Rebounds',\n",
    "    'Rebounds',\n",
    "    'Assists',\n",
    "    'Steals',\n",
    "    'Blocks',\n",
    "    'Turnovers'\n",
    "                     ])\n",
    "\n",
    "df_test['ID'] = df_alltrain['ID'].astype(dtype ='str')\n",
    "\n",
    "df_test.head()"
   ]
  },
  {
   "cell_type": "code",
   "execution_count": 17,
   "id": "e01bd495-17df-44d6-a008-500898eab465",
   "metadata": {},
   "outputs": [
    {
     "name": "stdout",
     "output_type": "stream",
     "text": [
      "Standardised test data:\n",
      "Dimension of features test data (3799, 5)\n"
     ]
    }
   ],
   "source": [
    "df_features_test = df_test[['Games Played',\n",
    "                           'Field Goals Attempts',\n",
    "                           'Field Goals Percent',\n",
    "                           '3Points Made',\n",
    "                           '3Points Attempts']]\n",
    "\n",
    "X_test = scaler.fit_transform(df_features_test)\n",
    "\n",
    "print(\"Standardised test data:\")\n",
    "print(\"Dimension of features test data\", X_test.shape)"
   ]
  },
  {
   "cell_type": "code",
   "execution_count": 18,
   "id": "a5af7c79-18d0-4348-bfbe-787b1c0fad42",
   "metadata": {},
   "outputs": [
    {
     "data": {
      "text/plain": [
       "array([[-0.3996569 , -0.72723142, -0.14886955, -0.40941771, -0.47203298],\n",
       "       [-1.15769727,  0.50224806,  0.23196471,  0.90313746,  0.85785081],\n",
       "       [ 1.11642385,  1.20081595,  0.16573266,  0.64062642,  1.04783421],\n",
       "       ...,\n",
       "       [-0.57458929, -1.25814302, -0.24821762, -1.72197287, -1.32695828],\n",
       "       [ 1.52459944,  1.53612854,  0.09950062,  0.64062642,  0.38289231],\n",
       "       [-0.4579677 , -1.06254401, -0.38068171, -0.40941771, -0.18705788]])"
      ]
     },
     "execution_count": 18,
     "metadata": {},
     "output_type": "execute_result"
    }
   ],
   "source": [
    "X_test"
   ]
  },
  {
   "cell_type": "markdown",
   "id": "3d82d3dd-f3b6-427c-ae6c-71b869c281bd",
   "metadata": {},
   "source": [
    "## Apply the Logistic Regression with Sklearn"
   ]
  },
  {
   "cell_type": "markdown",
   "id": "28d1cd9d-e993-405e-9af4-003b3927740a",
   "metadata": {},
   "source": [
    "##### Create an instance of logistic regression"
   ]
  },
  {
   "cell_type": "code",
   "execution_count": 19,
   "id": "75b9edfc-04d6-478a-a776-32b87faf62bc",
   "metadata": {},
   "outputs": [],
   "source": [
    "from sklearn.linear_model import LogisticRegression\n",
    "\n",
    "logreg = LogisticRegression(penalty = 'l2', #use L2 regularisation\n",
    "                           dual = False, #dual problem\n",
    "                           tol = 0.0001,\n",
    "                           C = 1.0,\n",
    "                           fit_intercept = True,\n",
    "                           intercept_scaling = 1,\n",
    "                           class_weight = None,\n",
    "                           random_state = None,\n",
    "                           solver = 'liblinear',\n",
    "                           max_iter = 100,\n",
    "                           multi_class = 'ovr',\n",
    "                           verbose = 0,\n",
    "                           warm_start = False,\n",
    "                           n_jobs = 1,\n",
    "                           l1_ratio = None\n",
    "                          )"
   ]
  },
  {
   "cell_type": "code",
   "execution_count": 20,
   "id": "ffc1acff-6bbf-412e-bba1-c03454ecc90a",
   "metadata": {},
   "outputs": [
    {
     "data": {
      "text/html": [
       "<style>#sk-container-id-1 {color: black;background-color: white;}#sk-container-id-1 pre{padding: 0;}#sk-container-id-1 div.sk-toggleable {background-color: white;}#sk-container-id-1 label.sk-toggleable__label {cursor: pointer;display: block;width: 100%;margin-bottom: 0;padding: 0.3em;box-sizing: border-box;text-align: center;}#sk-container-id-1 label.sk-toggleable__label-arrow:before {content: \"▸\";float: left;margin-right: 0.25em;color: #696969;}#sk-container-id-1 label.sk-toggleable__label-arrow:hover:before {color: black;}#sk-container-id-1 div.sk-estimator:hover label.sk-toggleable__label-arrow:before {color: black;}#sk-container-id-1 div.sk-toggleable__content {max-height: 0;max-width: 0;overflow: hidden;text-align: left;background-color: #f0f8ff;}#sk-container-id-1 div.sk-toggleable__content pre {margin: 0.2em;color: black;border-radius: 0.25em;background-color: #f0f8ff;}#sk-container-id-1 input.sk-toggleable__control:checked~div.sk-toggleable__content {max-height: 200px;max-width: 100%;overflow: auto;}#sk-container-id-1 input.sk-toggleable__control:checked~label.sk-toggleable__label-arrow:before {content: \"▾\";}#sk-container-id-1 div.sk-estimator input.sk-toggleable__control:checked~label.sk-toggleable__label {background-color: #d4ebff;}#sk-container-id-1 div.sk-label input.sk-toggleable__control:checked~label.sk-toggleable__label {background-color: #d4ebff;}#sk-container-id-1 input.sk-hidden--visually {border: 0;clip: rect(1px 1px 1px 1px);clip: rect(1px, 1px, 1px, 1px);height: 1px;margin: -1px;overflow: hidden;padding: 0;position: absolute;width: 1px;}#sk-container-id-1 div.sk-estimator {font-family: monospace;background-color: #f0f8ff;border: 1px dotted black;border-radius: 0.25em;box-sizing: border-box;margin-bottom: 0.5em;}#sk-container-id-1 div.sk-estimator:hover {background-color: #d4ebff;}#sk-container-id-1 div.sk-parallel-item::after {content: \"\";width: 100%;border-bottom: 1px solid gray;flex-grow: 1;}#sk-container-id-1 div.sk-label:hover label.sk-toggleable__label {background-color: #d4ebff;}#sk-container-id-1 div.sk-serial::before {content: \"\";position: absolute;border-left: 1px solid gray;box-sizing: border-box;top: 0;bottom: 0;left: 50%;z-index: 0;}#sk-container-id-1 div.sk-serial {display: flex;flex-direction: column;align-items: center;background-color: white;padding-right: 0.2em;padding-left: 0.2em;position: relative;}#sk-container-id-1 div.sk-item {position: relative;z-index: 1;}#sk-container-id-1 div.sk-parallel {display: flex;align-items: stretch;justify-content: center;background-color: white;position: relative;}#sk-container-id-1 div.sk-item::before, #sk-container-id-1 div.sk-parallel-item::before {content: \"\";position: absolute;border-left: 1px solid gray;box-sizing: border-box;top: 0;bottom: 0;left: 50%;z-index: -1;}#sk-container-id-1 div.sk-parallel-item {display: flex;flex-direction: column;z-index: 1;position: relative;background-color: white;}#sk-container-id-1 div.sk-parallel-item:first-child::after {align-self: flex-end;width: 50%;}#sk-container-id-1 div.sk-parallel-item:last-child::after {align-self: flex-start;width: 50%;}#sk-container-id-1 div.sk-parallel-item:only-child::after {width: 0;}#sk-container-id-1 div.sk-dashed-wrapped {border: 1px dashed gray;margin: 0 0.4em 0.5em 0.4em;box-sizing: border-box;padding-bottom: 0.4em;background-color: white;}#sk-container-id-1 div.sk-label label {font-family: monospace;font-weight: bold;display: inline-block;line-height: 1.2em;}#sk-container-id-1 div.sk-label-container {text-align: center;}#sk-container-id-1 div.sk-container {/* jupyter's `normalize.less` sets `[hidden] { display: none; }` but bootstrap.min.css set `[hidden] { display: none !important; }` so we also need the `!important` here to be able to override the default hidden behavior on the sphinx rendered scikit-learn.org. See: https://github.com/scikit-learn/scikit-learn/issues/21755 */display: inline-block !important;position: relative;}#sk-container-id-1 div.sk-text-repr-fallback {display: none;}</style><div id=\"sk-container-id-1\" class=\"sk-top-container\"><div class=\"sk-text-repr-fallback\"><pre>LogisticRegression(multi_class=&#x27;ovr&#x27;, n_jobs=1, solver=&#x27;liblinear&#x27;)</pre><b>In a Jupyter environment, please rerun this cell to show the HTML representation or trust the notebook. <br />On GitHub, the HTML representation is unable to render, please try loading this page with nbviewer.org.</b></div><div class=\"sk-container\" hidden><div class=\"sk-item\"><div class=\"sk-estimator sk-toggleable\"><input class=\"sk-toggleable__control sk-hidden--visually\" id=\"sk-estimator-id-1\" type=\"checkbox\" checked><label for=\"sk-estimator-id-1\" class=\"sk-toggleable__label sk-toggleable__label-arrow\">LogisticRegression</label><div class=\"sk-toggleable__content\"><pre>LogisticRegression(multi_class=&#x27;ovr&#x27;, n_jobs=1, solver=&#x27;liblinear&#x27;)</pre></div></div></div></div></div>"
      ],
      "text/plain": [
       "LogisticRegression(multi_class='ovr', n_jobs=1, solver='liblinear')"
      ]
     },
     "execution_count": 20,
     "metadata": {},
     "output_type": "execute_result"
    }
   ],
   "source": [
    "logreg.fit(X_train, y_train)"
   ]
  },
  {
   "cell_type": "code",
   "execution_count": 21,
   "id": "0ea681be-dd17-4d7f-b8ab-2a108b4646e4",
   "metadata": {},
   "outputs": [
    {
     "data": {
      "text/plain": [
       "['../models/logreg_sklearn_subset1.joblib']"
      ]
     },
     "execution_count": 21,
     "metadata": {},
     "output_type": "execute_result"
    }
   ],
   "source": [
    "#Dump the model\n",
    "# from joblib import dump\n",
    "dump(logreg,  '../models/logreg_sklearn_subset1.joblib')"
   ]
  },
  {
   "cell_type": "markdown",
   "id": "3545cf86-607b-4b2a-b3a8-f4586c22c46f",
   "metadata": {},
   "source": [
    "## Generate Predictions (added in Week 2)"
   ]
  },
  {
   "cell_type": "code",
   "execution_count": 22,
   "id": "6176e1ad-d688-4af4-ae16-b537a006635f",
   "metadata": {},
   "outputs": [],
   "source": [
    "#Save the predictions from this model for training and validation sets into 2 variables\n",
    "\n",
    "# y_train_prediction = logreg.predict(X_train)\n",
    "# y_train_probabilities = logreg.predict_proba(X_train)\n",
    "\n",
    "# y_val_prediction = logreg.predict(X_val)\n",
    "# y_val_probabilities = logreg.predict_proba(X_val)\n",
    "\n",
    "# y_test_prediction = logreg.predict(X_test)\n",
    "# y_test_probabilities = logreg.predict_proba(X_test)\n",
    "\n",
    "\n",
    "\n",
    "\n",
    "y_pred_ontrain = logreg.predict(X_train) \n",
    "y_pred_onval = logreg.predict(X_val) # official\n",
    "\n",
    "y_proba_ontrain = logreg.predict_proba(X_train) \n",
    "y_proba_onval = logreg.predict_proba(X_val) # official"
   ]
  },
  {
   "cell_type": "markdown",
   "id": "149faea2-c5b5-47a0-8951-e68360f7e3d3",
   "metadata": {},
   "source": [
    "## Evaluation"
   ]
  },
  {
   "cell_type": "markdown",
   "id": "e28aa394-579b-4a6b-a02e-fc3e4d946106",
   "metadata": {},
   "source": [
    "### Accuracy"
   ]
  },
  {
   "cell_type": "code",
   "execution_count": 23,
   "id": "4524d1d5-e13a-4658-8832-87d18ad96852",
   "metadata": {},
   "outputs": [
    {
     "name": "stdout",
     "output_type": "stream",
     "text": [
      "Accuracy of logistic regression classifier on train set 83.40625\n",
      "Accuracy of logistic regression classifier on validation set 83.625\n"
     ]
    }
   ],
   "source": [
    "from sklearn.metrics import accuracy_score\n",
    "\n",
    "print('Accuracy of logistic regression classifier on train set', accuracy_score(y_train, y_pred_ontrain)*100)\n",
    "print('Accuracy of logistic regression classifier on validation set', accuracy_score(y_val, y_pred_onval)*100)\n"
   ]
  },
  {
   "cell_type": "code",
   "execution_count": 24,
   "id": "68de8afa-bd2a-4dd5-85d3-d8f6a328ab4e",
   "metadata": {},
   "outputs": [
    {
     "name": "stdout",
     "output_type": "stream",
     "text": [
      "Accuracy of logistic regression classifier on train set: 0.83406\n",
      "Accuracy of logistic regression classifier on test set: 0.84\n"
     ]
    }
   ],
   "source": [
    "print('Accuracy of logistic regression classifier on train set: {:.5f}'.format(logreg.score(X_train, y_train)))\n",
    "print('Accuracy of logistic regression classifier on test set: {:.2f}'.format(logreg.score(X_val, y_val)))\n"
   ]
  },
  {
   "cell_type": "markdown",
   "id": "cf923fdf-0759-44ce-bf5e-88d4acff3c26",
   "metadata": {},
   "source": [
    "## Model Evaluation"
   ]
  },
  {
   "cell_type": "markdown",
   "id": "81d4211a-7194-4edd-8a04-140dede868c8",
   "metadata": {},
   "source": [
    "### Confusion Matrix"
   ]
  },
  {
   "cell_type": "code",
   "execution_count": 30,
   "id": "a91c2fcd-5942-4408-b3d4-35e16aa332f0",
   "metadata": {},
   "outputs": [
    {
     "data": {
      "text/plain": [
       "array([[   5,  252],\n",
       "       [  10, 1333]])"
      ]
     },
     "execution_count": 30,
     "metadata": {},
     "output_type": "execute_result"
    }
   ],
   "source": [
    "cnf_matrix = metrics.confusion_matrix(y_val, y_pred_onval)\n",
    "cnf_matrix"
   ]
  },
  {
   "cell_type": "code",
   "execution_count": 31,
   "id": "420d1ece-1526-41bc-9b41-7515fba73fb3",
   "metadata": {},
   "outputs": [
    {
     "data": {
      "image/png": "[encoded data removed]",
      "text/plain": [
       "<Figure size 640x480 with 2 Axes>"
      ]
     },
     "metadata": {},
     "output_type": "display_data"
    }
   ],
   "source": [
    "class_names = [0,1] # name  of classes\n",
    "fig, ax = plt.subplots()\n",
    "tick_marks = np.arange(len(class_names))\n",
    "plt.xticks(tick_marks, class_names)\n",
    "plt.yticks(tick_marks, class_names)\n",
    "\n",
    "# create heatmap\n",
    "sns.heatmap(pd.DataFrame(cnf_matrix), annot=True, cmap=\"YlGnBu\" ,fmt='g')\n",
    "ax.xaxis.set_label_position(\"top\")\n",
    "plt.tight_layout()\n",
    "plt.title('Confusion matrix', y=1.1)\n",
    "plt.ylabel('Actual label')\n",
    "plt.xlabel('Predicted label');"
   ]
  },
  {
   "cell_type": "markdown",
   "id": "34ae1e9b-ce8b-4d5b-804e-ec255bf20e92",
   "metadata": {},
   "source": [
    "### Accuracy, Precision, and Recall"
   ]
  },
  {
   "cell_type": "code",
   "execution_count": 32,
   "id": "320bcf85-4de2-4aca-ad1b-d3efa96fa012",
   "metadata": {},
   "outputs": [
    {
     "name": "stdout",
     "output_type": "stream",
     "text": [
      "                          precision    recall  f1-score   support\n",
      "\n",
      " career years played < 5       0.33      0.02      0.04       257\n",
      "career years played >= 5       0.84      0.99      0.91      1343\n",
      "\n",
      "                accuracy                           0.84      1600\n",
      "               macro avg       0.59      0.51      0.47      1600\n",
      "            weighted avg       0.76      0.84      0.77      1600\n",
      "\n"
     ]
    }
   ],
   "source": [
    "target_names = ['career years played < 5', 'career years played >= 5']\n",
    "print(classification_report(y_val, y_pred_onval, target_names=target_names))"
   ]
  },
  {
   "cell_type": "markdown",
   "id": "9f844264-acfa-4607-963b-72c2047ad89f",
   "metadata": {},
   "source": [
    "### ROC"
   ]
  },
  {
   "cell_type": "code",
   "execution_count": 33,
   "id": "873a5eeb-3e6d-4703-9521-fa6a8f67ef16",
   "metadata": {},
   "outputs": [
    {
     "data": {
      "image/png": "[encoded data removed]",
      "text/plain": [
       "<Figure size 640x480 with 1 Axes>"
      ]
     },
     "metadata": {},
     "output_type": "display_data"
    }
   ],
   "source": [
    "# y_pred_proba = logreg.predict_proba(X_test)[::,1]\n",
    "y_proba_onval = logreg.predict_proba(X_val)[::,1]  # official\n",
    "fpr, tpr, _ = metrics.roc_curve(y_val,  y_proba_onval)\n",
    "auc = metrics.roc_auc_score(y_val, y_proba_onval)\n",
    "\n",
    "plt.plot(fpr,tpr,label=\"data 1, auc=\"+str(auc))\n",
    "plt.legend(loc=4)\n",
    "plt.show()"
   ]
  },
  {
   "cell_type": "code",
   "execution_count": null,
   "id": "67884beb-6f15-4189-a936-9dd4749e741f",
   "metadata": {},
   "outputs": [],
   "source": []
  }
 ],
 "metadata": {
  "kernelspec": {
   "display_name": "Python 3 (ipykernel)",
   "language": "python",
   "name": "python3"
  },
  "language_info": {
   "codemirror_mode": {
    "name": "ipython",
    "version": 3
   },
   "file_extension": ".py",
   "mimetype": "text/x-python",
   "name": "python",
   "nbconvert_exporter": "python",
   "pygments_lexer": "ipython3",
   "version": "3.8.13"
  }
 },
 "nbformat": 4,
 "nbformat_minor": 5
}
