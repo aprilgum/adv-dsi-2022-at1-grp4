{
 "cells": [
  {
   "cell_type": "code",
   "execution_count": null,
   "id": "d81a4bf1-6f69-424b-8c8e-da213b9fcdeb",
   "metadata": {},
   "outputs": [],
   "source": [
    "import pandas as pd\n",
    "import numpy as np\n",
    "\n",
    "from sklearn import preprocessing\n",
    "from sklearn.linear_model import LogisticRegression\n",
    "from sklearn.model_selection import train_test_split\n",
    "from sklearn.preprocessing import StandardScaler\n",
    "\n",
    "import matplotlib.pyplot as plt \n",
    "plt.rc(\"font\", size=14)\n",
    "\n",
    "import seaborn as sns\n",
    "sns.set(style=\"white\")\n",
    "sns.set(style=\"whitegrid\", color_codes=True)\n",
    "\n",
    "from joblib import dump"
   ]
  },
  {
   "cell_type": "code",
   "execution_count": null,
   "id": "ed52f2bd-b292-4024-be2f-1dc23caa9ccb",
   "metadata": {},
   "outputs": [],
   "source": [
    "df_2022_train = pd.read_csv('../data/raw/2022_train.csv')\n",
    "\n",
    "df_main = df_2022_train.rename(columns = {\n",
    "    'GP':'Games Played', \n",
    "    'MIN':'Minutes Played',\n",
    "    'PTS':'Points Per Game',\n",
    "    'FGM' : 'Field Goals Made',\n",
    "    'FGA' : 'Field Goals Attempts',\n",
    "    'FG%' : 'Field Goals Percent',\n",
    "    '3P Made' : '3Points Made',\n",
    "    '3PA' : '3Points Attempts',\n",
    "    '3P%' : '3Points Percent',\n",
    "    'FTM' : 'Free Throw Made',\n",
    "    'FTA' : 'Free Throw Attempts',\n",
    "    'FT%' : 'Free Throw Percent',\n",
    "    'OREB' : 'Offensive Rebounds',\n",
    "    'DREB' : 'Defensive Rebounds',\n",
    "    'REB' : 'Rebounds',\n",
    "    'AST' : 'Assists',\n",
    "    'STL' : 'Steals',\n",
    "    'BLK' : 'Blocks',\n",
    "    'TOV' : 'Turnovers'\n",
    "    })\n",
    "\n",
    "df_main.head()"
   ]
  },
  {
   "cell_type": "code",
   "execution_count": null,
   "id": "9e0793e3-452b-4232-a672-72c682fe3617",
   "metadata": {},
   "outputs": [],
   "source": [
    "df_2022_test = pd.read_csv('../data/raw/2022_test.csv')\n",
    "\n",
    "df_test = df_2022_test.rename(columns = {\n",
    "    'GP':'Games Played', \n",
    "    'MIN':'Minutes Played',\n",
    "    'PTS':'Points Per Game',\n",
    "    'FGM' : 'Field Goals Made',\n",
    "    'FGA' : 'Field Goals Attempts',\n",
    "    'FG%' : 'Field Goals Percent',\n",
    "    '3P Made' : '3Points Made',\n",
    "    '3PA' : '3Points Attempts',\n",
    "    '3P%' : '3Points Percent',\n",
    "    'FTM' : 'Free Throw Made',\n",
    "    'FTA' : 'Free Throw Attempts',\n",
    "    'FT%' : 'Free Throw Percent',\n",
    "    'OREB' : 'Offensive Rebounds',\n",
    "    'DREB' : 'Defensive Rebounds',\n",
    "    'REB' : 'Rebounds',\n",
    "    'AST' : 'Assists',\n",
    "    'STL' : 'Steals',\n",
    "    'BLK' : 'Blocks',\n",
    "    'TOV' : 'Turnovers'\n",
    "    })\n",
    "\n",
    "df_test.head()"
   ]
  },
  {
   "cell_type": "markdown",
   "id": "5374f039-3f21-4416-b1a5-130bf619cdba",
   "metadata": {},
   "source": [
    "## Standardise"
   ]
  },
  {
   "cell_type": "markdown",
   "id": "f461055d-2818-43f0-ae3f-b026351815df",
   "metadata": {},
   "source": [
    "#### Training Data"
   ]
  },
  {
   "cell_type": "code",
   "execution_count": null,
   "id": "00b7d474-9ed6-4ada-84d2-be1d3bacc363",
   "metadata": {},
   "outputs": [],
   "source": [
    "df_standard = df_main.copy()"
   ]
  },
  {
   "cell_type": "code",
   "execution_count": null,
   "id": "2173d48b",
   "metadata": {},
   "outputs": [],
   "source": [
    "target_var = df_standard.pop('TARGET_5Yrs')\n",
    "target_var.head()"
   ]
  },
  {
   "cell_type": "code",
   "execution_count": null,
   "id": "cd0dc763-284c-484c-91ca-6d36354dac28",
   "metadata": {
    "tags": []
   },
   "outputs": [],
   "source": [
    "scaler = StandardScaler()\n",
    "df_standard = scaler.fit_transform(df_standard)\n",
    "\n",
    "# Save the scaler into the folder models and call the file scaler.joblib\n",
    "# using joblib - dump\n",
    "dump(scaler, '../models/scaler.joblib')"
   ]
  },
  {
   "cell_type": "markdown",
   "id": "608bdb5f-1fa6-4ca2-9292-9cd8ef26eda9",
   "metadata": {},
   "source": [
    "#### Test Data"
   ]
  },
  {
   "cell_type": "code",
   "execution_count": null,
   "id": "dbb60801",
   "metadata": {},
   "outputs": [],
   "source": [
    "X_test = df_test.copy()\n",
    "X_test = scaler.fit_transform(X_test)"
   ]
  },
  {
   "cell_type": "markdown",
   "id": "f57b3523-c1c2-4238-ab91-718d50dff8d6",
   "metadata": {},
   "source": [
    "## Split into training and validation"
   ]
  },
  {
   "cell_type": "markdown",
   "id": "bce2fc80-1094-44fa-9740-61e51f7019b6",
   "metadata": {},
   "source": [
    "#### Train data"
   ]
  },
  {
   "cell_type": "code",
   "execution_count": null,
   "id": "8ea51ace-5f0e-4142-b4ac-f83262ac0c82",
   "metadata": {},
   "outputs": [],
   "source": [
    "# Split randomly the dataset with random_state=8 into 2 different sets: training data (80%) and validation data (20%)\n",
    "X_train, X_val, y_train, y_val = train_test_split (df_standard, target_var, test_size=0.2, random_state=8)\n",
    "\n",
    "# Save the different sets in the folder `data/processed`\n",
    "np.save('../data/processed/X_train', X_train)\n",
    "np.save('../data/processed/X_val',   X_val)\n",
    "np.save('../data/processed/y_train', y_train)\n",
    "np.save('../data/processed/y_val',   y_val)"
   ]
  },
  {
   "cell_type": "markdown",
   "id": "47ba3b78-4634-4625-a109-cea6db4c9848",
   "metadata": {},
   "source": [
    "#### Test"
   ]
  },
  {
   "cell_type": "code",
   "execution_count": null,
   "id": "eb23d5dc-a9f5-4aa0-9f40-63551c35cc07",
   "metadata": {},
   "outputs": [],
   "source": [
    "# Save the different sets in the folder `data/processed`\n",
    "np.save('../data/processed/X_test',  X_test)"
   ]
  }
 ],
 "metadata": {
  "kernelspec": {
   "display_name": "Python 3 (ipykernel)",
   "language": "python",
   "name": "python3"
  },
  "language_info": {
   "codemirror_mode": {
    "name": "ipython",
    "version": 3
   },
   "file_extension": ".py",
   "mimetype": "text/x-python",
   "name": "python",
   "nbconvert_exporter": "python",
   "pygments_lexer": "ipython3",
   "version": "3.8.13"
  }
 },
 "nbformat": 4,
 "nbformat_minor": 5
}
