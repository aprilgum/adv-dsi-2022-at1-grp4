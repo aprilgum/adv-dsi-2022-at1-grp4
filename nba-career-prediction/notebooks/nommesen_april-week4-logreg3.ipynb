{
 "cells": [
  {
   "cell_type": "markdown",
   "id": "6276bbc5-f8fc-454a-b837-5f4d1a00d421",
   "metadata": {},
   "source": [
    "# Logistic Regression Manual Parameter Tuning\n",
    "\n",
    "All features\n",
    "\n",
    "Hyperparameter tuning\n",
    "\n",
    "Up-sample the minority class\n",
    "\n",
    "Pre-requisite: nommesen_april-week2-prepare_data.ipynb"
   ]
  },
  {
   "cell_type": "code",
   "execution_count": 1,
   "id": "d4477d6a-0e30-4726-9f9f-7a37121ab15b",
   "metadata": {},
   "outputs": [],
   "source": [
    "import pandas as pd\n",
    "import numpy as np\n",
    "import math\n",
    "\n",
    "# SKLearn\n",
    "from sklearn.utils import resample\n",
    "from sklearn.preprocessing import StandardScaler\n",
    "from sklearn.preprocessing import MinMaxScaler\n",
    "from sklearn.model_selection import train_test_split\n",
    "from sklearn.linear_model import LogisticRegression\n",
    "from sklearn import metrics\n",
    "from sklearn.metrics import classification_report\n",
    "from sklearn.metrics import accuracy_score\n",
    "\n",
    "# import xgboost as xgb\n",
    "from hyperopt import Trials, STATUS_OK, tpe, hp, fmin\n",
    "\n",
    "import matplotlib.pyplot as plt\n",
    "import seaborn as sns\n",
    "\n",
    "import joblib\n"
   ]
  },
  {
   "cell_type": "markdown",
   "id": "83a0cb66-0efb-489b-bd5f-3745ebe63071",
   "metadata": {},
   "source": [
    "## Loading the training data set (standardised)"
   ]
  },
  {
   "cell_type": "code",
   "execution_count": 2,
   "id": "7ec6a901-3a3c-49e7-a9c2-1d1ad2b02976",
   "metadata": {},
   "outputs": [
    {
     "name": "stdout",
     "output_type": "stream",
     "text": [
      "Dimension of training data - unsplit (8000, 21)\n"
     ]
    },
    {
     "data": {
      "text/html": [
       "<div>\n",
       "<style scoped>\n",
       "    .dataframe tbody tr th:only-of-type {\n",
       "        vertical-align: middle;\n",
       "    }\n",
       "\n",
       "    .dataframe tbody tr th {\n",
       "        vertical-align: top;\n",
       "    }\n",
       "\n",
       "    .dataframe thead th {\n",
       "        text-align: right;\n",
       "    }\n",
       "</style>\n",
       "<table border=\"1\" class=\"dataframe\">\n",
       "  <thead>\n",
       "    <tr style=\"text-align: right;\">\n",
       "      <th></th>\n",
       "      <th>ID</th>\n",
       "      <th>Games Played</th>\n",
       "      <th>Minutes Played</th>\n",
       "      <th>Points Per Game</th>\n",
       "      <th>Field Goals Made</th>\n",
       "      <th>Field Goals Attempts</th>\n",
       "      <th>Field Goals Percent</th>\n",
       "      <th>3Points Made</th>\n",
       "      <th>3Points Attempts</th>\n",
       "      <th>3Points Percent</th>\n",
       "      <th>...</th>\n",
       "      <th>Free Throw Attempts</th>\n",
       "      <th>Free Throw Percent</th>\n",
       "      <th>Offensive Rebounds</th>\n",
       "      <th>Defensive Rebounds</th>\n",
       "      <th>Rebounds</th>\n",
       "      <th>Assists</th>\n",
       "      <th>Steals</th>\n",
       "      <th>Blocks</th>\n",
       "      <th>Turnovers</th>\n",
       "      <th>TARGET_5Yrs</th>\n",
       "    </tr>\n",
       "  </thead>\n",
       "  <tbody>\n",
       "    <tr>\n",
       "      <th>0</th>\n",
       "      <td>3799.0</td>\n",
       "      <td>80.0</td>\n",
       "      <td>24.3</td>\n",
       "      <td>7.8</td>\n",
       "      <td>3.0</td>\n",
       "      <td>6.4</td>\n",
       "      <td>45.7</td>\n",
       "      <td>0.1</td>\n",
       "      <td>0.3</td>\n",
       "      <td>22.6</td>\n",
       "      <td>...</td>\n",
       "      <td>2.9</td>\n",
       "      <td>72.1</td>\n",
       "      <td>2.2</td>\n",
       "      <td>2.0</td>\n",
       "      <td>3.8</td>\n",
       "      <td>3.2</td>\n",
       "      <td>1.1</td>\n",
       "      <td>0.2</td>\n",
       "      <td>1.6</td>\n",
       "      <td>1</td>\n",
       "    </tr>\n",
       "    <tr>\n",
       "      <th>1</th>\n",
       "      <td>3800.0</td>\n",
       "      <td>75.0</td>\n",
       "      <td>21.8</td>\n",
       "      <td>10.5</td>\n",
       "      <td>4.2</td>\n",
       "      <td>7.9</td>\n",
       "      <td>55.1</td>\n",
       "      <td>-0.3</td>\n",
       "      <td>-1.0</td>\n",
       "      <td>34.9</td>\n",
       "      <td>...</td>\n",
       "      <td>3.6</td>\n",
       "      <td>67.8</td>\n",
       "      <td>3.6</td>\n",
       "      <td>3.7</td>\n",
       "      <td>6.6</td>\n",
       "      <td>0.7</td>\n",
       "      <td>0.5</td>\n",
       "      <td>0.6</td>\n",
       "      <td>1.4</td>\n",
       "      <td>1</td>\n",
       "    </tr>\n",
       "    <tr>\n",
       "      <th>2</th>\n",
       "      <td>3801.0</td>\n",
       "      <td>85.0</td>\n",
       "      <td>19.1</td>\n",
       "      <td>4.5</td>\n",
       "      <td>1.9</td>\n",
       "      <td>4.5</td>\n",
       "      <td>42.8</td>\n",
       "      <td>0.4</td>\n",
       "      <td>1.2</td>\n",
       "      <td>34.3</td>\n",
       "      <td>...</td>\n",
       "      <td>0.6</td>\n",
       "      <td>75.7</td>\n",
       "      <td>0.6</td>\n",
       "      <td>1.8</td>\n",
       "      <td>2.4</td>\n",
       "      <td>0.8</td>\n",
       "      <td>0.4</td>\n",
       "      <td>0.2</td>\n",
       "      <td>0.6</td>\n",
       "      <td>1</td>\n",
       "    </tr>\n",
       "    <tr>\n",
       "      <th>3</th>\n",
       "      <td>3802.0</td>\n",
       "      <td>63.0</td>\n",
       "      <td>19.1</td>\n",
       "      <td>8.2</td>\n",
       "      <td>3.5</td>\n",
       "      <td>6.7</td>\n",
       "      <td>52.5</td>\n",
       "      <td>0.3</td>\n",
       "      <td>0.8</td>\n",
       "      <td>23.7</td>\n",
       "      <td>...</td>\n",
       "      <td>1.5</td>\n",
       "      <td>66.9</td>\n",
       "      <td>0.8</td>\n",
       "      <td>2.0</td>\n",
       "      <td>3.0</td>\n",
       "      <td>1.8</td>\n",
       "      <td>0.4</td>\n",
       "      <td>0.1</td>\n",
       "      <td>1.9</td>\n",
       "      <td>1</td>\n",
       "    </tr>\n",
       "    <tr>\n",
       "      <th>4</th>\n",
       "      <td>3803.0</td>\n",
       "      <td>63.0</td>\n",
       "      <td>17.8</td>\n",
       "      <td>3.7</td>\n",
       "      <td>1.7</td>\n",
       "      <td>3.4</td>\n",
       "      <td>50.8</td>\n",
       "      <td>0.5</td>\n",
       "      <td>1.4</td>\n",
       "      <td>13.7</td>\n",
       "      <td>...</td>\n",
       "      <td>0.5</td>\n",
       "      <td>54.0</td>\n",
       "      <td>2.4</td>\n",
       "      <td>2.7</td>\n",
       "      <td>4.9</td>\n",
       "      <td>0.4</td>\n",
       "      <td>0.4</td>\n",
       "      <td>0.6</td>\n",
       "      <td>0.7</td>\n",
       "      <td>1</td>\n",
       "    </tr>\n",
       "  </tbody>\n",
       "</table>\n",
       "<p>5 rows × 21 columns</p>\n",
       "</div>"
      ],
      "text/plain": [
       "       ID  Games Played  Minutes Played  Points Per Game  Field Goals Made  \\\n",
       "0  3799.0          80.0            24.3              7.8               3.0   \n",
       "1  3800.0          75.0            21.8             10.5               4.2   \n",
       "2  3801.0          85.0            19.1              4.5               1.9   \n",
       "3  3802.0          63.0            19.1              8.2               3.5   \n",
       "4  3803.0          63.0            17.8              3.7               1.7   \n",
       "\n",
       "   Field Goals Attempts  Field Goals Percent  3Points Made  3Points Attempts  \\\n",
       "0                   6.4                 45.7           0.1               0.3   \n",
       "1                   7.9                 55.1          -0.3              -1.0   \n",
       "2                   4.5                 42.8           0.4               1.2   \n",
       "3                   6.7                 52.5           0.3               0.8   \n",
       "4                   3.4                 50.8           0.5               1.4   \n",
       "\n",
       "   3Points Percent  ...  Free Throw Attempts  Free Throw Percent  \\\n",
       "0             22.6  ...                  2.9                72.1   \n",
       "1             34.9  ...                  3.6                67.8   \n",
       "2             34.3  ...                  0.6                75.7   \n",
       "3             23.7  ...                  1.5                66.9   \n",
       "4             13.7  ...                  0.5                54.0   \n",
       "\n",
       "   Offensive Rebounds  Defensive Rebounds  Rebounds  Assists  Steals  Blocks  \\\n",
       "0                 2.2                 2.0       3.8      3.2     1.1     0.2   \n",
       "1                 3.6                 3.7       6.6      0.7     0.5     0.6   \n",
       "2                 0.6                 1.8       2.4      0.8     0.4     0.2   \n",
       "3                 0.8                 2.0       3.0      1.8     0.4     0.1   \n",
       "4                 2.4                 2.7       4.9      0.4     0.4     0.6   \n",
       "\n",
       "   Turnovers  TARGET_5Yrs  \n",
       "0        1.6            1  \n",
       "1        1.4            1  \n",
       "2        0.6            1  \n",
       "3        1.9            1  \n",
       "4        0.7            1  \n",
       "\n",
       "[5 rows x 21 columns]"
      ]
     },
     "execution_count": 2,
     "metadata": {},
     "output_type": "execute_result"
    }
   ],
   "source": [
    "alltrain = np.load('../data/processed/alltrain.npy')\n",
    "\n",
    "print(\"Dimension of training data - unsplit\", alltrain.shape)\n",
    "\n",
    "df_alltrain = pd.DataFrame(alltrain, \n",
    "             columns=['ID',\n",
    "                 'Games Played', \n",
    "    'Minutes Played',\n",
    "    'Points Per Game',\n",
    "    'Field Goals Made',\n",
    "    'Field Goals Attempts',\n",
    "    'Field Goals Percent',\n",
    "    '3Points Made',\n",
    "    '3Points Attempts',\n",
    "    '3Points Percent',\n",
    "    'Free Throw Made',\n",
    "    'Free Throw Attempts',\n",
    "    'Free Throw Percent',\n",
    "    'Offensive Rebounds',\n",
    "    'Defensive Rebounds',\n",
    "    'Rebounds',\n",
    "    'Assists',\n",
    "    'Steals',\n",
    "    'Blocks',\n",
    "    'Turnovers',\n",
    "     'TARGET_5Yrs'\n",
    "                     ])\n",
    "\n",
    "df_alltrain['TARGET_5Yrs'] = df_alltrain['TARGET_5Yrs'].astype(dtype ='int64')\n",
    "df_alltrain['ID'] = df_alltrain['ID'].astype(dtype ='str')\n",
    "\n",
    "df_alltrain.head()"
   ]
  },
  {
   "cell_type": "markdown",
   "id": "d4b9f3e8-62e5-42f1-82c6-5a1996c6b732",
   "metadata": {},
   "source": [
    "### Visualise the target variable (imbalanced)"
   ]
  },
  {
   "cell_type": "code",
   "execution_count": 3,
   "id": "4a94ff4c-4599-48f0-a1b0-edf7e7fea6f1",
   "metadata": {},
   "outputs": [
    {
     "data": {
      "image/png": "[encoded data removed]",
      "text/plain": [
       "<Figure size 640x480 with 1 Axes>"
      ]
     },
     "metadata": {},
     "output_type": "display_data"
    },
    {
     "data": {
      "text/plain": [
       "<Figure size 640x480 with 0 Axes>"
      ]
     },
     "metadata": {},
     "output_type": "display_data"
    }
   ],
   "source": [
    "sns.set(style=\"white\")\n",
    "sns.set(style=\"whitegrid\", color_codes=True)\n",
    "\n",
    "sns.countplot(x = 'TARGET_5Yrs',\n",
    "              data = df_alltrain,\n",
    "              palette = 'hls'\n",
    "             )\n",
    "plt.show()\n",
    "plt.savefig('count_plot')"
   ]
  },
  {
   "cell_type": "code",
   "execution_count": 4,
   "id": "d43daf79-1de8-4215-96ae-aadfc82743c2",
   "metadata": {},
   "outputs": [
    {
     "data": {
      "text/plain": [
       "1    6669\n",
       "0    1331\n",
       "Name: TARGET_5Yrs, dtype: int64"
      ]
     },
     "execution_count": 4,
     "metadata": {},
     "output_type": "execute_result"
    }
   ],
   "source": [
    "df_alltrain['TARGET_5Yrs'].value_counts()"
   ]
  },
  {
   "cell_type": "code",
   "execution_count": 5,
   "id": "36b51440-f0d0-442f-98a1-939ff8ce3517",
   "metadata": {},
   "outputs": [
    {
     "name": "stdout",
     "output_type": "stream",
     "text": [
      "Percentage of NBA career less than 5 years is 16.6375\n",
      "Percentage of NBA career at least 5 years is 83.3625\n"
     ]
    }
   ],
   "source": [
    "count_lt_5Yrs = len(df_alltrain[df_alltrain['TARGET_5Yrs']==0])\n",
    "count_gt_5Yrs = len(df_alltrain[df_alltrain['TARGET_5Yrs']==1])\n",
    "pct_of_lt_5Yrs = count_lt_5Yrs/(count_lt_5Yrs+count_gt_5Yrs)\n",
    "print(\"Percentage of NBA career less than 5 years is\", pct_of_lt_5Yrs*100)\n",
    "pct_of_gt_5Yrs = count_gt_5Yrs/(count_lt_5Yrs+count_gt_5Yrs)\n",
    "print(\"Percentage of NBA career at least 5 years is\", pct_of_gt_5Yrs*100)"
   ]
  },
  {
   "cell_type": "markdown",
   "id": "a767105e-7b26-4a73-92fe-5b54c2783487",
   "metadata": {},
   "source": [
    "## Splitting data\n",
    "Split randomly the dataset with random_state=8 into 2 different sets: training data (80%) and validation data (20%)"
   ]
  },
  {
   "cell_type": "code",
   "execution_count": 6,
   "id": "5000b810-c82d-4a23-83c5-2f8ae5d723c1",
   "metadata": {},
   "outputs": [
    {
     "name": "stdout",
     "output_type": "stream",
     "text": [
      "Dimension of training data (6400, 21)\n",
      "<class 'pandas.core.frame.DataFrame'>\n",
      "Int64Index: 6400 entries, 3617 to 4547\n",
      "Data columns (total 21 columns):\n",
      " #   Column                Non-Null Count  Dtype  \n",
      "---  ------                --------------  -----  \n",
      " 0   ID                    6400 non-null   object \n",
      " 1   Games Played          6400 non-null   float64\n",
      " 2   Minutes Played        6400 non-null   float64\n",
      " 3   Points Per Game       6400 non-null   float64\n",
      " 4   Field Goals Made      6400 non-null   float64\n",
      " 5   Field Goals Attempts  6400 non-null   float64\n",
      " 6   Field Goals Percent   6400 non-null   float64\n",
      " 7   3Points Made          6400 non-null   float64\n",
      " 8   3Points Attempts      6400 non-null   float64\n",
      " 9   3Points Percent       6400 non-null   float64\n",
      " 10  Free Throw Made       6400 non-null   float64\n",
      " 11  Free Throw Attempts   6400 non-null   float64\n",
      " 12  Free Throw Percent    6400 non-null   float64\n",
      " 13  Offensive Rebounds    6400 non-null   float64\n",
      " 14  Defensive Rebounds    6400 non-null   float64\n",
      " 15  Rebounds              6400 non-null   float64\n",
      " 16  Assists               6400 non-null   float64\n",
      " 17  Steals                6400 non-null   float64\n",
      " 18  Blocks                6400 non-null   float64\n",
      " 19  Turnovers             6400 non-null   float64\n",
      " 20  TARGET_5Yrs           6400 non-null   int64  \n",
      "dtypes: float64(19), int64(1), object(1)\n",
      "memory usage: 1.1+ MB\n",
      "------------------------------------------------------------------------------------\n",
      "Dimension of validation data (1600, 21)\n",
      "<class 'pandas.core.frame.DataFrame'>\n",
      "Int64Index: 1600 entries, 5297 to 7607\n",
      "Data columns (total 21 columns):\n",
      " #   Column                Non-Null Count  Dtype  \n",
      "---  ------                --------------  -----  \n",
      " 0   ID                    1600 non-null   object \n",
      " 1   Games Played          1600 non-null   float64\n",
      " 2   Minutes Played        1600 non-null   float64\n",
      " 3   Points Per Game       1600 non-null   float64\n",
      " 4   Field Goals Made      1600 non-null   float64\n",
      " 5   Field Goals Attempts  1600 non-null   float64\n",
      " 6   Field Goals Percent   1600 non-null   float64\n",
      " 7   3Points Made          1600 non-null   float64\n",
      " 8   3Points Attempts      1600 non-null   float64\n",
      " 9   3Points Percent       1600 non-null   float64\n",
      " 10  Free Throw Made       1600 non-null   float64\n",
      " 11  Free Throw Attempts   1600 non-null   float64\n",
      " 12  Free Throw Percent    1600 non-null   float64\n",
      " 13  Offensive Rebounds    1600 non-null   float64\n",
      " 14  Defensive Rebounds    1600 non-null   float64\n",
      " 15  Rebounds              1600 non-null   float64\n",
      " 16  Assists               1600 non-null   float64\n",
      " 17  Steals                1600 non-null   float64\n",
      " 18  Blocks                1600 non-null   float64\n",
      " 19  Turnovers             1600 non-null   float64\n",
      " 20  TARGET_5Yrs           1600 non-null   int64  \n",
      "dtypes: float64(19), int64(1), object(1)\n",
      "memory usage: 275.0+ KB\n"
     ]
    }
   ],
   "source": [
    "df_training, df_validation, = train_test_split (df_alltrain, \n",
    "                                                   test_size=0.2,\n",
    "                                                   random_state=8\n",
    "                                                  )\n",
    "\n",
    "print(\"Dimension of training data\", df_training.shape)\n",
    "df_training.info()\n",
    "print('------------------------------------------------------------------------------------')\n",
    "print(\"Dimension of validation data\", df_validation.shape)\n",
    "df_validation.info()"
   ]
  },
  {
   "cell_type": "markdown",
   "id": "f2009346-3dfd-4654-b3f0-af4501851a2c",
   "metadata": {},
   "source": [
    "## Oversample"
   ]
  },
  {
   "cell_type": "code",
   "execution_count": 7,
   "id": "2f0a5c17-f108-44ea-80ba-100c87c4b226",
   "metadata": {},
   "outputs": [
    {
     "data": {
      "text/plain": [
       "1    5326\n",
       "0    1074\n",
       "Name: TARGET_5Yrs, dtype: int64"
      ]
     },
     "execution_count": 7,
     "metadata": {},
     "output_type": "execute_result"
    }
   ],
   "source": [
    "df_training['TARGET_5Yrs'].value_counts()"
   ]
  },
  {
   "cell_type": "code",
   "execution_count": 8,
   "id": "4ee974d2-c75d-4e15-b964-583674bb47b3",
   "metadata": {},
   "outputs": [
    {
     "data": {
      "text/plain": [
       "1    5326\n",
       "0    5326\n",
       "Name: TARGET_5Yrs, dtype: int64"
      ]
     },
     "execution_count": 8,
     "metadata": {},
     "output_type": "execute_result"
    }
   ],
   "source": [
    "\n",
    "\n",
    "# Separate majority and minority classes\n",
    "df_majority = df_training[df_training['TARGET_5Yrs']==1]\n",
    "df_minority = df_training[df_training['TARGET_5Yrs']==0]\n",
    " \n",
    "# Upsample minority class\n",
    "df_minority_upsampled = resample(df_minority, \n",
    "                                 replace=True,     # sample with replacement\n",
    "                                 n_samples=5326,    # to match majority class\n",
    "                                 random_state=123) # reproducible results\n",
    " \n",
    "# Combine majority class with upsampled minority class\n",
    "df_upsampled = pd.concat([df_majority, df_minority_upsampled])\n",
    " \n",
    "# Display new class counts\n",
    "df_upsampled.TARGET_5Yrs.value_counts()"
   ]
  },
  {
   "cell_type": "code",
   "execution_count": 9,
   "id": "06885321-2021-47f0-82f1-eb2104b7cca6",
   "metadata": {},
   "outputs": [
    {
     "data": {
      "image/png": "[encoded data removed]",
      "text/plain": [
       "<Figure size 640x480 with 1 Axes>"
      ]
     },
     "metadata": {},
     "output_type": "display_data"
    },
    {
     "data": {
      "text/plain": [
       "<Figure size 640x480 with 0 Axes>"
      ]
     },
     "metadata": {},
     "output_type": "display_data"
    }
   ],
   "source": [
    "sns.set(style=\"white\")\n",
    "sns.set(style=\"whitegrid\", color_codes=True)\n",
    "\n",
    "sns.countplot(x = 'TARGET_5Yrs',\n",
    "              data = df_upsampled,\n",
    "              palette = 'hls'\n",
    "             )\n",
    "plt.show()\n",
    "plt.savefig('count_plot')"
   ]
  },
  {
   "cell_type": "code",
   "execution_count": 10,
   "id": "d2467da6-3d62-4efd-904c-46f858d2895d",
   "metadata": {},
   "outputs": [
    {
     "name": "stdout",
     "output_type": "stream",
     "text": [
      "Dimension of features training data (10652, 19)\n",
      "Dimension of target training data (10652,)\n",
      "Dimension of features validation data (1600, 19)\n",
      "Dimension of targer validation data (1600,)\n"
     ]
    }
   ],
   "source": [
    "y_train = df_upsampled.pop('TARGET_5Yrs')\n",
    "X_train_noscale = df_upsampled[['Games Played', \n",
    "    'Minutes Played',\n",
    "    'Points Per Game',\n",
    "    'Field Goals Made',\n",
    "    'Field Goals Attempts',\n",
    "    'Field Goals Percent',\n",
    "    '3Points Made',\n",
    "    '3Points Attempts',\n",
    "    '3Points Percent',\n",
    "    'Free Throw Made',\n",
    "    'Free Throw Attempts',\n",
    "    'Free Throw Percent',\n",
    "    'Offensive Rebounds',\n",
    "    'Defensive Rebounds',\n",
    "    'Rebounds',\n",
    "    'Assists',\n",
    "    'Steals',\n",
    "    'Blocks',\n",
    "    'Turnovers']]\n",
    "\n",
    "\n",
    "y_val = df_validation.pop('TARGET_5Yrs')\n",
    "X_val_noscale = df_validation[['Games Played', \n",
    "    'Minutes Played',\n",
    "    'Points Per Game',\n",
    "    'Field Goals Made',\n",
    "    'Field Goals Attempts',\n",
    "    'Field Goals Percent',\n",
    "    '3Points Made',\n",
    "    '3Points Attempts',\n",
    "    '3Points Percent',\n",
    "    'Free Throw Made',\n",
    "    'Free Throw Attempts',\n",
    "    'Free Throw Percent',\n",
    "    'Offensive Rebounds',\n",
    "    'Defensive Rebounds',\n",
    "    'Rebounds',\n",
    "    'Assists',\n",
    "    'Steals',\n",
    "    'Blocks',\n",
    "    'Turnovers']]\n",
    "\n",
    "\n",
    "print(\"Dimension of features training data\", X_train_noscale.shape)\n",
    "print(\"Dimension of target training data\", y_train.shape)\n",
    "print(\"Dimension of features validation data\", X_val_noscale.shape)\n",
    "print(\"Dimension of targer validation data\", y_val.shape)\n"
   ]
  },
  {
   "cell_type": "markdown",
   "id": "12d337d1-30b9-47f1-9f19-d75e645abd18",
   "metadata": {},
   "source": [
    "## Scaling"
   ]
  },
  {
   "cell_type": "code",
   "execution_count": 12,
   "id": "55cf96fd-a338-4ac9-ab12-db2bb3a23f2d",
   "metadata": {},
   "outputs": [],
   "source": [
    "scaler_stan = StandardScaler()\n",
    "X_train = scaler_stan.fit_transform(X_train_noscale)\n",
    "X_val = scaler_stan.fit_transform(X_val_noscale)"
   ]
  },
  {
   "cell_type": "code",
   "execution_count": 13,
   "id": "3ee50289-8a85-408d-bc09-aae131f66a1e",
   "metadata": {},
   "outputs": [],
   "source": [
    "scaler_norm = MinMaxScaler()\n",
    "X_train_norm = scaler_norm.fit_transform(X_train_noscale)\n",
    "X_val_norm = scaler_norm.fit_transform(X_val_noscale)"
   ]
  },
  {
   "cell_type": "markdown",
   "id": "dd0bbc41-1beb-4c62-b7ce-d14ac68ca4df",
   "metadata": {},
   "source": [
    "## Model Development and Prediction\n",
    "\n",
    "Using default parameters"
   ]
  },
  {
   "cell_type": "markdown",
   "id": "060c3ac4-12a2-4360-8fa4-19cf161e62cb",
   "metadata": {
    "jp-MarkdownHeadingCollapsed": true,
    "tags": []
   },
   "source": [
    "### Using default parameters - standardized features (Logreg2)"
   ]
  },
  {
   "cell_type": "code",
   "execution_count": 53,
   "id": "dc141f1e-f82a-4626-92f4-9dafa4932d96",
   "metadata": {},
   "outputs": [
    {
     "data": {
      "text/html": [
       "<style>#sk-container-id-6 {color: black;background-color: white;}#sk-container-id-6 pre{padding: 0;}#sk-container-id-6 div.sk-toggleable {background-color: white;}#sk-container-id-6 label.sk-toggleable__label {cursor: pointer;display: block;width: 100%;margin-bottom: 0;padding: 0.3em;box-sizing: border-box;text-align: center;}#sk-container-id-6 label.sk-toggleable__label-arrow:before {content: \"▸\";float: left;margin-right: 0.25em;color: #696969;}#sk-container-id-6 label.sk-toggleable__label-arrow:hover:before {color: black;}#sk-container-id-6 div.sk-estimator:hover label.sk-toggleable__label-arrow:before {color: black;}#sk-container-id-6 div.sk-toggleable__content {max-height: 0;max-width: 0;overflow: hidden;text-align: left;background-color: #f0f8ff;}#sk-container-id-6 div.sk-toggleable__content pre {margin: 0.2em;color: black;border-radius: 0.25em;background-color: #f0f8ff;}#sk-container-id-6 input.sk-toggleable__control:checked~div.sk-toggleable__content {max-height: 200px;max-width: 100%;overflow: auto;}#sk-container-id-6 input.sk-toggleable__control:checked~label.sk-toggleable__label-arrow:before {content: \"▾\";}#sk-container-id-6 div.sk-estimator input.sk-toggleable__control:checked~label.sk-toggleable__label {background-color: #d4ebff;}#sk-container-id-6 div.sk-label input.sk-toggleable__control:checked~label.sk-toggleable__label {background-color: #d4ebff;}#sk-container-id-6 input.sk-hidden--visually {border: 0;clip: rect(1px 1px 1px 1px);clip: rect(1px, 1px, 1px, 1px);height: 1px;margin: -1px;overflow: hidden;padding: 0;position: absolute;width: 1px;}#sk-container-id-6 div.sk-estimator {font-family: monospace;background-color: #f0f8ff;border: 1px dotted black;border-radius: 0.25em;box-sizing: border-box;margin-bottom: 0.5em;}#sk-container-id-6 div.sk-estimator:hover {background-color: #d4ebff;}#sk-container-id-6 div.sk-parallel-item::after {content: \"\";width: 100%;border-bottom: 1px solid gray;flex-grow: 1;}#sk-container-id-6 div.sk-label:hover label.sk-toggleable__label {background-color: #d4ebff;}#sk-container-id-6 div.sk-serial::before {content: \"\";position: absolute;border-left: 1px solid gray;box-sizing: border-box;top: 0;bottom: 0;left: 50%;z-index: 0;}#sk-container-id-6 div.sk-serial {display: flex;flex-direction: column;align-items: center;background-color: white;padding-right: 0.2em;padding-left: 0.2em;position: relative;}#sk-container-id-6 div.sk-item {position: relative;z-index: 1;}#sk-container-id-6 div.sk-parallel {display: flex;align-items: stretch;justify-content: center;background-color: white;position: relative;}#sk-container-id-6 div.sk-item::before, #sk-container-id-6 div.sk-parallel-item::before {content: \"\";position: absolute;border-left: 1px solid gray;box-sizing: border-box;top: 0;bottom: 0;left: 50%;z-index: -1;}#sk-container-id-6 div.sk-parallel-item {display: flex;flex-direction: column;z-index: 1;position: relative;background-color: white;}#sk-container-id-6 div.sk-parallel-item:first-child::after {align-self: flex-end;width: 50%;}#sk-container-id-6 div.sk-parallel-item:last-child::after {align-self: flex-start;width: 50%;}#sk-container-id-6 div.sk-parallel-item:only-child::after {width: 0;}#sk-container-id-6 div.sk-dashed-wrapped {border: 1px dashed gray;margin: 0 0.4em 0.5em 0.4em;box-sizing: border-box;padding-bottom: 0.4em;background-color: white;}#sk-container-id-6 div.sk-label label {font-family: monospace;font-weight: bold;display: inline-block;line-height: 1.2em;}#sk-container-id-6 div.sk-label-container {text-align: center;}#sk-container-id-6 div.sk-container {/* jupyter's `normalize.less` sets `[hidden] { display: none; }` but bootstrap.min.css set `[hidden] { display: none !important; }` so we also need the `!important` here to be able to override the default hidden behavior on the sphinx rendered scikit-learn.org. See: https://github.com/scikit-learn/scikit-learn/issues/21755 */display: inline-block !important;position: relative;}#sk-container-id-6 div.sk-text-repr-fallback {display: none;}</style><div id=\"sk-container-id-6\" class=\"sk-top-container\"><div class=\"sk-text-repr-fallback\"><pre>LogisticRegression(random_state=16)</pre><b>In a Jupyter environment, please rerun this cell to show the HTML representation or trust the notebook. <br />On GitHub, the HTML representation is unable to render, please try loading this page with nbviewer.org.</b></div><div class=\"sk-container\" hidden><div class=\"sk-item\"><div class=\"sk-estimator sk-toggleable\"><input class=\"sk-toggleable__control sk-hidden--visually\" id=\"sk-estimator-id-6\" type=\"checkbox\" checked><label for=\"sk-estimator-id-6\" class=\"sk-toggleable__label sk-toggleable__label-arrow\">LogisticRegression</label><div class=\"sk-toggleable__content\"><pre>LogisticRegression(random_state=16)</pre></div></div></div></div></div>"
      ],
      "text/plain": [
       "LogisticRegression(random_state=16)"
      ]
     },
     "execution_count": 53,
     "metadata": {},
     "output_type": "execute_result"
    }
   ],
   "source": [
    "# instantiate the model (using the default parameters)\n",
    "logreg2_train = LogisticRegression(random_state=16)\n",
    "\n",
    "# scaler_stan = StandardScaler()\n",
    "# X_train = scaler_stan.fit_transform(X_train_noscale)\n",
    "# X_val = scaler_stan.fit_transform(X_val_noscale)\n",
    "\n",
    "# fit the model with data\n",
    "logreg2_train.fit(X_train, y_train)"
   ]
  },
  {
   "cell_type": "code",
   "execution_count": 54,
   "id": "b89facf8-febe-45f7-98f3-8cb13b466b2d",
   "metadata": {},
   "outputs": [
    {
     "data": {
      "text/plain": [
       "['../models/logreg2.sav']"
      ]
     },
     "execution_count": 54,
     "metadata": {},
     "output_type": "execute_result"
    }
   ],
   "source": [
    "# save the model to disk\n",
    "joblib.dump(logreg2_train, '../models/logreg2.sav')"
   ]
  },
  {
   "cell_type": "markdown",
   "id": "ad038d67-79b7-4b16-b72e-1799cf55a272",
   "metadata": {
    "jp-MarkdownHeadingCollapsed": true,
    "tags": []
   },
   "source": [
    "### Using default parameters - normalized features (Logreg3)"
   ]
  },
  {
   "cell_type": "code",
   "execution_count": 79,
   "id": "8dd31363-89d9-4f15-9cac-de663d2ad402",
   "metadata": {},
   "outputs": [
    {
     "data": {
      "text/html": [
       "<style>#sk-container-id-9 {color: black;background-color: white;}#sk-container-id-9 pre{padding: 0;}#sk-container-id-9 div.sk-toggleable {background-color: white;}#sk-container-id-9 label.sk-toggleable__label {cursor: pointer;display: block;width: 100%;margin-bottom: 0;padding: 0.3em;box-sizing: border-box;text-align: center;}#sk-container-id-9 label.sk-toggleable__label-arrow:before {content: \"▸\";float: left;margin-right: 0.25em;color: #696969;}#sk-container-id-9 label.sk-toggleable__label-arrow:hover:before {color: black;}#sk-container-id-9 div.sk-estimator:hover label.sk-toggleable__label-arrow:before {color: black;}#sk-container-id-9 div.sk-toggleable__content {max-height: 0;max-width: 0;overflow: hidden;text-align: left;background-color: #f0f8ff;}#sk-container-id-9 div.sk-toggleable__content pre {margin: 0.2em;color: black;border-radius: 0.25em;background-color: #f0f8ff;}#sk-container-id-9 input.sk-toggleable__control:checked~div.sk-toggleable__content {max-height: 200px;max-width: 100%;overflow: auto;}#sk-container-id-9 input.sk-toggleable__control:checked~label.sk-toggleable__label-arrow:before {content: \"▾\";}#sk-container-id-9 div.sk-estimator input.sk-toggleable__control:checked~label.sk-toggleable__label {background-color: #d4ebff;}#sk-container-id-9 div.sk-label input.sk-toggleable__control:checked~label.sk-toggleable__label {background-color: #d4ebff;}#sk-container-id-9 input.sk-hidden--visually {border: 0;clip: rect(1px 1px 1px 1px);clip: rect(1px, 1px, 1px, 1px);height: 1px;margin: -1px;overflow: hidden;padding: 0;position: absolute;width: 1px;}#sk-container-id-9 div.sk-estimator {font-family: monospace;background-color: #f0f8ff;border: 1px dotted black;border-radius: 0.25em;box-sizing: border-box;margin-bottom: 0.5em;}#sk-container-id-9 div.sk-estimator:hover {background-color: #d4ebff;}#sk-container-id-9 div.sk-parallel-item::after {content: \"\";width: 100%;border-bottom: 1px solid gray;flex-grow: 1;}#sk-container-id-9 div.sk-label:hover label.sk-toggleable__label {background-color: #d4ebff;}#sk-container-id-9 div.sk-serial::before {content: \"\";position: absolute;border-left: 1px solid gray;box-sizing: border-box;top: 0;bottom: 0;left: 50%;z-index: 0;}#sk-container-id-9 div.sk-serial {display: flex;flex-direction: column;align-items: center;background-color: white;padding-right: 0.2em;padding-left: 0.2em;position: relative;}#sk-container-id-9 div.sk-item {position: relative;z-index: 1;}#sk-container-id-9 div.sk-parallel {display: flex;align-items: stretch;justify-content: center;background-color: white;position: relative;}#sk-container-id-9 div.sk-item::before, #sk-container-id-9 div.sk-parallel-item::before {content: \"\";position: absolute;border-left: 1px solid gray;box-sizing: border-box;top: 0;bottom: 0;left: 50%;z-index: -1;}#sk-container-id-9 div.sk-parallel-item {display: flex;flex-direction: column;z-index: 1;position: relative;background-color: white;}#sk-container-id-9 div.sk-parallel-item:first-child::after {align-self: flex-end;width: 50%;}#sk-container-id-9 div.sk-parallel-item:last-child::after {align-self: flex-start;width: 50%;}#sk-container-id-9 div.sk-parallel-item:only-child::after {width: 0;}#sk-container-id-9 div.sk-dashed-wrapped {border: 1px dashed gray;margin: 0 0.4em 0.5em 0.4em;box-sizing: border-box;padding-bottom: 0.4em;background-color: white;}#sk-container-id-9 div.sk-label label {font-family: monospace;font-weight: bold;display: inline-block;line-height: 1.2em;}#sk-container-id-9 div.sk-label-container {text-align: center;}#sk-container-id-9 div.sk-container {/* jupyter's `normalize.less` sets `[hidden] { display: none; }` but bootstrap.min.css set `[hidden] { display: none !important; }` so we also need the `!important` here to be able to override the default hidden behavior on the sphinx rendered scikit-learn.org. See: https://github.com/scikit-learn/scikit-learn/issues/21755 */display: inline-block !important;position: relative;}#sk-container-id-9 div.sk-text-repr-fallback {display: none;}</style><div id=\"sk-container-id-9\" class=\"sk-top-container\"><div class=\"sk-text-repr-fallback\"><pre>LogisticRegression(random_state=16)</pre><b>In a Jupyter environment, please rerun this cell to show the HTML representation or trust the notebook. <br />On GitHub, the HTML representation is unable to render, please try loading this page with nbviewer.org.</b></div><div class=\"sk-container\" hidden><div class=\"sk-item\"><div class=\"sk-estimator sk-toggleable\"><input class=\"sk-toggleable__control sk-hidden--visually\" id=\"sk-estimator-id-9\" type=\"checkbox\" checked><label for=\"sk-estimator-id-9\" class=\"sk-toggleable__label sk-toggleable__label-arrow\">LogisticRegression</label><div class=\"sk-toggleable__content\"><pre>LogisticRegression(random_state=16)</pre></div></div></div></div></div>"
      ],
      "text/plain": [
       "LogisticRegression(random_state=16)"
      ]
     },
     "execution_count": 79,
     "metadata": {},
     "output_type": "execute_result"
    }
   ],
   "source": [
    "# instantiate the model (using the default parameters)\n",
    "logreg3_train = LogisticRegression(random_state=16)\n",
    "\n",
    "# scaler_norm = MinMaxScaler()\n",
    "# X_train_norm = scaler_norm.fit_transform(X_train_noscale)\n",
    "# X_val_norm = scaler_norm.fit_transform(X_val_noscale)\n",
    "\n",
    "# fit the model with data\n",
    "logreg3_train.fit(X_train_norm, y_train)"
   ]
  },
  {
   "cell_type": "code",
   "execution_count": 56,
   "id": "8c806a7d-ccb3-4505-bbd2-9bc121d73ec7",
   "metadata": {},
   "outputs": [
    {
     "data": {
      "text/plain": [
       "['../models/logreg3.sav']"
      ]
     },
     "execution_count": 56,
     "metadata": {},
     "output_type": "execute_result"
    }
   ],
   "source": [
    "# save the model to disk\n",
    "joblib.dump(logreg3_train, '../models/logreg3.sav')"
   ]
  },
  {
   "cell_type": "markdown",
   "id": "9fb73f04-16c8-48aa-b9b1-1eff06cf7317",
   "metadata": {
    "jp-MarkdownHeadingCollapsed": true,
    "tags": []
   },
   "source": [
    "### With manual hyperparameter tuning (Logreg4)"
   ]
  },
  {
   "cell_type": "code",
   "execution_count": 57,
   "id": "d90060c8-5d64-40dd-bedc-55c3ce2a0fbb",
   "metadata": {
    "tags": []
   },
   "outputs": [
    {
     "data": {
      "text/html": [
       "<style>#sk-container-id-8 {color: black;background-color: white;}#sk-container-id-8 pre{padding: 0;}#sk-container-id-8 div.sk-toggleable {background-color: white;}#sk-container-id-8 label.sk-toggleable__label {cursor: pointer;display: block;width: 100%;margin-bottom: 0;padding: 0.3em;box-sizing: border-box;text-align: center;}#sk-container-id-8 label.sk-toggleable__label-arrow:before {content: \"▸\";float: left;margin-right: 0.25em;color: #696969;}#sk-container-id-8 label.sk-toggleable__label-arrow:hover:before {color: black;}#sk-container-id-8 div.sk-estimator:hover label.sk-toggleable__label-arrow:before {color: black;}#sk-container-id-8 div.sk-toggleable__content {max-height: 0;max-width: 0;overflow: hidden;text-align: left;background-color: #f0f8ff;}#sk-container-id-8 div.sk-toggleable__content pre {margin: 0.2em;color: black;border-radius: 0.25em;background-color: #f0f8ff;}#sk-container-id-8 input.sk-toggleable__control:checked~div.sk-toggleable__content {max-height: 200px;max-width: 100%;overflow: auto;}#sk-container-id-8 input.sk-toggleable__control:checked~label.sk-toggleable__label-arrow:before {content: \"▾\";}#sk-container-id-8 div.sk-estimator input.sk-toggleable__control:checked~label.sk-toggleable__label {background-color: #d4ebff;}#sk-container-id-8 div.sk-label input.sk-toggleable__control:checked~label.sk-toggleable__label {background-color: #d4ebff;}#sk-container-id-8 input.sk-hidden--visually {border: 0;clip: rect(1px 1px 1px 1px);clip: rect(1px, 1px, 1px, 1px);height: 1px;margin: -1px;overflow: hidden;padding: 0;position: absolute;width: 1px;}#sk-container-id-8 div.sk-estimator {font-family: monospace;background-color: #f0f8ff;border: 1px dotted black;border-radius: 0.25em;box-sizing: border-box;margin-bottom: 0.5em;}#sk-container-id-8 div.sk-estimator:hover {background-color: #d4ebff;}#sk-container-id-8 div.sk-parallel-item::after {content: \"\";width: 100%;border-bottom: 1px solid gray;flex-grow: 1;}#sk-container-id-8 div.sk-label:hover label.sk-toggleable__label {background-color: #d4ebff;}#sk-container-id-8 div.sk-serial::before {content: \"\";position: absolute;border-left: 1px solid gray;box-sizing: border-box;top: 0;bottom: 0;left: 50%;z-index: 0;}#sk-container-id-8 div.sk-serial {display: flex;flex-direction: column;align-items: center;background-color: white;padding-right: 0.2em;padding-left: 0.2em;position: relative;}#sk-container-id-8 div.sk-item {position: relative;z-index: 1;}#sk-container-id-8 div.sk-parallel {display: flex;align-items: stretch;justify-content: center;background-color: white;position: relative;}#sk-container-id-8 div.sk-item::before, #sk-container-id-8 div.sk-parallel-item::before {content: \"\";position: absolute;border-left: 1px solid gray;box-sizing: border-box;top: 0;bottom: 0;left: 50%;z-index: -1;}#sk-container-id-8 div.sk-parallel-item {display: flex;flex-direction: column;z-index: 1;position: relative;background-color: white;}#sk-container-id-8 div.sk-parallel-item:first-child::after {align-self: flex-end;width: 50%;}#sk-container-id-8 div.sk-parallel-item:last-child::after {align-self: flex-start;width: 50%;}#sk-container-id-8 div.sk-parallel-item:only-child::after {width: 0;}#sk-container-id-8 div.sk-dashed-wrapped {border: 1px dashed gray;margin: 0 0.4em 0.5em 0.4em;box-sizing: border-box;padding-bottom: 0.4em;background-color: white;}#sk-container-id-8 div.sk-label label {font-family: monospace;font-weight: bold;display: inline-block;line-height: 1.2em;}#sk-container-id-8 div.sk-label-container {text-align: center;}#sk-container-id-8 div.sk-container {/* jupyter's `normalize.less` sets `[hidden] { display: none; }` but bootstrap.min.css set `[hidden] { display: none !important; }` so we also need the `!important` here to be able to override the default hidden behavior on the sphinx rendered scikit-learn.org. See: https://github.com/scikit-learn/scikit-learn/issues/21755 */display: inline-block !important;position: relative;}#sk-container-id-8 div.sk-text-repr-fallback {display: none;}</style><div id=\"sk-container-id-8\" class=\"sk-top-container\"><div class=\"sk-text-repr-fallback\"><pre>LogisticRegression(multi_class=&#x27;ovr&#x27;, n_jobs=1, solver=&#x27;liblinear&#x27;)</pre><b>In a Jupyter environment, please rerun this cell to show the HTML representation or trust the notebook. <br />On GitHub, the HTML representation is unable to render, please try loading this page with nbviewer.org.</b></div><div class=\"sk-container\" hidden><div class=\"sk-item\"><div class=\"sk-estimator sk-toggleable\"><input class=\"sk-toggleable__control sk-hidden--visually\" id=\"sk-estimator-id-8\" type=\"checkbox\" checked><label for=\"sk-estimator-id-8\" class=\"sk-toggleable__label sk-toggleable__label-arrow\">LogisticRegression</label><div class=\"sk-toggleable__content\"><pre>LogisticRegression(multi_class=&#x27;ovr&#x27;, n_jobs=1, solver=&#x27;liblinear&#x27;)</pre></div></div></div></div></div>"
      ],
      "text/plain": [
       "LogisticRegression(multi_class='ovr', n_jobs=1, solver='liblinear')"
      ]
     },
     "execution_count": 57,
     "metadata": {},
     "output_type": "execute_result"
    }
   ],
   "source": [
    "# instantiate the model (using the default parameters)\n",
    "logreg4_train = LogisticRegression(penalty = 'l2', #use L2 regularisation\n",
    "                           dual = False, #dual problem\n",
    "                           tol = 0.0001,\n",
    "                           C = 1.0,\n",
    "                           fit_intercept = True,\n",
    "                           intercept_scaling = 1,\n",
    "                           class_weight = None,\n",
    "                           random_state = None,\n",
    "                           solver = 'liblinear',\n",
    "                           max_iter = 100,\n",
    "                           multi_class = 'ovr',\n",
    "                           verbose = 0,\n",
    "                           warm_start = False,\n",
    "                           n_jobs = 1,\n",
    "                           l1_ratio = None\n",
    "                          )\n",
    "\n",
    "# fit the model with data\n",
    "logreg4_train.fit(X_train_norm, y_train)\n"
   ]
  },
  {
   "cell_type": "code",
   "execution_count": 58,
   "id": "562963df-58cb-4576-b0c8-a3002f36e661",
   "metadata": {
    "tags": []
   },
   "outputs": [
    {
     "data": {
      "text/plain": [
       "['../models/logreg4.sav']"
      ]
     },
     "execution_count": 58,
     "metadata": {},
     "output_type": "execute_result"
    }
   ],
   "source": [
    "# save the model to disk\n",
    "joblib.dump(logreg4_train, '../models/logreg4.sav')"
   ]
  },
  {
   "cell_type": "markdown",
   "id": "b1551294-a322-4c13-8619-db3dee6d5a50",
   "metadata": {},
   "source": [
    "### With manual hyperparameter tuning (Logreg4B)"
   ]
  },
  {
   "cell_type": "code",
   "execution_count": 14,
   "id": "0a4453e2-3cd4-410a-98d2-d7daf1950d56",
   "metadata": {},
   "outputs": [
    {
     "data": {
      "text/html": [
       "<div>\n",
       "<style scoped>\n",
       "    .dataframe tbody tr th:only-of-type {\n",
       "        vertical-align: middle;\n",
       "    }\n",
       "\n",
       "    .dataframe tbody tr th {\n",
       "        vertical-align: top;\n",
       "    }\n",
       "\n",
       "    .dataframe thead th {\n",
       "        text-align: right;\n",
       "    }\n",
       "</style>\n",
       "<table border=\"1\" class=\"dataframe\">\n",
       "  <thead>\n",
       "    <tr style=\"text-align: right;\">\n",
       "      <th></th>\n",
       "      <th>Games Played</th>\n",
       "      <th>Field Goals Attempts</th>\n",
       "      <th>Field Goals Percent</th>\n",
       "      <th>3Points Made</th>\n",
       "      <th>3Points Attempts</th>\n",
       "    </tr>\n",
       "  </thead>\n",
       "  <tbody>\n",
       "    <tr>\n",
       "      <th>0</th>\n",
       "      <td>0.549618</td>\n",
       "      <td>0.100719</td>\n",
       "      <td>0.493182</td>\n",
       "      <td>0.333333</td>\n",
       "      <td>0.347222</td>\n",
       "    </tr>\n",
       "    <tr>\n",
       "      <th>1</th>\n",
       "      <td>0.679389</td>\n",
       "      <td>0.194245</td>\n",
       "      <td>0.534091</td>\n",
       "      <td>0.555556</td>\n",
       "      <td>0.513889</td>\n",
       "    </tr>\n",
       "    <tr>\n",
       "      <th>2</th>\n",
       "      <td>0.442748</td>\n",
       "      <td>0.025180</td>\n",
       "      <td>0.343182</td>\n",
       "      <td>0.407407</td>\n",
       "      <td>0.430556</td>\n",
       "    </tr>\n",
       "    <tr>\n",
       "      <th>3</th>\n",
       "      <td>0.610687</td>\n",
       "      <td>0.151079</td>\n",
       "      <td>0.434091</td>\n",
       "      <td>0.444444</td>\n",
       "      <td>0.430556</td>\n",
       "    </tr>\n",
       "    <tr>\n",
       "      <th>4</th>\n",
       "      <td>0.404580</td>\n",
       "      <td>0.183453</td>\n",
       "      <td>0.472727</td>\n",
       "      <td>0.444444</td>\n",
       "      <td>0.416667</td>\n",
       "    </tr>\n",
       "  </tbody>\n",
       "</table>\n",
       "</div>"
      ],
      "text/plain": [
       "   Games Played  Field Goals Attempts  Field Goals Percent  3Points Made  \\\n",
       "0      0.549618              0.100719             0.493182      0.333333   \n",
       "1      0.679389              0.194245             0.534091      0.555556   \n",
       "2      0.442748              0.025180             0.343182      0.407407   \n",
       "3      0.610687              0.151079             0.434091      0.444444   \n",
       "4      0.404580              0.183453             0.472727      0.444444   \n",
       "\n",
       "   3Points Attempts  \n",
       "0          0.347222  \n",
       "1          0.513889  \n",
       "2          0.430556  \n",
       "3          0.430556  \n",
       "4          0.416667  "
      ]
     },
     "execution_count": 14,
     "metadata": {},
     "output_type": "execute_result"
    }
   ],
   "source": [
    "df_X_train_norm = pd.DataFrame(X_train_norm, \n",
    "             columns=['Games Played', \n",
    "    'Minutes Played',\n",
    "    'Points Per Game',\n",
    "    'Field Goals Made',\n",
    "    'Field Goals Attempts',\n",
    "    'Field Goals Percent',\n",
    "    '3Points Made',\n",
    "    '3Points Attempts',\n",
    "    '3Points Percent',\n",
    "    'Free Throw Made',\n",
    "    'Free Throw Attempts',\n",
    "    'Free Throw Percent',\n",
    "    'Offensive Rebounds',\n",
    "    'Defensive Rebounds',\n",
    "    'Rebounds',\n",
    "    'Assists',\n",
    "    'Steals',\n",
    "    'Blocks',\n",
    "    'Turnovers'\n",
    "                     ])\n",
    "\n",
    "df_X_train_norm = df_X_train_norm[['Games Played',\n",
    "                           'Field Goals Attempts',\n",
    "                           'Field Goals Percent',\n",
    "                           '3Points Made',\n",
    "                           '3Points Attempts']]\n",
    "\n",
    "\n",
    "df_X_val_norm = pd.DataFrame(X_val_norm, \n",
    "             columns=['Games Played', \n",
    "    'Minutes Played',\n",
    "    'Points Per Game',\n",
    "    'Field Goals Made',\n",
    "    'Field Goals Attempts',\n",
    "    'Field Goals Percent',\n",
    "    '3Points Made',\n",
    "    '3Points Attempts',\n",
    "    '3Points Percent',\n",
    "    'Free Throw Made',\n",
    "    'Free Throw Attempts',\n",
    "    'Free Throw Percent',\n",
    "    'Offensive Rebounds',\n",
    "    'Defensive Rebounds',\n",
    "    'Rebounds',\n",
    "    'Assists',\n",
    "    'Steals',\n",
    "    'Blocks',\n",
    "    'Turnovers'\n",
    "                     ])\n",
    "\n",
    "df_X_val_norm = df_X_val_norm[['Games Played',\n",
    "                           'Field Goals Attempts',\n",
    "                           'Field Goals Percent',\n",
    "                           '3Points Made',\n",
    "                           '3Points Attempts']]\n",
    "\n",
    "df_X_train_norm.head()"
   ]
  },
  {
   "cell_type": "code",
   "execution_count": 24,
   "id": "374e477d-cfaa-4bc5-b282-fecdd7213318",
   "metadata": {
    "tags": []
   },
   "outputs": [
    {
     "data": {
      "text/html": [
       "<style>#sk-container-id-2 {color: black;background-color: white;}#sk-container-id-2 pre{padding: 0;}#sk-container-id-2 div.sk-toggleable {background-color: white;}#sk-container-id-2 label.sk-toggleable__label {cursor: pointer;display: block;width: 100%;margin-bottom: 0;padding: 0.3em;box-sizing: border-box;text-align: center;}#sk-container-id-2 label.sk-toggleable__label-arrow:before {content: \"▸\";float: left;margin-right: 0.25em;color: #696969;}#sk-container-id-2 label.sk-toggleable__label-arrow:hover:before {color: black;}#sk-container-id-2 div.sk-estimator:hover label.sk-toggleable__label-arrow:before {color: black;}#sk-container-id-2 div.sk-toggleable__content {max-height: 0;max-width: 0;overflow: hidden;text-align: left;background-color: #f0f8ff;}#sk-container-id-2 div.sk-toggleable__content pre {margin: 0.2em;color: black;border-radius: 0.25em;background-color: #f0f8ff;}#sk-container-id-2 input.sk-toggleable__control:checked~div.sk-toggleable__content {max-height: 200px;max-width: 100%;overflow: auto;}#sk-container-id-2 input.sk-toggleable__control:checked~label.sk-toggleable__label-arrow:before {content: \"▾\";}#sk-container-id-2 div.sk-estimator input.sk-toggleable__control:checked~label.sk-toggleable__label {background-color: #d4ebff;}#sk-container-id-2 div.sk-label input.sk-toggleable__control:checked~label.sk-toggleable__label {background-color: #d4ebff;}#sk-container-id-2 input.sk-hidden--visually {border: 0;clip: rect(1px 1px 1px 1px);clip: rect(1px, 1px, 1px, 1px);height: 1px;margin: -1px;overflow: hidden;padding: 0;position: absolute;width: 1px;}#sk-container-id-2 div.sk-estimator {font-family: monospace;background-color: #f0f8ff;border: 1px dotted black;border-radius: 0.25em;box-sizing: border-box;margin-bottom: 0.5em;}#sk-container-id-2 div.sk-estimator:hover {background-color: #d4ebff;}#sk-container-id-2 div.sk-parallel-item::after {content: \"\";width: 100%;border-bottom: 1px solid gray;flex-grow: 1;}#sk-container-id-2 div.sk-label:hover label.sk-toggleable__label {background-color: #d4ebff;}#sk-container-id-2 div.sk-serial::before {content: \"\";position: absolute;border-left: 1px solid gray;box-sizing: border-box;top: 0;bottom: 0;left: 50%;z-index: 0;}#sk-container-id-2 div.sk-serial {display: flex;flex-direction: column;align-items: center;background-color: white;padding-right: 0.2em;padding-left: 0.2em;position: relative;}#sk-container-id-2 div.sk-item {position: relative;z-index: 1;}#sk-container-id-2 div.sk-parallel {display: flex;align-items: stretch;justify-content: center;background-color: white;position: relative;}#sk-container-id-2 div.sk-item::before, #sk-container-id-2 div.sk-parallel-item::before {content: \"\";position: absolute;border-left: 1px solid gray;box-sizing: border-box;top: 0;bottom: 0;left: 50%;z-index: -1;}#sk-container-id-2 div.sk-parallel-item {display: flex;flex-direction: column;z-index: 1;position: relative;background-color: white;}#sk-container-id-2 div.sk-parallel-item:first-child::after {align-self: flex-end;width: 50%;}#sk-container-id-2 div.sk-parallel-item:last-child::after {align-self: flex-start;width: 50%;}#sk-container-id-2 div.sk-parallel-item:only-child::after {width: 0;}#sk-container-id-2 div.sk-dashed-wrapped {border: 1px dashed gray;margin: 0 0.4em 0.5em 0.4em;box-sizing: border-box;padding-bottom: 0.4em;background-color: white;}#sk-container-id-2 div.sk-label label {font-family: monospace;font-weight: bold;display: inline-block;line-height: 1.2em;}#sk-container-id-2 div.sk-label-container {text-align: center;}#sk-container-id-2 div.sk-container {/* jupyter's `normalize.less` sets `[hidden] { display: none; }` but bootstrap.min.css set `[hidden] { display: none !important; }` so we also need the `!important` here to be able to override the default hidden behavior on the sphinx rendered scikit-learn.org. See: https://github.com/scikit-learn/scikit-learn/issues/21755 */display: inline-block !important;position: relative;}#sk-container-id-2 div.sk-text-repr-fallback {display: none;}</style><div id=\"sk-container-id-2\" class=\"sk-top-container\"><div class=\"sk-text-repr-fallback\"><pre>LogisticRegression(C=0.01, multi_class=&#x27;ovr&#x27;, n_jobs=1, solver=&#x27;saga&#x27;, tol=0.1)</pre><b>In a Jupyter environment, please rerun this cell to show the HTML representation or trust the notebook. <br />On GitHub, the HTML representation is unable to render, please try loading this page with nbviewer.org.</b></div><div class=\"sk-container\" hidden><div class=\"sk-item\"><div class=\"sk-estimator sk-toggleable\"><input class=\"sk-toggleable__control sk-hidden--visually\" id=\"sk-estimator-id-2\" type=\"checkbox\" checked><label for=\"sk-estimator-id-2\" class=\"sk-toggleable__label sk-toggleable__label-arrow\">LogisticRegression</label><div class=\"sk-toggleable__content\"><pre>LogisticRegression(C=0.01, multi_class=&#x27;ovr&#x27;, n_jobs=1, solver=&#x27;saga&#x27;, tol=0.1)</pre></div></div></div></div></div>"
      ],
      "text/plain": [
       "LogisticRegression(C=0.01, multi_class='ovr', n_jobs=1, solver='saga', tol=0.1)"
      ]
     },
     "execution_count": 24,
     "metadata": {},
     "output_type": "execute_result"
    }
   ],
   "source": [
    "# instantiate the model (using the default parameters)\n",
    "\n",
    "# logreg4B_train = LogisticRegression(penalty = 'l2', \n",
    "#                            dual = False, #dual problem\n",
    "#                            tol = 0.0001,\n",
    "#                            C = 0.01,\n",
    "#                            fit_intercept = True,\n",
    "#                            intercept_scaling = 1,\n",
    "#                            class_weight = None,\n",
    "#                            random_state = None,\n",
    "#                            solver = 'saga',\n",
    "#                            max_iter = 100,\n",
    "#                            multi_class = 'ovr',\n",
    "#                            verbose = 0,\n",
    "#                            warm_start = False,\n",
    "#                            n_jobs = 1,\n",
    "#                           )\n",
    "\n",
    "\n",
    "\n",
    "logreg4B_train = LogisticRegression(penalty = 'l2', \n",
    "                           dual = False, #dual problem\n",
    "                           tol = 0.0001,\n",
    "                           C = 0.01,\n",
    "                           fit_intercept = True,\n",
    "                           intercept_scaling = 1,\n",
    "                           class_weight = None,\n",
    "                           random_state = None,\n",
    "                           solver = 'saga',\n",
    "                           max_iter = 100,\n",
    "                           multi_class = 'ovr',\n",
    "                           verbose = 0,\n",
    "                           warm_start = False,\n",
    "                           n_jobs = 1,\n",
    "                          )\n",
    "\n",
    "\n",
    "\n",
    "# fit the model with data\n",
    "# logreg4B_train.fit(X_train_norm, y_train)\n",
    "logreg4B_train.fit(df_X_train_norm, y_train) #selected\n"
   ]
  },
  {
   "cell_type": "code",
   "execution_count": 25,
   "id": "6c3c313e-3ae0-4c12-95de-da4f5ac1ca31",
   "metadata": {
    "tags": []
   },
   "outputs": [
    {
     "data": {
      "text/plain": [
       "['../models/logreg4B.sav']"
      ]
     },
     "execution_count": 25,
     "metadata": {},
     "output_type": "execute_result"
    }
   ],
   "source": [
    "# save the model to disk\n",
    "joblib.dump(logreg4B_train, '../models/logreg4B.sav')"
   ]
  },
  {
   "cell_type": "markdown",
   "id": "32001feb-ac70-40d9-9b6e-27d0001b9e3f",
   "metadata": {
    "jp-MarkdownHeadingCollapsed": true,
    "tags": []
   },
   "source": [
    "### Hyperparameter tuning with Hyperopt (Logreg5)"
   ]
  },
  {
   "cell_type": "code",
   "execution_count": 88,
   "id": "7d6a1afd-7c97-4e12-92e7-bdd16b74ba8a",
   "metadata": {},
   "outputs": [
    {
     "name": "stdout",
     "output_type": "stream",
     "text": [
      "100% 5/5 [00:26<00:00,  5.22s/trial, best loss: 0.296385596703691] \n",
      "Best:  {'tol': 0}\n"
     ]
    }
   ],
   "source": [
    "# Define the search space for xgboost hyperparameters\n",
    "\n",
    "space={\n",
    "    # 'penalty' : hp.choice('penalty', ['l1', 'l2', 'none']),\n",
    "       # 'multi_class' : hp.choice('multi_class', ['auto', 'ovr', 'multinomial']),\n",
    "       'tol' : hp.choice('tol', ['0.0001', '0.0005', '0.01']),\n",
    "       # 'C' : hp.choice('C', ['0.0001', '0.0005', '0.01'])\n",
    "    }\n",
    "\n",
    "\n",
    "# Define a function called `objective` with the following logics:\n",
    "# input parameters: hyperparameter seacrh space (`space`)\n",
    "# logics: train a xgboost model with the search space and calculate the average accuracy score for cross validation with 10 folds\n",
    "# output parameters: dictionary with the loss score and STATUS_OK\n",
    "\n",
    "\n",
    "def objective(space):\n",
    "    from sklearn.model_selection import cross_val_score\n",
    "       \n",
    "    logreg= LogisticRegression(\n",
    "        # penalty = space['penalty'],\n",
    "                           penalty = 'l2',\n",
    "                           dual = False, \n",
    "                           tol = float(space['tol']),\n",
    "                            # tol = 0.0001,\n",
    "                           # C = float(space['C']),\n",
    "                            C = 1.0, \n",
    "                           fit_intercept = True,\n",
    "                           intercept_scaling = 1,\n",
    "                           class_weight = None,\n",
    "                           random_state = None,\n",
    "                           solver = 'saga',\n",
    "                           max_iter = 1000,\n",
    "                           # multi_class = space['multi_class'],\n",
    "                           multi_class = 'ovr',\n",
    "                           verbose = 0,\n",
    "                           warm_start = False,\n",
    "                           n_jobs = 1,\n",
    "                           l1_ratio = None\n",
    "                          )\n",
    "    \n",
    "#     logreg = LogisticRegression(penalty = 'l2', #use L2 regularisation\n",
    "#                            dual = False, #dual problem\n",
    "#                            tol = 0.0001,\n",
    "#                            C = 1.0,\n",
    "#                            fit_intercept = True,\n",
    "#                            intercept_scaling = 1,\n",
    "#                            class_weight = None,\n",
    "#                            random_state = None,\n",
    "#                            solver = 'liblinear',\n",
    "#                            max_iter = 100,\n",
    "#                            multi_class = 'ovr',\n",
    "#                            verbose = 0,\n",
    "#                            warm_start = False,\n",
    "#                            n_jobs = 1,\n",
    "#                            l1_ratio = None\n",
    "#                           )\n",
    "    \n",
    "    acc = cross_val_score(logreg, X_train_norm, y_train, cv=10, scoring=\"roc_auc\").mean()\n",
    "\n",
    "    return{'loss': 1-acc, 'status': STATUS_OK }\n",
    "\n",
    "\n",
    "\n",
    "# Launch Hyperopt search and save the result in a variable called `best`\n",
    "best = fmin(\n",
    "    fn=objective,   \n",
    "    space=space,       \n",
    "    algo=tpe.suggest,       \n",
    "    max_evals=5\n",
    ")\n",
    "\n",
    "\n",
    "# Print the best set of hyperparameters\n",
    "print(\"Best: \", best)\n"
   ]
  },
  {
   "cell_type": "code",
   "execution_count": null,
   "id": "b4884da9-d45f-4266-85d7-cdca528a3bf0",
   "metadata": {},
   "outputs": [],
   "source": [
    "# instantiate the model (Logistic Regression with best set of hyperparameters)\n",
    "logreg5_train = LogisticRegression(penalty = best['penalty'],\n",
    "                           dual = False, \n",
    "                           # tol = float(space['tol']),\n",
    "                            tol = 0.0001,\n",
    "                           # C = float(space['C']),\n",
    "                            C = 1.0, \n",
    "                           fit_intercept = True,\n",
    "                           intercept_scaling = 1,\n",
    "                           class_weight = None,\n",
    "                           random_state = None,\n",
    "                           solver = 'saga',\n",
    "                           max_iter = 1000,\n",
    "                           # multi_class = space['multi_class'],\n",
    "                           multi_class = 'ovr',\n",
    "                           verbose = 0,\n",
    "                           warm_start = False,\n",
    "                           n_jobs = 1,\n",
    "                           l1_ratio = None\n",
    "                          )\n",
    "\n",
    "# fit the model with data\n",
    "logreg5_train.fit(X_train_norm, y_train)"
   ]
  },
  {
   "cell_type": "code",
   "execution_count": null,
   "id": "c9c36473-75eb-47b2-80ce-51f34b08e027",
   "metadata": {},
   "outputs": [],
   "source": []
  },
  {
   "cell_type": "markdown",
   "id": "3645553d-5f60-429d-ae26-529e69c13120",
   "metadata": {},
   "source": [
    "## Model Evaluation"
   ]
  },
  {
   "cell_type": "markdown",
   "id": "9359479a-c48b-43f9-a662-6dedcd9c0692",
   "metadata": {
    "jp-MarkdownHeadingCollapsed": true,
    "tags": []
   },
   "source": [
    "#### Using default parameters (Logreg2)"
   ]
  },
  {
   "cell_type": "code",
   "execution_count": 59,
   "id": "e39155cc-f74e-4434-84bc-9109ae451a73",
   "metadata": {},
   "outputs": [
    {
     "name": "stdout",
     "output_type": "stream",
     "text": [
      "0.6463574915508825\n"
     ]
    }
   ],
   "source": [
    "# Load the model from the file \n",
    "logreg2_from_joblib = joblib.load('../models/logreg2.sav') \n",
    "\n",
    "# Predict on training set\n",
    "y_pred_ontrain_logreg2 = logreg2_from_joblib.predict(X_train)\n",
    "\n",
    "# Accuracy on training set\n",
    "print( accuracy_score(y_pred_ontrain_logreg2, y_train) )"
   ]
  },
  {
   "cell_type": "markdown",
   "id": "ba49d467-54d4-401b-b0da-0c92de496521",
   "metadata": {
    "jp-MarkdownHeadingCollapsed": true,
    "tags": []
   },
   "source": [
    "#### Using default parameters (Logreg3)"
   ]
  },
  {
   "cell_type": "code",
   "execution_count": 60,
   "id": "dfc52380-eb41-4560-abdc-229f145d0d8e",
   "metadata": {
    "tags": []
   },
   "outputs": [
    {
     "name": "stdout",
     "output_type": "stream",
     "text": [
      "0.6491738640630867\n"
     ]
    }
   ],
   "source": [
    "# Load the model from the file \n",
    "logreg3_from_joblib = joblib.load('../models/logreg3.sav') \n",
    "\n",
    "# Predict on training set\n",
    "y_pred_ontrain_logreg3 = logreg3_from_joblib.predict(X_train_norm)\n",
    "\n",
    "# Accuracy on training set\n",
    "print( accuracy_score(y_pred_ontrain_logreg3, y_train) )"
   ]
  },
  {
   "cell_type": "markdown",
   "id": "702b2cf2-865a-4f8a-b9f4-13f5f730668e",
   "metadata": {
    "jp-MarkdownHeadingCollapsed": true,
    "tags": []
   },
   "source": [
    "#### Manual hyperparameter tuning (Logreg4)"
   ]
  },
  {
   "cell_type": "code",
   "execution_count": 61,
   "id": "64498e28-4f55-4353-be8e-e1905bfdb96a",
   "metadata": {
    "tags": []
   },
   "outputs": [
    {
     "name": "stdout",
     "output_type": "stream",
     "text": [
      "0.6494555013143072\n"
     ]
    }
   ],
   "source": [
    "# Load the model from the file \n",
    "logreg4_from_joblib = joblib.load('../models/logreg4.sav') \n",
    "\n",
    "# Predict on training set\n",
    "y_pred_ontrain_logreg4 = logreg4_from_joblib.predict(X_train_norm)\n",
    "\n",
    "# Accuracy on training set\n",
    "print( accuracy_score(y_pred_ontrain_logreg4, y_train) )"
   ]
  },
  {
   "cell_type": "markdown",
   "id": "b51d3d3e-c39e-4486-a98f-00acfceafc0a",
   "metadata": {
    "tags": []
   },
   "source": [
    "#### Manual hyperparameter tuning (Logreg4B)"
   ]
  },
  {
   "cell_type": "code",
   "execution_count": 26,
   "id": "f7ba94cc-c1d6-45d1-89fa-9d1208d2bb80",
   "metadata": {
    "tags": []
   },
   "outputs": [
    {
     "name": "stdout",
     "output_type": "stream",
     "text": [
      "0.6228877206158467\n"
     ]
    }
   ],
   "source": [
    "# Load the model from the file \n",
    "logreg4B_from_joblib = joblib.load('../models/logreg4B.sav') \n",
    "\n",
    "# Predict on training set\n",
    "# y_pred_ontrain_logreg4B = logreg4B_from_joblib.predict(X_train_norm)\n",
    "y_pred_ontrain_logreg4B = logreg4B_from_joblib.predict(df_X_train_norm)\n",
    "\n",
    "# Accuracy on training set\n",
    "print( accuracy_score(y_pred_ontrain_logreg4B, y_train) )"
   ]
  },
  {
   "cell_type": "code",
   "execution_count": null,
   "id": "ffc9efe7-b794-4a23-bc38-44ecb5d78580",
   "metadata": {},
   "outputs": [],
   "source": []
  },
  {
   "cell_type": "markdown",
   "id": "eacc2c3c-d0c5-4efd-a543-740666faf73d",
   "metadata": {},
   "source": [
    "### Prediction on valuation set"
   ]
  },
  {
   "cell_type": "code",
   "execution_count": 33,
   "id": "631a827c-a2a6-49d7-bab9-2a003ec6f200",
   "metadata": {},
   "outputs": [],
   "source": [
    "y_pred_onval_logreg2 = logreg2_train.predict(X_val)"
   ]
  },
  {
   "cell_type": "code",
   "execution_count": 34,
   "id": "f80f366a-6314-4921-b6a2-a4c22e09a8e1",
   "metadata": {},
   "outputs": [],
   "source": [
    "y_pred_onval_logreg3 = logreg3_train.predict(X_val_norm)"
   ]
  },
  {
   "cell_type": "code",
   "execution_count": 62,
   "id": "bf79994f-98c5-414c-a2db-ddcb9e36a268",
   "metadata": {},
   "outputs": [],
   "source": [
    "y_pred_onval_logreg4 = logreg4_train.predict(X_val_norm)"
   ]
  },
  {
   "cell_type": "code",
   "execution_count": 198,
   "id": "e3e8e0df-e53f-4987-ac3d-1a78f5368324",
   "metadata": {},
   "outputs": [],
   "source": [
    "y_pred_onval_logreg4B = logreg4B_train.predict(X_val_norm)"
   ]
  },
  {
   "cell_type": "code",
   "execution_count": 27,
   "id": "1bfe0148-acb5-418c-bf1e-ef440a1f229d",
   "metadata": {},
   "outputs": [],
   "source": [
    "y_pred_onval_logreg4B = logreg4B_train.predict(df_X_val_norm)"
   ]
  },
  {
   "cell_type": "markdown",
   "id": "5ae8daf2-9a67-4abf-88e0-a8244a51282d",
   "metadata": {
    "jp-MarkdownHeadingCollapsed": true,
    "tags": []
   },
   "source": [
    "### Confusion Matrix"
   ]
  },
  {
   "cell_type": "markdown",
   "id": "33ec6d5a-691e-442f-9106-7c38f4ff4463",
   "metadata": {
    "jp-MarkdownHeadingCollapsed": true,
    "tags": []
   },
   "source": [
    "#### Logreg 2 - Default model hyperparameters"
   ]
  },
  {
   "cell_type": "code",
   "execution_count": 35,
   "id": "6332f031-75ee-4c15-9313-d40fc50f2836",
   "metadata": {},
   "outputs": [
    {
     "data": {
      "text/plain": [
       "array([[193,  64],\n",
       "       [635, 708]])"
      ]
     },
     "execution_count": 35,
     "metadata": {},
     "output_type": "execute_result"
    }
   ],
   "source": [
    "cnf_matrix = metrics.confusion_matrix(y_val, y_pred_onval_logreg2)\n",
    "cnf_matrix\n"
   ]
  },
  {
   "cell_type": "code",
   "execution_count": 36,
   "id": "2105b274-f894-4da4-b69c-47349a84cb4b",
   "metadata": {},
   "outputs": [
    {
     "data": {
      "image/png": "[encoded data removed]",
      "text/plain": [
       "<Figure size 640x480 with 2 Axes>"
      ]
     },
     "metadata": {},
     "output_type": "display_data"
    }
   ],
   "source": [
    "class_names = [0,1] # name  of classes\n",
    "fig, ax = plt.subplots()\n",
    "tick_marks = np.arange(len(class_names))\n",
    "plt.xticks(tick_marks, class_names)\n",
    "plt.yticks(tick_marks, class_names)\n",
    "\n",
    "# create heatmap\n",
    "sns.heatmap(pd.DataFrame(cnf_matrix), annot=True, cmap=\"YlGnBu\" ,fmt='g')\n",
    "ax.xaxis.set_label_position(\"top\")\n",
    "plt.tight_layout()\n",
    "plt.title('Confusion matrix - Logreg 2 - Default model hyperparameters', y=1.1)\n",
    "plt.ylabel('Actual label')\n",
    "plt.xlabel('Predicted label');"
   ]
  },
  {
   "cell_type": "markdown",
   "id": "86724fac-7b9a-48fb-b369-9d1a3c54cdbd",
   "metadata": {
    "jp-MarkdownHeadingCollapsed": true,
    "tags": []
   },
   "source": [
    "#### Logreg 3 - Default model hyperparameters"
   ]
  },
  {
   "cell_type": "code",
   "execution_count": 37,
   "id": "68b3903a-0329-417e-a8f2-9b0e4e6355b6",
   "metadata": {
    "tags": []
   },
   "outputs": [
    {
     "data": {
      "text/plain": [
       "array([[175,  82],\n",
       "       [521, 822]])"
      ]
     },
     "execution_count": 37,
     "metadata": {},
     "output_type": "execute_result"
    }
   ],
   "source": [
    "cnf_matrix = metrics.confusion_matrix(y_val, y_pred_onval_logreg3)\n",
    "cnf_matrix\n"
   ]
  },
  {
   "cell_type": "code",
   "execution_count": 38,
   "id": "2a48ea39-6cbd-4fb3-bf06-c1d2b3da9462",
   "metadata": {},
   "outputs": [
    {
     "data": {
      "image/png": "[encoded data removed]",
      "text/plain": [
       "<Figure size 640x480 with 2 Axes>"
      ]
     },
     "metadata": {},
     "output_type": "display_data"
    }
   ],
   "source": [
    "class_names = [0,1] # name  of classes\n",
    "fig, ax = plt.subplots()\n",
    "tick_marks = np.arange(len(class_names))\n",
    "plt.xticks(tick_marks, class_names)\n",
    "plt.yticks(tick_marks, class_names)\n",
    "\n",
    "# create heatmap\n",
    "sns.heatmap(pd.DataFrame(cnf_matrix), annot=True, cmap=\"YlGnBu\" ,fmt='g')\n",
    "ax.xaxis.set_label_position(\"top\")\n",
    "plt.tight_layout()\n",
    "plt.title('Confusion matrix - Logreg 3 - Default model hyperparameters', y=1.1)\n",
    "plt.ylabel('Actual label')\n",
    "plt.xlabel('Predicted label');"
   ]
  },
  {
   "cell_type": "markdown",
   "id": "20ec18c4-e8ab-4ac3-8622-4f437ca1935c",
   "metadata": {
    "jp-MarkdownHeadingCollapsed": true,
    "tags": []
   },
   "source": [
    "#### Logreg 4 - Default model hyperparameters"
   ]
  },
  {
   "cell_type": "code",
   "execution_count": 63,
   "id": "3ffebf9a-6bcc-4904-97fc-28202a389e1a",
   "metadata": {
    "tags": []
   },
   "outputs": [
    {
     "data": {
      "text/plain": [
       "array([[180,  77],\n",
       "       [584, 759]])"
      ]
     },
     "execution_count": 63,
     "metadata": {},
     "output_type": "execute_result"
    }
   ],
   "source": [
    "cnf_matrix = metrics.confusion_matrix(y_val, y_pred_onval_logreg4)\n",
    "cnf_matrix\n"
   ]
  },
  {
   "cell_type": "code",
   "execution_count": 64,
   "id": "a930e9e6-b398-483f-88ea-e1697369f66a",
   "metadata": {},
   "outputs": [
    {
     "data": {
      "image/png": "[encoded data removed]",
      "text/plain": [
       "<Figure size 640x480 with 2 Axes>"
      ]
     },
     "metadata": {},
     "output_type": "display_data"
    }
   ],
   "source": [
    "class_names = [0,1] # name  of classes\n",
    "fig, ax = plt.subplots()\n",
    "tick_marks = np.arange(len(class_names))\n",
    "plt.xticks(tick_marks, class_names)\n",
    "plt.yticks(tick_marks, class_names)\n",
    "\n",
    "# create heatmap\n",
    "sns.heatmap(pd.DataFrame(cnf_matrix), annot=True, cmap=\"YlGnBu\" ,fmt='g')\n",
    "ax.xaxis.set_label_position(\"top\")\n",
    "plt.tight_layout()\n",
    "plt.title('Confusion matrix - Logreg 4 - Default model hyperparameters', y=1.1)\n",
    "plt.ylabel('Actual label')\n",
    "plt.xlabel('Predicted label');"
   ]
  },
  {
   "cell_type": "markdown",
   "id": "1619f597-67f5-4b78-ba29-cafa418aafde",
   "metadata": {
    "jp-MarkdownHeadingCollapsed": true,
    "tags": []
   },
   "source": [
    "#### Logreg 4B - Default model hyperparameters"
   ]
  },
  {
   "cell_type": "code",
   "execution_count": 93,
   "id": "645515b8-8c0b-4578-864c-71ae1f5d5278",
   "metadata": {
    "tags": []
   },
   "outputs": [
    {
     "data": {
      "text/plain": [
       "array([[169,  88],\n",
       "       [543, 800]])"
      ]
     },
     "execution_count": 93,
     "metadata": {},
     "output_type": "execute_result"
    }
   ],
   "source": [
    "cnf_matrix = metrics.confusion_matrix(y_val, y_pred_onval_logreg4B)\n",
    "cnf_matrix\n"
   ]
  },
  {
   "cell_type": "code",
   "execution_count": 94,
   "id": "f5dffadf-32d4-48e5-90cc-fc620e2f4ac4",
   "metadata": {},
   "outputs": [
    {
     "data": {
      "image/png": "[encoded data removed]",
      "text/plain": [
       "<Figure size 640x480 with 2 Axes>"
      ]
     },
     "metadata": {},
     "output_type": "display_data"
    }
   ],
   "source": [
    "class_names = [0,1] # name  of classes\n",
    "fig, ax = plt.subplots()\n",
    "tick_marks = np.arange(len(class_names))\n",
    "plt.xticks(tick_marks, class_names)\n",
    "plt.yticks(tick_marks, class_names)\n",
    "\n",
    "# create heatmap\n",
    "sns.heatmap(pd.DataFrame(cnf_matrix), annot=True, cmap=\"YlGnBu\" ,fmt='g')\n",
    "ax.xaxis.set_label_position(\"top\")\n",
    "plt.tight_layout()\n",
    "plt.title('Confusion matrix - Logreg 4B - Default model hyperparameters', y=1.1)\n",
    "plt.ylabel('Actual label')\n",
    "plt.xlabel('Predicted label');"
   ]
  },
  {
   "cell_type": "markdown",
   "id": "6bee5e5e-530b-4971-a713-6345b6cba55e",
   "metadata": {
    "jp-MarkdownHeadingCollapsed": true,
    "tags": []
   },
   "source": [
    "### Accuracy, Precision, and Recall"
   ]
  },
  {
   "cell_type": "markdown",
   "id": "d9430cc2-ed8a-48f1-b9de-f304d6bd2e13",
   "metadata": {
    "jp-MarkdownHeadingCollapsed": true,
    "tags": []
   },
   "source": [
    "#### Logreg 2 - Default model hyperparameters"
   ]
  },
  {
   "cell_type": "code",
   "execution_count": 39,
   "id": "75cd4aec-ebd2-4c87-9ab4-11698f5dc190",
   "metadata": {
    "tags": []
   },
   "outputs": [],
   "source": [
    "target_names = ['career years played < 5', 'career years played >= 5']"
   ]
  },
  {
   "cell_type": "code",
   "execution_count": 40,
   "id": "66cfce28",
   "metadata": {
    "tags": []
   },
   "outputs": [
    {
     "name": "stdout",
     "output_type": "stream",
     "text": [
      "Logreg 2 - Default model hyperparameters\n",
      "                          precision    recall  f1-score   support\n",
      "\n",
      " career years played < 5       0.23      0.75      0.36       257\n",
      "career years played >= 5       0.92      0.53      0.67      1343\n",
      "\n",
      "                accuracy                           0.56      1600\n",
      "               macro avg       0.58      0.64      0.51      1600\n",
      "            weighted avg       0.81      0.56      0.62      1600\n",
      "\n"
     ]
    }
   ],
   "source": [
    "print(\"Logreg 2 - Default model hyperparameters\")\n",
    "print(classification_report(y_val, y_pred_onval_logreg2, target_names=target_names))"
   ]
  },
  {
   "cell_type": "markdown",
   "id": "c7992f67-c768-4edb-814d-9fc59fc9c378",
   "metadata": {
    "jp-MarkdownHeadingCollapsed": true,
    "tags": []
   },
   "source": [
    "#### Logreg 3 - Default model hyperparameters"
   ]
  },
  {
   "cell_type": "code",
   "execution_count": 41,
   "id": "4c0c8e67-fdfa-4858-8348-a8af4d3b0d02",
   "metadata": {
    "tags": []
   },
   "outputs": [
    {
     "name": "stdout",
     "output_type": "stream",
     "text": [
      "Logreg 3 - Default model hyperparameters\n",
      "                          precision    recall  f1-score   support\n",
      "\n",
      " career years played < 5       0.25      0.68      0.37       257\n",
      "career years played >= 5       0.91      0.61      0.73      1343\n",
      "\n",
      "                accuracy                           0.62      1600\n",
      "               macro avg       0.58      0.65      0.55      1600\n",
      "            weighted avg       0.80      0.62      0.67      1600\n",
      "\n"
     ]
    }
   ],
   "source": [
    "print(\"Logreg 3 - Default model hyperparameters\")\n",
    "print(classification_report(y_val, y_pred_onval_logreg3, target_names=target_names))"
   ]
  },
  {
   "cell_type": "markdown",
   "id": "32388b9e-0550-4fa3-8fa7-bf1a6d1d8b07",
   "metadata": {
    "jp-MarkdownHeadingCollapsed": true,
    "tags": []
   },
   "source": [
    "#### Logreg 4 - Manual hyperparameters tuning"
   ]
  },
  {
   "cell_type": "code",
   "execution_count": 65,
   "id": "592b282b-4d6a-4622-b49f-25c6bcbc8c52",
   "metadata": {
    "jupyter": {
     "source_hidden": true
    },
    "tags": []
   },
   "outputs": [
    {
     "name": "stdout",
     "output_type": "stream",
     "text": [
      "Logreg 4 - Manual hyperparameter tuning\n",
      "                          precision    recall  f1-score   support\n",
      "\n",
      " career years played < 5       0.24      0.70      0.35       257\n",
      "career years played >= 5       0.91      0.57      0.70      1343\n",
      "\n",
      "                accuracy                           0.59      1600\n",
      "               macro avg       0.57      0.63      0.52      1600\n",
      "            weighted avg       0.80      0.59      0.64      1600\n",
      "\n"
     ]
    }
   ],
   "source": [
    "print(\"Logreg 4 - Manual hyperparameter tuning\")\n",
    "print(classification_report(y_val, y_pred_onval_logreg4, target_names=target_names))"
   ]
  },
  {
   "cell_type": "markdown",
   "id": "0bcfbaae-52f0-4527-860d-6a715fcdc760",
   "metadata": {
    "jp-MarkdownHeadingCollapsed": true,
    "tags": []
   },
   "source": [
    "#### Logreg 4B - Manual hyperparameters tuning"
   ]
  },
  {
   "cell_type": "code",
   "execution_count": 101,
   "id": "24ea68a9-3c46-4f08-b7dd-1845563b3cf7",
   "metadata": {
    "tags": []
   },
   "outputs": [
    {
     "name": "stdout",
     "output_type": "stream",
     "text": [
      "Logreg 4B - Manual hyperparameter tuning\n",
      "                          precision    recall  f1-score   support\n",
      "\n",
      " career years played < 5       0.24      0.74      0.36       257\n",
      "career years played >= 5       0.91      0.54      0.68      1343\n",
      "\n",
      "                accuracy                           0.57      1600\n",
      "               macro avg       0.58      0.64      0.52      1600\n",
      "            weighted avg       0.81      0.57      0.63      1600\n",
      "\n"
     ]
    }
   ],
   "source": [
    "print(\"Logreg 4B - Manual hyperparameter tuning\")\n",
    "print(classification_report(y_val, y_pred_onval_logreg4B, target_names=target_names))"
   ]
  },
  {
   "cell_type": "markdown",
   "id": "703de8b5-5abd-41aa-9f80-df858c8ba41e",
   "metadata": {},
   "source": [
    "### ROC"
   ]
  },
  {
   "cell_type": "markdown",
   "id": "218c931b-99e6-40e8-abaf-9b4171ac1270",
   "metadata": {
    "jp-MarkdownHeadingCollapsed": true,
    "tags": []
   },
   "source": [
    "#### Logreg 2"
   ]
  },
  {
   "cell_type": "code",
   "execution_count": 42,
   "id": "06f9360a-d03f-4b54-8571-c7a314a7da72",
   "metadata": {},
   "outputs": [
    {
     "data": {
      "image/png": "[encoded data removed]",
      "text/plain": [
       "<Figure size 640x480 with 1 Axes>"
      ]
     },
     "metadata": {},
     "output_type": "display_data"
    }
   ],
   "source": [
    "y_proba_onval_logreg2 = logreg2_train.predict_proba(X_val)[::,1]\n",
    "\n",
    "fpr, tpr, _ = metrics.roc_curve(y_val,  y_proba_onval_logreg2)\n",
    "auc = metrics.roc_auc_score(y_val, y_proba_onval_logreg2)\n",
    "\n",
    "plt.plot(fpr,tpr,label=\"Logreg 2 - Default, auc=\"+str(auc))\n",
    "plt.legend(loc=4)\n",
    "plt.show()"
   ]
  },
  {
   "cell_type": "markdown",
   "id": "c8e6d879-99c9-46cd-aeac-e7b89c240dec",
   "metadata": {
    "jp-MarkdownHeadingCollapsed": true,
    "tags": []
   },
   "source": [
    "#### Logreg 3"
   ]
  },
  {
   "cell_type": "code",
   "execution_count": 66,
   "id": "a027e995-ae65-4321-98fe-473685deb736",
   "metadata": {
    "tags": []
   },
   "outputs": [
    {
     "data": {
      "image/png": "[encoded data removed]",
      "text/plain": [
       "<Figure size 640x480 with 1 Axes>"
      ]
     },
     "metadata": {},
     "output_type": "display_data"
    }
   ],
   "source": [
    "y_proba_onval_logreg3 = logreg3_train.predict_proba(X_val_norm)[::,1]\n",
    "\n",
    "fpr, tpr, _ = metrics.roc_curve(y_val,  y_proba_onval_logreg3)\n",
    "auc = metrics.roc_auc_score(y_val, y_proba_onval_logreg3)\n",
    "\n",
    "plt.plot(fpr,tpr,label=\"Logreg 3 - Default, auc=\"+str(auc))\n",
    "plt.legend(loc=4)\n",
    "plt.show()"
   ]
  },
  {
   "cell_type": "markdown",
   "id": "1fab1cf4-7a9e-462f-b942-14c1de2b37d7",
   "metadata": {
    "jp-MarkdownHeadingCollapsed": true,
    "tags": []
   },
   "source": [
    "#### Logreg 4"
   ]
  },
  {
   "cell_type": "code",
   "execution_count": 67,
   "id": "274b0e64-885b-4556-8c4b-67524a5d74e9",
   "metadata": {
    "tags": []
   },
   "outputs": [
    {
     "data": {
      "image/png": "[encoded data removed]",
      "text/plain": [
       "<Figure size 640x480 with 1 Axes>"
      ]
     },
     "metadata": {},
     "output_type": "display_data"
    }
   ],
   "source": [
    "y_proba_onval_logreg4 = logreg4_train.predict_proba(X_val_norm)[::,1]\n",
    "\n",
    "fpr, tpr, _ = metrics.roc_curve(y_val,  y_proba_onval_logreg4)\n",
    "auc = metrics.roc_auc_score(y_val, y_proba_onval_logreg4)\n",
    "\n",
    "plt.plot(fpr,tpr,label=\"Logreg 4 - Default, auc=\"+str(auc))\n",
    "plt.legend(loc=4)\n",
    "plt.show()"
   ]
  },
  {
   "cell_type": "markdown",
   "id": "43491656-0d91-49e3-85b7-f7ad458fd90a",
   "metadata": {},
   "source": [
    "#### Logreg 4B"
   ]
  },
  {
   "cell_type": "code",
   "execution_count": null,
   "id": "154376eb-ea02-4a8b-a141-95e5ca448e30",
   "metadata": {
    "tags": []
   },
   "outputs": [],
   "source": [
    "y_proba_onval_logreg4B = logreg4B_train.predict_proba(X_val_norm)[::,1]\n",
    "\n",
    "fpr, tpr, _ = metrics.roc_curve(y_val,  y_proba_onval_logreg4B)\n",
    "auc = metrics.roc_auc_score(y_val, y_proba_onval_logreg4B)\n",
    "\n",
    "plt.plot(fpr,tpr,label=\"Logreg 4B - Default, auc=\"+str(auc))\n",
    "plt.legend(loc=4)\n",
    "plt.show()"
   ]
  },
  {
   "cell_type": "code",
   "execution_count": 28,
   "id": "34037c9f-2968-4591-a4ed-dd17db549768",
   "metadata": {
    "tags": []
   },
   "outputs": [
    {
     "data": {
      "image/png": "[encoded data removed]",
      "text/plain": [
       "<Figure size 640x480 with 1 Axes>"
      ]
     },
     "metadata": {},
     "output_type": "display_data"
    }
   ],
   "source": [
    "y_proba_onval_logreg4B = logreg4B_train.predict_proba(df_X_val_norm)[::,1]\n",
    "\n",
    "fpr, tpr, _ = metrics.roc_curve(y_val,  y_proba_onval_logreg4B)\n",
    "auc = metrics.roc_auc_score(y_val, y_proba_onval_logreg4B)\n",
    "\n",
    "plt.plot(fpr,tpr,label=\"Logreg 4B - Default, auc=\"+str(auc))\n",
    "plt.legend(loc=4)\n",
    "plt.show()"
   ]
  },
  {
   "cell_type": "markdown",
   "id": "569680a3-3649-4257-819e-87edd4339cc8",
   "metadata": {},
   "source": [
    "## Test on unseen data"
   ]
  },
  {
   "cell_type": "markdown",
   "id": "d7b13233-d137-4f4a-8260-66d4c9ff230d",
   "metadata": {},
   "source": [
    "### Loading the test data set"
   ]
  },
  {
   "cell_type": "code",
   "execution_count": 20,
   "id": "e04e8592-3955-402f-87c7-e2dc7d89d9c9",
   "metadata": {},
   "outputs": [
    {
     "name": "stdout",
     "output_type": "stream",
     "text": [
      "Dimension of training data - unsplit (3799, 20)\n"
     ]
    },
    {
     "data": {
      "text/html": [
       "<div>\n",
       "<style scoped>\n",
       "    .dataframe tbody tr th:only-of-type {\n",
       "        vertical-align: middle;\n",
       "    }\n",
       "\n",
       "    .dataframe tbody tr th {\n",
       "        vertical-align: top;\n",
       "    }\n",
       "\n",
       "    .dataframe thead th {\n",
       "        text-align: right;\n",
       "    }\n",
       "</style>\n",
       "<table border=\"1\" class=\"dataframe\">\n",
       "  <thead>\n",
       "    <tr style=\"text-align: right;\">\n",
       "      <th></th>\n",
       "      <th>ID</th>\n",
       "      <th>Games Played</th>\n",
       "      <th>Minutes Played</th>\n",
       "      <th>Points Per Game</th>\n",
       "      <th>Field Goals Made</th>\n",
       "      <th>Field Goals Attempts</th>\n",
       "      <th>Field Goals Percent</th>\n",
       "      <th>3Points Made</th>\n",
       "      <th>3Points Attempts</th>\n",
       "      <th>3Points Percent</th>\n",
       "      <th>Free Throw Made</th>\n",
       "      <th>Free Throw Attempts</th>\n",
       "      <th>Free Throw Percent</th>\n",
       "      <th>Offensive Rebounds</th>\n",
       "      <th>Defensive Rebounds</th>\n",
       "      <th>Rebounds</th>\n",
       "      <th>Assists</th>\n",
       "      <th>Steals</th>\n",
       "      <th>Blocks</th>\n",
       "      <th>Turnovers</th>\n",
       "    </tr>\n",
       "  </thead>\n",
       "  <tbody>\n",
       "    <tr>\n",
       "      <th>0</th>\n",
       "      <td>0</td>\n",
       "      <td>56.0</td>\n",
       "      <td>9.1</td>\n",
       "      <td>4.0</td>\n",
       "      <td>1.6</td>\n",
       "      <td>3.7</td>\n",
       "      <td>43.7</td>\n",
       "      <td>0.1</td>\n",
       "      <td>0.3</td>\n",
       "      <td>7.3</td>\n",
       "      <td>0.7</td>\n",
       "      <td>1.2</td>\n",
       "      <td>63.4</td>\n",
       "      <td>1.2</td>\n",
       "      <td>0.8</td>\n",
       "      <td>1.7</td>\n",
       "      <td>0.4</td>\n",
       "      <td>0.2</td>\n",
       "      <td>0.3</td>\n",
       "      <td>0.8</td>\n",
       "    </tr>\n",
       "    <tr>\n",
       "      <th>1</th>\n",
       "      <td>1</td>\n",
       "      <td>43.0</td>\n",
       "      <td>19.3</td>\n",
       "      <td>10.1</td>\n",
       "      <td>3.7</td>\n",
       "      <td>8.1</td>\n",
       "      <td>46.0</td>\n",
       "      <td>0.6</td>\n",
       "      <td>1.7</td>\n",
       "      <td>35.1</td>\n",
       "      <td>1.8</td>\n",
       "      <td>2.5</td>\n",
       "      <td>75.3</td>\n",
       "      <td>0.5</td>\n",
       "      <td>0.9</td>\n",
       "      <td>1.5</td>\n",
       "      <td>3.5</td>\n",
       "      <td>0.6</td>\n",
       "      <td>0.0</td>\n",
       "      <td>1.8</td>\n",
       "    </tr>\n",
       "    <tr>\n",
       "      <th>2</th>\n",
       "      <td>2</td>\n",
       "      <td>82.0</td>\n",
       "      <td>33.9</td>\n",
       "      <td>11.3</td>\n",
       "      <td>4.9</td>\n",
       "      <td>10.6</td>\n",
       "      <td>45.6</td>\n",
       "      <td>0.5</td>\n",
       "      <td>1.9</td>\n",
       "      <td>44.8</td>\n",
       "      <td>1.8</td>\n",
       "      <td>2.7</td>\n",
       "      <td>71.2</td>\n",
       "      <td>1.3</td>\n",
       "      <td>3.3</td>\n",
       "      <td>4.5</td>\n",
       "      <td>2.5</td>\n",
       "      <td>1.3</td>\n",
       "      <td>0.3</td>\n",
       "      <td>2.0</td>\n",
       "    </tr>\n",
       "    <tr>\n",
       "      <th>3</th>\n",
       "      <td>3</td>\n",
       "      <td>86.0</td>\n",
       "      <td>44.7</td>\n",
       "      <td>18.8</td>\n",
       "      <td>6.8</td>\n",
       "      <td>15.9</td>\n",
       "      <td>42.9</td>\n",
       "      <td>0.5</td>\n",
       "      <td>1.8</td>\n",
       "      <td>13.5</td>\n",
       "      <td>4.5</td>\n",
       "      <td>6.3</td>\n",
       "      <td>70.9</td>\n",
       "      <td>1.5</td>\n",
       "      <td>3.2</td>\n",
       "      <td>5.0</td>\n",
       "      <td>4.1</td>\n",
       "      <td>0.9</td>\n",
       "      <td>0.1</td>\n",
       "      <td>3.6</td>\n",
       "    </tr>\n",
       "    <tr>\n",
       "      <th>4</th>\n",
       "      <td>4</td>\n",
       "      <td>58.0</td>\n",
       "      <td>12.3</td>\n",
       "      <td>4.7</td>\n",
       "      <td>1.6</td>\n",
       "      <td>4.0</td>\n",
       "      <td>40.0</td>\n",
       "      <td>0.5</td>\n",
       "      <td>1.7</td>\n",
       "      <td>38.7</td>\n",
       "      <td>1.1</td>\n",
       "      <td>1.3</td>\n",
       "      <td>76.9</td>\n",
       "      <td>0.2</td>\n",
       "      <td>0.6</td>\n",
       "      <td>0.9</td>\n",
       "      <td>1.5</td>\n",
       "      <td>0.5</td>\n",
       "      <td>-0.4</td>\n",
       "      <td>0.9</td>\n",
       "    </tr>\n",
       "  </tbody>\n",
       "</table>\n",
       "</div>"
      ],
      "text/plain": [
       "  ID  Games Played  Minutes Played  Points Per Game  Field Goals Made  \\\n",
       "0  0          56.0             9.1              4.0               1.6   \n",
       "1  1          43.0            19.3             10.1               3.7   \n",
       "2  2          82.0            33.9             11.3               4.9   \n",
       "3  3          86.0            44.7             18.8               6.8   \n",
       "4  4          58.0            12.3              4.7               1.6   \n",
       "\n",
       "   Field Goals Attempts  Field Goals Percent  3Points Made  3Points Attempts  \\\n",
       "0                   3.7                 43.7           0.1               0.3   \n",
       "1                   8.1                 46.0           0.6               1.7   \n",
       "2                  10.6                 45.6           0.5               1.9   \n",
       "3                  15.9                 42.9           0.5               1.8   \n",
       "4                   4.0                 40.0           0.5               1.7   \n",
       "\n",
       "   3Points Percent  Free Throw Made  Free Throw Attempts  Free Throw Percent  \\\n",
       "0              7.3              0.7                  1.2                63.4   \n",
       "1             35.1              1.8                  2.5                75.3   \n",
       "2             44.8              1.8                  2.7                71.2   \n",
       "3             13.5              4.5                  6.3                70.9   \n",
       "4             38.7              1.1                  1.3                76.9   \n",
       "\n",
       "   Offensive Rebounds  Defensive Rebounds  Rebounds  Assists  Steals  Blocks  \\\n",
       "0                 1.2                 0.8       1.7      0.4     0.2     0.3   \n",
       "1                 0.5                 0.9       1.5      3.5     0.6     0.0   \n",
       "2                 1.3                 3.3       4.5      2.5     1.3     0.3   \n",
       "3                 1.5                 3.2       5.0      4.1     0.9     0.1   \n",
       "4                 0.2                 0.6       0.9      1.5     0.5    -0.4   \n",
       "\n",
       "   Turnovers  \n",
       "0        0.8  \n",
       "1        1.8  \n",
       "2        2.0  \n",
       "3        3.6  \n",
       "4        0.9  "
      ]
     },
     "execution_count": 20,
     "metadata": {},
     "output_type": "execute_result"
    }
   ],
   "source": [
    "test = np.load('../data/processed/test.npy')\n",
    "\n",
    "print(\"Dimension of training data - unsplit\", test.shape)\n",
    "\n",
    "df_test = pd.DataFrame(test, \n",
    "             columns=['ID',\n",
    "                 'Games Played', \n",
    "    'Minutes Played',\n",
    "    'Points Per Game',\n",
    "    'Field Goals Made',\n",
    "    'Field Goals Attempts',\n",
    "    'Field Goals Percent',\n",
    "    '3Points Made',\n",
    "    '3Points Attempts',\n",
    "    '3Points Percent',\n",
    "    'Free Throw Made',\n",
    "    'Free Throw Attempts',\n",
    "    'Free Throw Percent',\n",
    "    'Offensive Rebounds',\n",
    "    'Defensive Rebounds',\n",
    "    'Rebounds',\n",
    "    'Assists',\n",
    "    'Steals',\n",
    "    'Blocks',\n",
    "    'Turnovers'\n",
    "                     ])\n",
    "\n",
    "df_test['ID'] = df_test['ID'].astype(int)\n",
    "df_test['ID'] = df_test['ID'].astype(str)\n",
    "\n",
    "# df_test_indexed=df_test.set_index('ID')\n",
    "\n",
    "df_test.head()"
   ]
  },
  {
   "cell_type": "code",
   "execution_count": 244,
   "id": "bce0b312-16eb-4303-8a0b-7f3ef7523a69",
   "metadata": {},
   "outputs": [
    {
     "name": "stdout",
     "output_type": "stream",
     "text": [
      "<class 'pandas.core.frame.DataFrame'>\n",
      "RangeIndex: 3799 entries, 0 to 3798\n",
      "Data columns (total 20 columns):\n",
      " #   Column                Non-Null Count  Dtype  \n",
      "---  ------                --------------  -----  \n",
      " 0   ID                    3799 non-null   object \n",
      " 1   Games Played          3799 non-null   float64\n",
      " 2   Minutes Played        3799 non-null   float64\n",
      " 3   Points Per Game       3799 non-null   float64\n",
      " 4   Field Goals Made      3799 non-null   float64\n",
      " 5   Field Goals Attempts  3799 non-null   float64\n",
      " 6   Field Goals Percent   3799 non-null   float64\n",
      " 7   3Points Made          3799 non-null   float64\n",
      " 8   3Points Attempts      3799 non-null   float64\n",
      " 9   3Points Percent       3799 non-null   float64\n",
      " 10  Free Throw Made       3799 non-null   float64\n",
      " 11  Free Throw Attempts   3799 non-null   float64\n",
      " 12  Free Throw Percent    3799 non-null   float64\n",
      " 13  Offensive Rebounds    3799 non-null   float64\n",
      " 14  Defensive Rebounds    3799 non-null   float64\n",
      " 15  Rebounds              3799 non-null   float64\n",
      " 16  Assists               3799 non-null   float64\n",
      " 17  Steals                3799 non-null   float64\n",
      " 18  Blocks                3799 non-null   float64\n",
      " 19  Turnovers             3799 non-null   float64\n",
      "dtypes: float64(19), object(1)\n",
      "memory usage: 593.7+ KB\n"
     ]
    }
   ],
   "source": [
    "df_test.info()"
   ]
  },
  {
   "cell_type": "code",
   "execution_count": 21,
   "id": "46dcfa78-e813-4cfa-9b02-bb4c9da47362",
   "metadata": {},
   "outputs": [
    {
     "data": {
      "text/plain": [
       "array([[0.41666667, 0.11417323, 0.37575758, 0.42307692, 0.42857143],\n",
       "       [0.30833333, 0.28740157, 0.42222222, 0.61538462, 0.62857143],\n",
       "       [0.63333333, 0.38582677, 0.41414141, 0.57692308, 0.65714286],\n",
       "       ...,\n",
       "       [0.39166667, 0.03937008, 0.36363636, 0.23076923, 0.3       ],\n",
       "       [0.69166667, 0.43307087, 0.40606061, 0.57692308, 0.55714286],\n",
       "       [0.40833333, 0.06692913, 0.34747475, 0.42307692, 0.47142857]])"
      ]
     },
     "execution_count": 21,
     "metadata": {},
     "output_type": "execute_result"
    }
   ],
   "source": [
    "df_features_test = df_test[['Games Played', \n",
    "    # 'Minutes Played',\n",
    "    # 'Points Per Game',\n",
    "    # 'Field Goals Made',\n",
    "    'Field Goals Attempts',\n",
    "    'Field Goals Percent',\n",
    "    '3Points Made',\n",
    "    '3Points Attempts',\n",
    "    # '3Points Percent',\n",
    "    # 'Free Throw Made',\n",
    "    # 'Free Throw Attempts',\n",
    "    # 'Free Throw Percent',\n",
    "    # 'Offensive Rebounds',\n",
    "    # 'Defensive Rebounds',\n",
    "    # 'Rebounds',\n",
    "    # 'Assists',\n",
    "    # 'Steals',\n",
    "    # 'Blocks',\n",
    "    # 'Turnovers'\n",
    "                           ]]\n",
    "\n",
    "\n",
    "# scaler_norm = MinMaxScaler()\n",
    "df_features_test = scaler_norm.fit_transform(df_features_test)\n",
    "\n",
    "\n",
    "\n",
    "df_features_test"
   ]
  },
  {
   "cell_type": "markdown",
   "id": "67a00df4-c8ec-4392-b107-108e37a56636",
   "metadata": {},
   "source": [
    "### Predictions"
   ]
  },
  {
   "cell_type": "code",
   "execution_count": 22,
   "id": "4be95db6-9c56-45c5-a166-dcf70b505b6b",
   "metadata": {},
   "outputs": [
    {
     "name": "stderr",
     "output_type": "stream",
     "text": [
      "/opt/conda/lib/python3.8/site-packages/sklearn/base.py:450: UserWarning: X does not have valid feature names, but LogisticRegression was fitted with feature names\n",
      "  warnings.warn(\n"
     ]
    },
    {
     "data": {
      "text/plain": [
       "0    2559\n",
       "1    1240\n",
       "Name: TARGET_5Yrs, dtype: int64"
      ]
     },
     "execution_count": 22,
     "metadata": {},
     "output_type": "execute_result"
    }
   ],
   "source": [
    "# Load the model from the file \n",
    "# logreg4B_from_joblib = joblib.load('../models/logreg4B.sav') \n",
    "\n",
    "# Use the loaded model to make predictions \n",
    "y_pred_ontest = logreg4B_from_joblib.predict(df_features_test)\n",
    "\n",
    "df_test_predictions = pd.DataFrame(y_pred_ontest, columns=['TARGET_5Yrs'])\n",
    "\n",
    "df_test_predictions.TARGET_5Yrs.value_counts()"
   ]
  },
  {
   "cell_type": "code",
   "execution_count": 23,
   "id": "2acf1f6a-b601-4fcd-9f2f-337ed9d30f0f",
   "metadata": {},
   "outputs": [
    {
     "data": {
      "image/png": "[encoded data removed]",
      "text/plain": [
       "<Figure size 640x480 with 1 Axes>"
      ]
     },
     "metadata": {},
     "output_type": "display_data"
    },
    {
     "data": {
      "text/plain": [
       "<Figure size 640x480 with 0 Axes>"
      ]
     },
     "metadata": {},
     "output_type": "display_data"
    }
   ],
   "source": [
    "sns.set(style=\"white\")\n",
    "sns.set(style=\"whitegrid\", color_codes=True)\n",
    "\n",
    "sns.countplot(x = 'TARGET_5Yrs',\n",
    "              data = df_test_predictions,\n",
    "              palette = 'hls'\n",
    "             )\n",
    "plt.show()\n",
    "plt.savefig('count_plot')\n"
   ]
  },
  {
   "cell_type": "markdown",
   "id": "a705982e-4050-4113-8373-a7da8601aabc",
   "metadata": {},
   "source": [
    "### Submit Prediction to Kaggle"
   ]
  },
  {
   "cell_type": "code",
   "execution_count": null,
   "id": "8245be77-6e60-4394-95ad-c19f5f79c1b3",
   "metadata": {},
   "outputs": [],
   "source": [
    "# Use the loaded model to make predictions \n",
    "y_test = logreg2_from_joblib.predict_proba(df_features_test)"
   ]
  },
  {
   "cell_type": "code",
   "execution_count": null,
   "id": "29925bad-c787-4074-9514-b666084719c8",
   "metadata": {},
   "outputs": [],
   "source": [
    "y_test"
   ]
  },
  {
   "cell_type": "code",
   "execution_count": null,
   "id": "bf837a58-82cc-41ae-9f00-c74c7edcdd73",
   "metadata": {},
   "outputs": [],
   "source": [
    "df_test_probabilites = pd.DataFrame(y_test, \n",
    "             columns=['TARGET_5Yrs_0',\n",
    "                 'TARGET_5Yrs'\n",
    "                     ])"
   ]
  },
  {
   "cell_type": "code",
   "execution_count": null,
   "id": "45bd647d-c5b0-4117-8a95-e8da8a50a48c",
   "metadata": {},
   "outputs": [],
   "source": [
    "df_test_probabilites.head()"
   ]
  },
  {
   "cell_type": "code",
   "execution_count": null,
   "id": "bd21cc89-53fb-48bb-a411-1acf46dad36c",
   "metadata": {},
   "outputs": [],
   "source": [
    "output = df_test.join(df_test_probabilites)\n",
    "output=output.set_index('ID')\n",
    "\n",
    "output"
   ]
  },
  {
   "cell_type": "code",
   "execution_count": null,
   "id": "186dfaf3-fe75-4dfe-a2fd-0ee40afe9617",
   "metadata": {},
   "outputs": [],
   "source": [
    "# output['TARGET_5Yrs'].to_csv('../models/nommesen_april_week2_model-logreg2.csv')"
   ]
  },
  {
   "cell_type": "code",
   "execution_count": null,
   "id": "40962716-c7c8-4b4e-8bb3-39bf0b316e9e",
   "metadata": {},
   "outputs": [],
   "source": []
  }
 ],
 "metadata": {
  "kernelspec": {
   "display_name": "Python 3 (ipykernel)",
   "language": "python",
   "name": "python3"
  },
  "language_info": {
   "codemirror_mode": {
    "name": "ipython",
    "version": 3
   },
   "file_extension": ".py",
   "mimetype": "text/x-python",
   "name": "python",
   "nbconvert_exporter": "python",
   "pygments_lexer": "ipython3",
   "version": "3.8.13"
  }
 },
 "nbformat": 4,
 "nbformat_minor": 5
}
